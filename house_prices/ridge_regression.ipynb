{
 "cells": [
  {
   "cell_type": "code",
   "execution_count": 1,
   "metadata": {},
   "outputs": [],
   "source": [
    "import pandas as pd\n",
    "import numpy as np\n",
    "import matplotlib.pyplot as plt\n",
    "import seaborn as sns\n",
    "%matplotlib inline\n",
    "import warnings\n",
    "warnings.filterwarnings('ignore')\n",
    "\n",
    "from sklearn.model_selection import train_test_split\n",
    "from sklearn.linear_model import Ridge\n",
    "from sklearn.metrics import mean_squared_error\n",
    "from sklearn.metrics import explained_variance_score\n",
    "from sklearn.model_selection import GridSearchCV\n",
    "from sklearn.metrics import r2_score"
   ]
  },
  {
   "cell_type": "code",
   "execution_count": 2,
   "metadata": {},
   "outputs": [],
   "source": [
    "train = pd.read_csv('modeling_train.csv')"
   ]
  },
  {
   "cell_type": "code",
   "execution_count": 3,
   "metadata": {},
   "outputs": [],
   "source": [
    "train['logSalePrice'] = np.log(train['SalePrice'])"
   ]
  },
  {
   "cell_type": "code",
   "execution_count": 4,
   "metadata": {},
   "outputs": [],
   "source": [
    "train['log_sq_ft'] = np.log(train['total_sq_ft'])"
   ]
  },
  {
   "cell_type": "code",
   "execution_count": 5,
   "metadata": {},
   "outputs": [],
   "source": [
    "train['log_porch_sf'] = np.log(train['total_porch_sf'] + 1)"
   ]
  },
  {
   "cell_type": "code",
   "execution_count": 6,
   "metadata": {},
   "outputs": [],
   "source": [
    "train['log_garage_area'] = np.log(train['GarageArea'] + 1)"
   ]
  },
  {
   "cell_type": "code",
   "execution_count": 7,
   "metadata": {
    "scrolled": true
   },
   "outputs": [
    {
     "data": {
      "text/html": [
       "<div>\n",
       "<style scoped>\n",
       "    .dataframe tbody tr th:only-of-type {\n",
       "        vertical-align: middle;\n",
       "    }\n",
       "\n",
       "    .dataframe tbody tr th {\n",
       "        vertical-align: top;\n",
       "    }\n",
       "\n",
       "    .dataframe thead th {\n",
       "        text-align: right;\n",
       "    }\n",
       "</style>\n",
       "<table border=\"1\" class=\"dataframe\">\n",
       "  <thead>\n",
       "    <tr style=\"text-align: right;\">\n",
       "      <th></th>\n",
       "      <th>log_sq_ft</th>\n",
       "      <th>bathrooms</th>\n",
       "      <th>TotRmsAbvGrd</th>\n",
       "      <th>log_garage_area</th>\n",
       "      <th>log_porch_sf</th>\n",
       "      <th>OverallQual_2</th>\n",
       "      <th>OverallQual_3</th>\n",
       "      <th>OverallQual_4</th>\n",
       "      <th>OverallQual_5</th>\n",
       "      <th>OverallQual_6</th>\n",
       "      <th>OverallQual_7</th>\n",
       "      <th>OverallQual_8</th>\n",
       "      <th>OverallQual_9</th>\n",
       "      <th>OverallQual_10</th>\n",
       "    </tr>\n",
       "  </thead>\n",
       "  <tbody>\n",
       "    <tr>\n",
       "      <th>0</th>\n",
       "      <td>7.789869</td>\n",
       "      <td>3.5</td>\n",
       "      <td>8</td>\n",
       "      <td>6.308098</td>\n",
       "      <td>4.127134</td>\n",
       "      <td>0</td>\n",
       "      <td>0</td>\n",
       "      <td>0</td>\n",
       "      <td>0</td>\n",
       "      <td>0</td>\n",
       "      <td>1</td>\n",
       "      <td>0</td>\n",
       "      <td>0</td>\n",
       "      <td>0</td>\n",
       "    </tr>\n",
       "    <tr>\n",
       "      <th>1</th>\n",
       "      <td>7.714231</td>\n",
       "      <td>2.5</td>\n",
       "      <td>6</td>\n",
       "      <td>6.133398</td>\n",
       "      <td>5.700444</td>\n",
       "      <td>0</td>\n",
       "      <td>0</td>\n",
       "      <td>0</td>\n",
       "      <td>0</td>\n",
       "      <td>1</td>\n",
       "      <td>0</td>\n",
       "      <td>0</td>\n",
       "      <td>0</td>\n",
       "      <td>0</td>\n",
       "    </tr>\n",
       "    <tr>\n",
       "      <th>2</th>\n",
       "      <td>7.728416</td>\n",
       "      <td>3.5</td>\n",
       "      <td>6</td>\n",
       "      <td>6.411818</td>\n",
       "      <td>3.761200</td>\n",
       "      <td>0</td>\n",
       "      <td>0</td>\n",
       "      <td>0</td>\n",
       "      <td>0</td>\n",
       "      <td>0</td>\n",
       "      <td>1</td>\n",
       "      <td>0</td>\n",
       "      <td>0</td>\n",
       "      <td>0</td>\n",
       "    </tr>\n",
       "    <tr>\n",
       "      <th>3</th>\n",
       "      <td>7.566828</td>\n",
       "      <td>2.0</td>\n",
       "      <td>7</td>\n",
       "      <td>6.466145</td>\n",
       "      <td>5.730100</td>\n",
       "      <td>0</td>\n",
       "      <td>0</td>\n",
       "      <td>0</td>\n",
       "      <td>0</td>\n",
       "      <td>0</td>\n",
       "      <td>1</td>\n",
       "      <td>0</td>\n",
       "      <td>0</td>\n",
       "      <td>0</td>\n",
       "    </tr>\n",
       "    <tr>\n",
       "      <th>4</th>\n",
       "      <td>7.956126</td>\n",
       "      <td>3.5</td>\n",
       "      <td>9</td>\n",
       "      <td>6.729824</td>\n",
       "      <td>5.624018</td>\n",
       "      <td>0</td>\n",
       "      <td>0</td>\n",
       "      <td>0</td>\n",
       "      <td>0</td>\n",
       "      <td>0</td>\n",
       "      <td>0</td>\n",
       "      <td>1</td>\n",
       "      <td>0</td>\n",
       "      <td>0</td>\n",
       "    </tr>\n",
       "  </tbody>\n",
       "</table>\n",
       "</div>"
      ],
      "text/plain": [
       "   log_sq_ft  bathrooms  TotRmsAbvGrd  log_garage_area  log_porch_sf  \\\n",
       "0   7.789869        3.5             8         6.308098      4.127134   \n",
       "1   7.714231        2.5             6         6.133398      5.700444   \n",
       "2   7.728416        3.5             6         6.411818      3.761200   \n",
       "3   7.566828        2.0             7         6.466145      5.730100   \n",
       "4   7.956126        3.5             9         6.729824      5.624018   \n",
       "\n",
       "   OverallQual_2  OverallQual_3  OverallQual_4  OverallQual_5  OverallQual_6  \\\n",
       "0              0              0              0              0              0   \n",
       "1              0              0              0              0              1   \n",
       "2              0              0              0              0              0   \n",
       "3              0              0              0              0              0   \n",
       "4              0              0              0              0              0   \n",
       "\n",
       "   OverallQual_7  OverallQual_8  OverallQual_9  OverallQual_10  \n",
       "0              1              0              0               0  \n",
       "1              0              0              0               0  \n",
       "2              1              0              0               0  \n",
       "3              1              0              0               0  \n",
       "4              0              1              0               0  "
      ]
     },
     "execution_count": 7,
     "metadata": {},
     "output_type": "execute_result"
    }
   ],
   "source": [
    "y = train[['logSalePrice']]\n",
    "X = train[['log_sq_ft','bathrooms','TotRmsAbvGrd','log_garage_area','log_porch_sf','OverallQual']]\n",
    "X = pd.get_dummies(X, columns=['OverallQual'], drop_first=True)\n",
    "X.head()"
   ]
  },
  {
   "cell_type": "code",
   "execution_count": 8,
   "metadata": {},
   "outputs": [],
   "source": [
    "X_train, X_test, y_train, y_test = train_test_split(X, y, test_size = 0.25)"
   ]
  },
  {
   "cell_type": "code",
   "execution_count": 13,
   "metadata": {},
   "outputs": [
    {
     "data": {
      "text/plain": [
       "GridSearchCV(cv=5, error_score='raise',\n",
       "       estimator=Ridge(alpha=1.0, copy_X=True, fit_intercept=True, max_iter=None,\n",
       "   normalize=False, random_state=None, solver='auto', tol=0.001),\n",
       "       fit_params=None, iid=True, n_jobs=1,\n",
       "       param_grid={'alpha': array([0.0001])}, pre_dispatch='2*n_jobs',\n",
       "       refit=True, return_train_score='warn', scoring=None, verbose=0)"
      ]
     },
     "execution_count": 13,
     "metadata": {},
     "output_type": "execute_result"
    }
   ],
   "source": [
    "model = Ridge(fit_intercept=True)\n",
    "alpha = np.arange(0.0001, 20, 100)\n",
    "param_grid = {'alpha': alpha}\n",
    "gs = GridSearchCV(model, param_grid, cv=5)\n",
    "gs.fit(X_train, y_train)"
   ]
  },
  {
   "cell_type": "code",
   "execution_count": 14,
   "metadata": {},
   "outputs": [],
   "source": [
    "pred = gs.predict(X_test)\n",
    "model_r = r2_score(y_test, pred)\n",
    "model_mse = mean_squared_error(y_test, pred)\n",
    "model_rmse = np.sqrt(model_mse)\n",
    "adjustedr = 1 - (1-model_r)*(len(y_test)-1)/(len(y_test)-X_test.shape[1]-1)"
   ]
  },
  {
   "cell_type": "code",
   "execution_count": 15,
   "metadata": {},
   "outputs": [
    {
     "name": "stdout",
     "output_type": "stream",
     "text": [
      "Model R Squared: 0.815945181692131\n",
      "Adjusted R Squared: 0.8085829889598163\n",
      "RMSE: 0.18235411663115111\n",
      "MSE: 0.033253023852327465\n"
     ]
    }
   ],
   "source": [
    "print('Model R Squared: ' + str(model_r))\n",
    "print('Adjusted R Squared: ' + str(adjustedr))\n",
    "print('RMSE: ' + str(model_rmse)) \n",
    "print('MSE: ' + str(model_mse))"
   ]
  },
  {
   "cell_type": "code",
   "execution_count": 16,
   "metadata": {},
   "outputs": [
    {
     "data": {
      "text/plain": [
       "{'alpha': 0.0001}"
      ]
     },
     "execution_count": 16,
     "metadata": {},
     "output_type": "execute_result"
    }
   ],
   "source": [
    "gs.best_params_"
   ]
  },
  {
   "cell_type": "code",
   "execution_count": 17,
   "metadata": {},
   "outputs": [],
   "source": [
    "test = pd.read_csv('modeling_test.csv')"
   ]
  },
  {
   "cell_type": "code",
   "execution_count": 18,
   "metadata": {},
   "outputs": [],
   "source": [
    "test['log_sq_ft'] = np.log(test['total_sq_ft'])\n",
    "test['log_porch_sf'] = np.log(test['total_porch_sf'] + 1)\n",
    "test['log_garage_area'] = np.log(test['GarageArea'] + 1)"
   ]
  },
  {
   "cell_type": "code",
   "execution_count": 19,
   "metadata": {},
   "outputs": [],
   "source": [
    "test_model = test[['log_sq_ft','bathrooms','TotRmsAbvGrd','log_garage_area','log_porch_sf','OverallQual']]\n",
    "test_model = pd.get_dummies(test_model, columns=['OverallQual'], drop_first=True)"
   ]
  },
  {
   "cell_type": "code",
   "execution_count": 20,
   "metadata": {},
   "outputs": [
    {
     "name": "stdout",
     "output_type": "stream",
     "text": [
      "<class 'pandas.core.frame.DataFrame'>\n",
      "RangeIndex: 1459 entries, 0 to 1458\n",
      "Data columns (total 14 columns):\n",
      "log_sq_ft          1459 non-null float64\n",
      "bathrooms          1459 non-null float64\n",
      "TotRmsAbvGrd       1459 non-null int64\n",
      "log_garage_area    1459 non-null float64\n",
      "log_porch_sf       1459 non-null float64\n",
      "OverallQual_2      1459 non-null uint8\n",
      "OverallQual_3      1459 non-null uint8\n",
      "OverallQual_4      1459 non-null uint8\n",
      "OverallQual_5      1459 non-null uint8\n",
      "OverallQual_6      1459 non-null uint8\n",
      "OverallQual_7      1459 non-null uint8\n",
      "OverallQual_8      1459 non-null uint8\n",
      "OverallQual_9      1459 non-null uint8\n",
      "OverallQual_10     1459 non-null uint8\n",
      "dtypes: float64(4), int64(1), uint8(9)\n",
      "memory usage: 69.9 KB\n"
     ]
    }
   ],
   "source": [
    "test_model.info()"
   ]
  },
  {
   "cell_type": "code",
   "execution_count": 21,
   "metadata": {},
   "outputs": [
    {
     "name": "stdout",
     "output_type": "stream",
     "text": [
      "<class 'pandas.core.frame.DataFrame'>\n",
      "Int64Index: 1095 entries, 473 to 1125\n",
      "Data columns (total 14 columns):\n",
      "log_sq_ft          1095 non-null float64\n",
      "bathrooms          1095 non-null float64\n",
      "TotRmsAbvGrd       1095 non-null int64\n",
      "log_garage_area    1095 non-null float64\n",
      "log_porch_sf       1095 non-null float64\n",
      "OverallQual_2      1095 non-null uint8\n",
      "OverallQual_3      1095 non-null uint8\n",
      "OverallQual_4      1095 non-null uint8\n",
      "OverallQual_5      1095 non-null uint8\n",
      "OverallQual_6      1095 non-null uint8\n",
      "OverallQual_7      1095 non-null uint8\n",
      "OverallQual_8      1095 non-null uint8\n",
      "OverallQual_9      1095 non-null uint8\n",
      "OverallQual_10     1095 non-null uint8\n",
      "dtypes: float64(4), int64(1), uint8(9)\n",
      "memory usage: 61.0 KB\n"
     ]
    }
   ],
   "source": [
    "X_train.info()"
   ]
  },
  {
   "cell_type": "code",
   "execution_count": 22,
   "metadata": {},
   "outputs": [],
   "source": [
    "test_pred = gs.predict(test_model)"
   ]
  },
  {
   "cell_type": "code",
   "execution_count": 23,
   "metadata": {},
   "outputs": [],
   "source": [
    "test_pred = np.exp(test_pred)"
   ]
  },
  {
   "cell_type": "code",
   "execution_count": 24,
   "metadata": {},
   "outputs": [
    {
     "data": {
      "text/plain": [
       "{'Id': array([1461, 1462, 1463, ..., 2917, 2918, 2919]),\n",
       " 'SalePrice': array([126278.02582725, 163587.05656292, 159584.12221608, ...,\n",
       "        160485.52353979, 101528.02940861, 234389.40504994])}"
      ]
     },
     "execution_count": 24,
     "metadata": {},
     "output_type": "execute_result"
    }
   ],
   "source": [
    "df_dict = {'Id':np.array(list(test['Id'])), 'SalePrice':test_pred.ravel()}\n",
    "df_dict"
   ]
  },
  {
   "cell_type": "code",
   "execution_count": 25,
   "metadata": {},
   "outputs": [
    {
     "data": {
      "text/html": [
       "<div>\n",
       "<style scoped>\n",
       "    .dataframe tbody tr th:only-of-type {\n",
       "        vertical-align: middle;\n",
       "    }\n",
       "\n",
       "    .dataframe tbody tr th {\n",
       "        vertical-align: top;\n",
       "    }\n",
       "\n",
       "    .dataframe thead th {\n",
       "        text-align: right;\n",
       "    }\n",
       "</style>\n",
       "<table border=\"1\" class=\"dataframe\">\n",
       "  <thead>\n",
       "    <tr style=\"text-align: right;\">\n",
       "      <th></th>\n",
       "      <th>Id</th>\n",
       "      <th>SalePrice</th>\n",
       "    </tr>\n",
       "  </thead>\n",
       "  <tbody>\n",
       "    <tr>\n",
       "      <th>0</th>\n",
       "      <td>1461</td>\n",
       "      <td>126278.025827</td>\n",
       "    </tr>\n",
       "    <tr>\n",
       "      <th>1</th>\n",
       "      <td>1462</td>\n",
       "      <td>163587.056563</td>\n",
       "    </tr>\n",
       "    <tr>\n",
       "      <th>2</th>\n",
       "      <td>1463</td>\n",
       "      <td>159584.122216</td>\n",
       "    </tr>\n",
       "    <tr>\n",
       "      <th>3</th>\n",
       "      <td>1464</td>\n",
       "      <td>175057.196672</td>\n",
       "    </tr>\n",
       "    <tr>\n",
       "      <th>4</th>\n",
       "      <td>1465</td>\n",
       "      <td>212739.473093</td>\n",
       "    </tr>\n",
       "  </tbody>\n",
       "</table>\n",
       "</div>"
      ],
      "text/plain": [
       "     Id      SalePrice\n",
       "0  1461  126278.025827\n",
       "1  1462  163587.056563\n",
       "2  1463  159584.122216\n",
       "3  1464  175057.196672\n",
       "4  1465  212739.473093"
      ]
     },
     "execution_count": 25,
     "metadata": {},
     "output_type": "execute_result"
    }
   ],
   "source": [
    "sol_df = pd.DataFrame.from_dict(df_dict)\n",
    "sol_df.head()"
   ]
  },
  {
   "cell_type": "code",
   "execution_count": 26,
   "metadata": {},
   "outputs": [],
   "source": [
    "sol_df[['Id','SalePrice']].to_csv('ridge1.csv', index=False)"
   ]
  },
  {
   "cell_type": "code",
   "execution_count": null,
   "metadata": {},
   "outputs": [],
   "source": []
  },
  {
   "cell_type": "code",
   "execution_count": null,
   "metadata": {},
   "outputs": [],
   "source": []
  },
  {
   "cell_type": "code",
   "execution_count": 27,
   "metadata": {
    "scrolled": true
   },
   "outputs": [
    {
     "data": {
      "text/html": [
       "<div>\n",
       "<style scoped>\n",
       "    .dataframe tbody tr th:only-of-type {\n",
       "        vertical-align: middle;\n",
       "    }\n",
       "\n",
       "    .dataframe tbody tr th {\n",
       "        vertical-align: top;\n",
       "    }\n",
       "\n",
       "    .dataframe thead th {\n",
       "        text-align: right;\n",
       "    }\n",
       "</style>\n",
       "<table border=\"1\" class=\"dataframe\">\n",
       "  <thead>\n",
       "    <tr style=\"text-align: right;\">\n",
       "      <th></th>\n",
       "      <th>log_sq_ft</th>\n",
       "      <th>bathrooms</th>\n",
       "      <th>TotRmsAbvGrd</th>\n",
       "      <th>log_garage_area</th>\n",
       "      <th>log_porch_sf</th>\n",
       "      <th>OverallQual_2</th>\n",
       "      <th>OverallQual_3</th>\n",
       "      <th>OverallQual_4</th>\n",
       "      <th>OverallQual_5</th>\n",
       "      <th>OverallQual_6</th>\n",
       "      <th>OverallQual_7</th>\n",
       "      <th>OverallQual_8</th>\n",
       "      <th>OverallQual_9</th>\n",
       "      <th>OverallQual_10</th>\n",
       "      <th>SaleCondition_AdjLand</th>\n",
       "      <th>SaleCondition_Alloca</th>\n",
       "      <th>SaleCondition_Family</th>\n",
       "      <th>SaleCondition_Normal</th>\n",
       "      <th>SaleCondition_Partial</th>\n",
       "    </tr>\n",
       "  </thead>\n",
       "  <tbody>\n",
       "    <tr>\n",
       "      <th>0</th>\n",
       "      <td>7.789869</td>\n",
       "      <td>3.5</td>\n",
       "      <td>8</td>\n",
       "      <td>6.308098</td>\n",
       "      <td>4.127134</td>\n",
       "      <td>0</td>\n",
       "      <td>0</td>\n",
       "      <td>0</td>\n",
       "      <td>0</td>\n",
       "      <td>0</td>\n",
       "      <td>1</td>\n",
       "      <td>0</td>\n",
       "      <td>0</td>\n",
       "      <td>0</td>\n",
       "      <td>0</td>\n",
       "      <td>0</td>\n",
       "      <td>0</td>\n",
       "      <td>1</td>\n",
       "      <td>0</td>\n",
       "    </tr>\n",
       "    <tr>\n",
       "      <th>1</th>\n",
       "      <td>7.714231</td>\n",
       "      <td>2.5</td>\n",
       "      <td>6</td>\n",
       "      <td>6.133398</td>\n",
       "      <td>5.700444</td>\n",
       "      <td>0</td>\n",
       "      <td>0</td>\n",
       "      <td>0</td>\n",
       "      <td>0</td>\n",
       "      <td>1</td>\n",
       "      <td>0</td>\n",
       "      <td>0</td>\n",
       "      <td>0</td>\n",
       "      <td>0</td>\n",
       "      <td>0</td>\n",
       "      <td>0</td>\n",
       "      <td>0</td>\n",
       "      <td>1</td>\n",
       "      <td>0</td>\n",
       "    </tr>\n",
       "    <tr>\n",
       "      <th>2</th>\n",
       "      <td>7.728416</td>\n",
       "      <td>3.5</td>\n",
       "      <td>6</td>\n",
       "      <td>6.411818</td>\n",
       "      <td>3.761200</td>\n",
       "      <td>0</td>\n",
       "      <td>0</td>\n",
       "      <td>0</td>\n",
       "      <td>0</td>\n",
       "      <td>0</td>\n",
       "      <td>1</td>\n",
       "      <td>0</td>\n",
       "      <td>0</td>\n",
       "      <td>0</td>\n",
       "      <td>0</td>\n",
       "      <td>0</td>\n",
       "      <td>0</td>\n",
       "      <td>1</td>\n",
       "      <td>0</td>\n",
       "    </tr>\n",
       "    <tr>\n",
       "      <th>3</th>\n",
       "      <td>7.566828</td>\n",
       "      <td>2.0</td>\n",
       "      <td>7</td>\n",
       "      <td>6.466145</td>\n",
       "      <td>5.730100</td>\n",
       "      <td>0</td>\n",
       "      <td>0</td>\n",
       "      <td>0</td>\n",
       "      <td>0</td>\n",
       "      <td>0</td>\n",
       "      <td>1</td>\n",
       "      <td>0</td>\n",
       "      <td>0</td>\n",
       "      <td>0</td>\n",
       "      <td>0</td>\n",
       "      <td>0</td>\n",
       "      <td>0</td>\n",
       "      <td>0</td>\n",
       "      <td>0</td>\n",
       "    </tr>\n",
       "    <tr>\n",
       "      <th>4</th>\n",
       "      <td>7.956126</td>\n",
       "      <td>3.5</td>\n",
       "      <td>9</td>\n",
       "      <td>6.729824</td>\n",
       "      <td>5.624018</td>\n",
       "      <td>0</td>\n",
       "      <td>0</td>\n",
       "      <td>0</td>\n",
       "      <td>0</td>\n",
       "      <td>0</td>\n",
       "      <td>0</td>\n",
       "      <td>1</td>\n",
       "      <td>0</td>\n",
       "      <td>0</td>\n",
       "      <td>0</td>\n",
       "      <td>0</td>\n",
       "      <td>0</td>\n",
       "      <td>1</td>\n",
       "      <td>0</td>\n",
       "    </tr>\n",
       "  </tbody>\n",
       "</table>\n",
       "</div>"
      ],
      "text/plain": [
       "   log_sq_ft  bathrooms  TotRmsAbvGrd  log_garage_area  log_porch_sf  \\\n",
       "0   7.789869        3.5             8         6.308098      4.127134   \n",
       "1   7.714231        2.5             6         6.133398      5.700444   \n",
       "2   7.728416        3.5             6         6.411818      3.761200   \n",
       "3   7.566828        2.0             7         6.466145      5.730100   \n",
       "4   7.956126        3.5             9         6.729824      5.624018   \n",
       "\n",
       "   OverallQual_2  OverallQual_3  OverallQual_4  OverallQual_5  OverallQual_6  \\\n",
       "0              0              0              0              0              0   \n",
       "1              0              0              0              0              1   \n",
       "2              0              0              0              0              0   \n",
       "3              0              0              0              0              0   \n",
       "4              0              0              0              0              0   \n",
       "\n",
       "   OverallQual_7  OverallQual_8  OverallQual_9  OverallQual_10  \\\n",
       "0              1              0              0               0   \n",
       "1              0              0              0               0   \n",
       "2              1              0              0               0   \n",
       "3              1              0              0               0   \n",
       "4              0              1              0               0   \n",
       "\n",
       "   SaleCondition_AdjLand  SaleCondition_Alloca  SaleCondition_Family  \\\n",
       "0                      0                     0                     0   \n",
       "1                      0                     0                     0   \n",
       "2                      0                     0                     0   \n",
       "3                      0                     0                     0   \n",
       "4                      0                     0                     0   \n",
       "\n",
       "   SaleCondition_Normal  SaleCondition_Partial  \n",
       "0                     1                      0  \n",
       "1                     1                      0  \n",
       "2                     1                      0  \n",
       "3                     0                      0  \n",
       "4                     1                      0  "
      ]
     },
     "execution_count": 27,
     "metadata": {},
     "output_type": "execute_result"
    }
   ],
   "source": [
    "y1 = train[['logSalePrice']]\n",
    "X1 = train[['log_sq_ft','bathrooms','TotRmsAbvGrd','log_garage_area','log_porch_sf','OverallQual','SaleCondition']]\n",
    "X1 = pd.get_dummies(X1, columns=['OverallQual','SaleCondition'], drop_first=True)\n",
    "X1.head()"
   ]
  },
  {
   "cell_type": "code",
   "execution_count": 28,
   "metadata": {},
   "outputs": [],
   "source": [
    "X1_train, X1_test, y1_train, y1_test = train_test_split(X1, y1, test_size = 0.25)"
   ]
  },
  {
   "cell_type": "code",
   "execution_count": 29,
   "metadata": {},
   "outputs": [
    {
     "data": {
      "text/plain": [
       "GridSearchCV(cv=5, error_score='raise',\n",
       "       estimator=Ridge(alpha=1.0, copy_X=True, fit_intercept=True, max_iter=None,\n",
       "   normalize=False, random_state=None, solver='auto', tol=0.001),\n",
       "       fit_params=None, iid=True, n_jobs=1,\n",
       "       param_grid={'alpha': array([0.0001])}, pre_dispatch='2*n_jobs',\n",
       "       refit=True, return_train_score='warn', scoring=None, verbose=0)"
      ]
     },
     "execution_count": 29,
     "metadata": {},
     "output_type": "execute_result"
    }
   ],
   "source": [
    "model1 = Ridge()\n",
    "gs1 = GridSearchCV(model, param_grid, cv=5)\n",
    "gs1.fit(X1_train, y1_train)"
   ]
  },
  {
   "cell_type": "code",
   "execution_count": 30,
   "metadata": {},
   "outputs": [],
   "source": [
    "pred1 = gs1.predict(X1_test)\n",
    "model_r1 = r2_score(y1_test, pred1)\n",
    "model_mse1 = mean_squared_error(y1_test, pred1)\n",
    "model_rmse1 = np.sqrt(model_mse)\n",
    "adjustedr1 = 1 - (1-model_r1)*(len(y1_test)-1)/(len(y1_test)-X1_test.shape[1]-1)"
   ]
  },
  {
   "cell_type": "code",
   "execution_count": 31,
   "metadata": {},
   "outputs": [
    {
     "name": "stdout",
     "output_type": "stream",
     "text": [
      "Model R Squared: 0.8580701951842047\n",
      "Adjusted R Squared: 0.8502537711508711\n",
      "RMSE: 0.18235411663115111\n",
      "MSE: 0.022150811760875324\n"
     ]
    }
   ],
   "source": [
    "print('Model R Squared: ' + str(model_r1))\n",
    "print('Adjusted R Squared: ' + str(adjustedr1))\n",
    "print('RMSE: ' + str(model_rmse1)) \n",
    "print('MSE: ' + str(model_mse1))"
   ]
  },
  {
   "cell_type": "code",
   "execution_count": 32,
   "metadata": {},
   "outputs": [],
   "source": [
    "test_model1 = test[['log_sq_ft','bathrooms','TotRmsAbvGrd','log_garage_area','log_porch_sf','OverallQual','SaleCondition']]\n",
    "test_model1 = pd.get_dummies(test_model1, columns=['OverallQual','SaleCondition'], drop_first=True)"
   ]
  },
  {
   "cell_type": "code",
   "execution_count": 33,
   "metadata": {},
   "outputs": [
    {
     "name": "stdout",
     "output_type": "stream",
     "text": [
      "<class 'pandas.core.frame.DataFrame'>\n",
      "RangeIndex: 1459 entries, 0 to 1458\n",
      "Data columns (total 19 columns):\n",
      "log_sq_ft                1459 non-null float64\n",
      "bathrooms                1459 non-null float64\n",
      "TotRmsAbvGrd             1459 non-null int64\n",
      "log_garage_area          1459 non-null float64\n",
      "log_porch_sf             1459 non-null float64\n",
      "OverallQual_2            1459 non-null uint8\n",
      "OverallQual_3            1459 non-null uint8\n",
      "OverallQual_4            1459 non-null uint8\n",
      "OverallQual_5            1459 non-null uint8\n",
      "OverallQual_6            1459 non-null uint8\n",
      "OverallQual_7            1459 non-null uint8\n",
      "OverallQual_8            1459 non-null uint8\n",
      "OverallQual_9            1459 non-null uint8\n",
      "OverallQual_10           1459 non-null uint8\n",
      "SaleCondition_AdjLand    1459 non-null uint8\n",
      "SaleCondition_Alloca     1459 non-null uint8\n",
      "SaleCondition_Family     1459 non-null uint8\n",
      "SaleCondition_Normal     1459 non-null uint8\n",
      "SaleCondition_Partial    1459 non-null uint8\n",
      "dtypes: float64(4), int64(1), uint8(14)\n",
      "memory usage: 77.0 KB\n"
     ]
    }
   ],
   "source": [
    "test_model1.info()"
   ]
  },
  {
   "cell_type": "code",
   "execution_count": 34,
   "metadata": {},
   "outputs": [
    {
     "name": "stdout",
     "output_type": "stream",
     "text": [
      "<class 'pandas.core.frame.DataFrame'>\n",
      "Int64Index: 1095 entries, 1027 to 605\n",
      "Data columns (total 19 columns):\n",
      "log_sq_ft                1095 non-null float64\n",
      "bathrooms                1095 non-null float64\n",
      "TotRmsAbvGrd             1095 non-null int64\n",
      "log_garage_area          1095 non-null float64\n",
      "log_porch_sf             1095 non-null float64\n",
      "OverallQual_2            1095 non-null uint8\n",
      "OverallQual_3            1095 non-null uint8\n",
      "OverallQual_4            1095 non-null uint8\n",
      "OverallQual_5            1095 non-null uint8\n",
      "OverallQual_6            1095 non-null uint8\n",
      "OverallQual_7            1095 non-null uint8\n",
      "OverallQual_8            1095 non-null uint8\n",
      "OverallQual_9            1095 non-null uint8\n",
      "OverallQual_10           1095 non-null uint8\n",
      "SaleCondition_AdjLand    1095 non-null uint8\n",
      "SaleCondition_Alloca     1095 non-null uint8\n",
      "SaleCondition_Family     1095 non-null uint8\n",
      "SaleCondition_Normal     1095 non-null uint8\n",
      "SaleCondition_Partial    1095 non-null uint8\n",
      "dtypes: float64(4), int64(1), uint8(14)\n",
      "memory usage: 66.3 KB\n"
     ]
    }
   ],
   "source": [
    "X1_train.info()"
   ]
  },
  {
   "cell_type": "code",
   "execution_count": 35,
   "metadata": {},
   "outputs": [],
   "source": [
    "test_pred1 = gs1.predict(test_model1)"
   ]
  },
  {
   "cell_type": "code",
   "execution_count": 36,
   "metadata": {},
   "outputs": [],
   "source": [
    "test_pred1 = np.exp(test_pred1)"
   ]
  },
  {
   "cell_type": "code",
   "execution_count": 37,
   "metadata": {},
   "outputs": [
    {
     "data": {
      "text/plain": [
       "{'Id': array([1461, 1462, 1463, ..., 2917, 2918, 2919]),\n",
       " 'SalePrice': array([126980.1585347 , 163794.02338314, 161241.99229282, ...,\n",
       "        148705.24541272, 101340.16826197, 233171.64772493])}"
      ]
     },
     "execution_count": 37,
     "metadata": {},
     "output_type": "execute_result"
    }
   ],
   "source": [
    "df_dict1 = {'Id':np.array(list(test['Id'])), 'SalePrice':test_pred1.ravel()}\n",
    "df_dict1"
   ]
  },
  {
   "cell_type": "code",
   "execution_count": 38,
   "metadata": {},
   "outputs": [
    {
     "data": {
      "text/html": [
       "<div>\n",
       "<style scoped>\n",
       "    .dataframe tbody tr th:only-of-type {\n",
       "        vertical-align: middle;\n",
       "    }\n",
       "\n",
       "    .dataframe tbody tr th {\n",
       "        vertical-align: top;\n",
       "    }\n",
       "\n",
       "    .dataframe thead th {\n",
       "        text-align: right;\n",
       "    }\n",
       "</style>\n",
       "<table border=\"1\" class=\"dataframe\">\n",
       "  <thead>\n",
       "    <tr style=\"text-align: right;\">\n",
       "      <th></th>\n",
       "      <th>Id</th>\n",
       "      <th>SalePrice</th>\n",
       "    </tr>\n",
       "  </thead>\n",
       "  <tbody>\n",
       "    <tr>\n",
       "      <th>0</th>\n",
       "      <td>1461</td>\n",
       "      <td>126980.158535</td>\n",
       "    </tr>\n",
       "    <tr>\n",
       "      <th>1</th>\n",
       "      <td>1462</td>\n",
       "      <td>163794.023383</td>\n",
       "    </tr>\n",
       "    <tr>\n",
       "      <th>2</th>\n",
       "      <td>1463</td>\n",
       "      <td>161241.992293</td>\n",
       "    </tr>\n",
       "    <tr>\n",
       "      <th>3</th>\n",
       "      <td>1464</td>\n",
       "      <td>176924.299153</td>\n",
       "    </tr>\n",
       "    <tr>\n",
       "      <th>4</th>\n",
       "      <td>1465</td>\n",
       "      <td>205785.217455</td>\n",
       "    </tr>\n",
       "  </tbody>\n",
       "</table>\n",
       "</div>"
      ],
      "text/plain": [
       "     Id      SalePrice\n",
       "0  1461  126980.158535\n",
       "1  1462  163794.023383\n",
       "2  1463  161241.992293\n",
       "3  1464  176924.299153\n",
       "4  1465  205785.217455"
      ]
     },
     "execution_count": 38,
     "metadata": {},
     "output_type": "execute_result"
    }
   ],
   "source": [
    "sol_df1 = pd.DataFrame.from_dict(df_dict1)\n",
    "sol_df1.head()"
   ]
  },
  {
   "cell_type": "code",
   "execution_count": 39,
   "metadata": {},
   "outputs": [],
   "source": [
    "sol_df1[['Id','SalePrice']].to_csv('ridge2.csv', index=False)"
   ]
  },
  {
   "cell_type": "code",
   "execution_count": null,
   "metadata": {},
   "outputs": [],
   "source": []
  }
 ],
 "metadata": {
  "kernelspec": {
   "display_name": "Python 3",
   "language": "python",
   "name": "python3"
  },
  "language_info": {
   "codemirror_mode": {
    "name": "ipython",
    "version": 3
   },
   "file_extension": ".py",
   "mimetype": "text/x-python",
   "name": "python",
   "nbconvert_exporter": "python",
   "pygments_lexer": "ipython3",
   "version": "3.6.5"
  }
 },
 "nbformat": 4,
 "nbformat_minor": 2
}
