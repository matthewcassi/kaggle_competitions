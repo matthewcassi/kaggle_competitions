{
 "cells": [
  {
   "cell_type": "code",
   "execution_count": 120,
   "metadata": {
    "collapsed": true
   },
   "outputs": [],
   "source": [
    "import pandas as pd\n",
    "import numpy as np\n",
    "import collections\n",
    "import matplotlib.pyplot as plt\n",
    "%matplotlib inline\n",
    "import nltk\n",
    "from nltk import FreqDist\n",
    "from wordcloud import WordCloud\n",
    "import seaborn as sns"
   ]
  },
  {
   "cell_type": "code",
   "execution_count": 10,
   "metadata": {
    "collapsed": true
   },
   "outputs": [],
   "source": [
    "training = pd.read_csv('train.csv')\n",
    "resources = pd.read_csv('cleaned_resources.csv')"
   ]
  },
  {
   "cell_type": "code",
   "execution_count": 11,
   "metadata": {
    "collapsed": true
   },
   "outputs": [],
   "source": [
    "resources = resources.drop(['Unnamed: 0'], 1)"
   ]
  },
  {
   "cell_type": "code",
   "execution_count": 12,
   "metadata": {},
   "outputs": [
    {
     "name": "stdout",
     "output_type": "stream",
     "text": [
      "<class 'pandas.core.frame.DataFrame'>\n",
      "RangeIndex: 182080 entries, 0 to 182079\n",
      "Data columns (total 16 columns):\n",
      "id                                              182080 non-null object\n",
      "teacher_id                                      182080 non-null object\n",
      "teacher_prefix                                  182076 non-null object\n",
      "school_state                                    182080 non-null object\n",
      "project_submitted_datetime                      182080 non-null object\n",
      "project_grade_category                          182080 non-null object\n",
      "project_subject_categories                      182080 non-null object\n",
      "project_subject_subcategories                   182080 non-null object\n",
      "project_title                                   182080 non-null object\n",
      "project_essay_1                                 182080 non-null object\n",
      "project_essay_2                                 182080 non-null object\n",
      "project_essay_3                                 6374 non-null object\n",
      "project_essay_4                                 6374 non-null object\n",
      "project_resource_summary                        182080 non-null object\n",
      "teacher_number_of_previously_posted_projects    182080 non-null int64\n",
      "project_is_approved                             182080 non-null int64\n",
      "dtypes: int64(2), object(14)\n",
      "memory usage: 22.2+ MB\n"
     ]
    }
   ],
   "source": [
    "training.info()"
   ]
  },
  {
   "cell_type": "code",
   "execution_count": 13,
   "metadata": {},
   "outputs": [
    {
     "name": "stdout",
     "output_type": "stream",
     "text": [
      "<class 'pandas.core.frame.DataFrame'>\n",
      "RangeIndex: 260115 entries, 0 to 260114\n",
      "Data columns (total 3 columns):\n",
      "id             260115 non-null object\n",
      "quantity       260115 non-null int64\n",
      "total_price    260115 non-null float64\n",
      "dtypes: float64(1), int64(1), object(1)\n",
      "memory usage: 6.0+ MB\n"
     ]
    }
   ],
   "source": [
    "resources.info()"
   ]
  },
  {
   "cell_type": "code",
   "execution_count": 14,
   "metadata": {
    "collapsed": true
   },
   "outputs": [],
   "source": [
    "training['project_submitted_datetime'] = pd.to_datetime(training['project_submitted_datetime'])"
   ]
  },
  {
   "cell_type": "code",
   "execution_count": 15,
   "metadata": {
    "collapsed": true
   },
   "outputs": [],
   "source": [
    "training = training.merge(resources, how='left', left_on='id', right_on='id')"
   ]
  },
  {
   "cell_type": "code",
   "execution_count": 84,
   "metadata": {},
   "outputs": [
    {
     "data": {
      "text/html": [
       "<div>\n",
       "<style>\n",
       "    .dataframe thead tr:only-child th {\n",
       "        text-align: right;\n",
       "    }\n",
       "\n",
       "    .dataframe thead th {\n",
       "        text-align: left;\n",
       "    }\n",
       "\n",
       "    .dataframe tbody tr th {\n",
       "        vertical-align: top;\n",
       "    }\n",
       "</style>\n",
       "<table border=\"1\" class=\"dataframe\">\n",
       "  <thead>\n",
       "    <tr style=\"text-align: right;\">\n",
       "      <th></th>\n",
       "      <th>id</th>\n",
       "      <th>teacher_id</th>\n",
       "      <th>teacher_prefix</th>\n",
       "      <th>school_state</th>\n",
       "      <th>project_submitted_datetime</th>\n",
       "      <th>project_grade_category</th>\n",
       "      <th>project_title</th>\n",
       "      <th>project_essay_1</th>\n",
       "      <th>project_essay_2</th>\n",
       "      <th>project_essay_3</th>\n",
       "      <th>...</th>\n",
       "      <th>Music</th>\n",
       "      <th>Nutrition Education</th>\n",
       "      <th>Other</th>\n",
       "      <th>Parent Involvement</th>\n",
       "      <th>Performing Arts</th>\n",
       "      <th>Social Sciences</th>\n",
       "      <th>Special Needs_y</th>\n",
       "      <th>Team Sports</th>\n",
       "      <th>Visual Arts</th>\n",
       "      <th>Warmth Care &amp; Hunger_y</th>\n",
       "    </tr>\n",
       "  </thead>\n",
       "  <tbody>\n",
       "    <tr>\n",
       "      <th>0</th>\n",
       "      <td>p036502</td>\n",
       "      <td>484aaf11257089a66cfedc9461c6bd0a</td>\n",
       "      <td>Ms.</td>\n",
       "      <td>NV</td>\n",
       "      <td>2016-11-18 14:45:59</td>\n",
       "      <td>Grades PreK-2</td>\n",
       "      <td>Super Sight Word Centers</td>\n",
       "      <td>Most of my kindergarten students come from low...</td>\n",
       "      <td>I currently have a differentiated sight word c...</td>\n",
       "      <td>NaN</td>\n",
       "      <td>...</td>\n",
       "      <td>0.0</td>\n",
       "      <td>0.0</td>\n",
       "      <td>0.0</td>\n",
       "      <td>0.0</td>\n",
       "      <td>0.0</td>\n",
       "      <td>0.0</td>\n",
       "      <td>0.0</td>\n",
       "      <td>0.0</td>\n",
       "      <td>0.0</td>\n",
       "      <td>0.0</td>\n",
       "    </tr>\n",
       "    <tr>\n",
       "      <th>1</th>\n",
       "      <td>p039565</td>\n",
       "      <td>df72a3ba8089423fa8a94be88060f6ed</td>\n",
       "      <td>Mrs.</td>\n",
       "      <td>GA</td>\n",
       "      <td>2017-04-26 15:57:28</td>\n",
       "      <td>Grades 3-5</td>\n",
       "      <td>Keep Calm and Dance On</td>\n",
       "      <td>Our elementary school is a culturally rich sch...</td>\n",
       "      <td>We strive to provide our diverse population of...</td>\n",
       "      <td>NaN</td>\n",
       "      <td>...</td>\n",
       "      <td>0.0</td>\n",
       "      <td>0.0</td>\n",
       "      <td>0.0</td>\n",
       "      <td>0.0</td>\n",
       "      <td>1.0</td>\n",
       "      <td>0.0</td>\n",
       "      <td>0.0</td>\n",
       "      <td>1.0</td>\n",
       "      <td>0.0</td>\n",
       "      <td>0.0</td>\n",
       "    </tr>\n",
       "    <tr>\n",
       "      <th>2</th>\n",
       "      <td>p233823</td>\n",
       "      <td>a9b876a9252e08a55e3d894150f75ba3</td>\n",
       "      <td>Ms.</td>\n",
       "      <td>UT</td>\n",
       "      <td>2017-01-01 22:57:44</td>\n",
       "      <td>Grades 3-5</td>\n",
       "      <td>Lets 3Doodle to Learn</td>\n",
       "      <td>Hello;\\r\\nMy name is Mrs. Brotherton. I teach ...</td>\n",
       "      <td>We are looking to add some 3Doodler to our cla...</td>\n",
       "      <td>NaN</td>\n",
       "      <td>...</td>\n",
       "      <td>0.0</td>\n",
       "      <td>0.0</td>\n",
       "      <td>0.0</td>\n",
       "      <td>0.0</td>\n",
       "      <td>0.0</td>\n",
       "      <td>0.0</td>\n",
       "      <td>0.0</td>\n",
       "      <td>0.0</td>\n",
       "      <td>0.0</td>\n",
       "      <td>0.0</td>\n",
       "    </tr>\n",
       "    <tr>\n",
       "      <th>3</th>\n",
       "      <td>p185307</td>\n",
       "      <td>525fdbb6ec7f538a48beebaa0a51b24f</td>\n",
       "      <td>Mr.</td>\n",
       "      <td>NC</td>\n",
       "      <td>2016-08-12 15:42:11</td>\n",
       "      <td>Grades 3-5</td>\n",
       "      <td>\\\"Kid Inspired\\\" Equipment to Increase Activit...</td>\n",
       "      <td>My students are the greatest students but are ...</td>\n",
       "      <td>The student's project which is totally \\\"kid-i...</td>\n",
       "      <td>NaN</td>\n",
       "      <td>...</td>\n",
       "      <td>0.0</td>\n",
       "      <td>0.0</td>\n",
       "      <td>0.0</td>\n",
       "      <td>0.0</td>\n",
       "      <td>0.0</td>\n",
       "      <td>0.0</td>\n",
       "      <td>0.0</td>\n",
       "      <td>0.0</td>\n",
       "      <td>0.0</td>\n",
       "      <td>0.0</td>\n",
       "    </tr>\n",
       "    <tr>\n",
       "      <th>4</th>\n",
       "      <td>p013780</td>\n",
       "      <td>a63b5547a7239eae4c1872670848e61a</td>\n",
       "      <td>Mr.</td>\n",
       "      <td>CA</td>\n",
       "      <td>2016-08-06 09:09:11</td>\n",
       "      <td>Grades 6-8</td>\n",
       "      <td>We need clean water for our culinary arts class!</td>\n",
       "      <td>My students are athletes and students who are ...</td>\n",
       "      <td>For some reason in our kitchen the water comes...</td>\n",
       "      <td>NaN</td>\n",
       "      <td>...</td>\n",
       "      <td>0.0</td>\n",
       "      <td>0.0</td>\n",
       "      <td>0.0</td>\n",
       "      <td>0.0</td>\n",
       "      <td>0.0</td>\n",
       "      <td>0.0</td>\n",
       "      <td>0.0</td>\n",
       "      <td>0.0</td>\n",
       "      <td>0.0</td>\n",
       "      <td>0.0</td>\n",
       "    </tr>\n",
       "  </tbody>\n",
       "</table>\n",
       "<p>5 rows × 53 columns</p>\n",
       "</div>"
      ],
      "text/plain": [
       "        id                        teacher_id teacher_prefix school_state  \\\n",
       "0  p036502  484aaf11257089a66cfedc9461c6bd0a            Ms.           NV   \n",
       "1  p039565  df72a3ba8089423fa8a94be88060f6ed           Mrs.           GA   \n",
       "2  p233823  a9b876a9252e08a55e3d894150f75ba3            Ms.           UT   \n",
       "3  p185307  525fdbb6ec7f538a48beebaa0a51b24f            Mr.           NC   \n",
       "4  p013780  a63b5547a7239eae4c1872670848e61a            Mr.           CA   \n",
       "\n",
       "  project_submitted_datetime project_grade_category  \\\n",
       "0        2016-11-18 14:45:59          Grades PreK-2   \n",
       "1        2017-04-26 15:57:28             Grades 3-5   \n",
       "2        2017-01-01 22:57:44             Grades 3-5   \n",
       "3        2016-08-12 15:42:11             Grades 3-5   \n",
       "4        2016-08-06 09:09:11             Grades 6-8   \n",
       "\n",
       "                                       project_title  \\\n",
       "0                           Super Sight Word Centers   \n",
       "1                             Keep Calm and Dance On   \n",
       "2                              Lets 3Doodle to Learn   \n",
       "3  \\\"Kid Inspired\\\" Equipment to Increase Activit...   \n",
       "4   We need clean water for our culinary arts class!   \n",
       "\n",
       "                                     project_essay_1  \\\n",
       "0  Most of my kindergarten students come from low...   \n",
       "1  Our elementary school is a culturally rich sch...   \n",
       "2  Hello;\\r\\nMy name is Mrs. Brotherton. I teach ...   \n",
       "3  My students are the greatest students but are ...   \n",
       "4  My students are athletes and students who are ...   \n",
       "\n",
       "                                     project_essay_2 project_essay_3  \\\n",
       "0  I currently have a differentiated sight word c...             NaN   \n",
       "1  We strive to provide our diverse population of...             NaN   \n",
       "2  We are looking to add some 3Doodler to our cla...             NaN   \n",
       "3  The student's project which is totally \\\"kid-i...             NaN   \n",
       "4  For some reason in our kitchen the water comes...             NaN   \n",
       "\n",
       "            ...           Music Nutrition Education  Other  \\\n",
       "0           ...             0.0                 0.0    0.0   \n",
       "1           ...             0.0                 0.0    0.0   \n",
       "2           ...             0.0                 0.0    0.0   \n",
       "3           ...             0.0                 0.0    0.0   \n",
       "4           ...             0.0                 0.0    0.0   \n",
       "\n",
       "   Parent Involvement  Performing Arts  Social Sciences  Special Needs_y  \\\n",
       "0                 0.0              0.0              0.0              0.0   \n",
       "1                 0.0              1.0              0.0              0.0   \n",
       "2                 0.0              0.0              0.0              0.0   \n",
       "3                 0.0              0.0              0.0              0.0   \n",
       "4                 0.0              0.0              0.0              0.0   \n",
       "\n",
       "   Team Sports  Visual Arts  Warmth Care & Hunger_y  \n",
       "0          0.0          0.0                     0.0  \n",
       "1          1.0          0.0                     0.0  \n",
       "2          0.0          0.0                     0.0  \n",
       "3          0.0          0.0                     0.0  \n",
       "4          0.0          0.0                     0.0  \n",
       "\n",
       "[5 rows x 53 columns]"
      ]
     },
     "execution_count": 84,
     "metadata": {},
     "output_type": "execute_result"
    }
   ],
   "source": [
    "training.head()"
   ]
  },
  {
   "cell_type": "code",
   "execution_count": 17,
   "metadata": {},
   "outputs": [
    {
     "data": {
      "text/plain": [
       "1    154346\n",
       "0     27734\n",
       "Name: project_is_approved, dtype: int64"
      ]
     },
     "execution_count": 17,
     "metadata": {},
     "output_type": "execute_result"
    }
   ],
   "source": [
    "training['project_is_approved'].value_counts()"
   ]
  },
  {
   "cell_type": "code",
   "execution_count": 18,
   "metadata": {},
   "outputs": [
    {
     "data": {
      "image/png": "[encoded data removed]",
      "text/plain": [
       "<matplotlib.figure.Figure at 0x10a6d8a58>"
      ]
     },
     "metadata": {},
     "output_type": "display_data"
    }
   ],
   "source": [
    "sns.countplot(x='project_is_approved', data=training)\n",
    "plt.show()"
   ]
  },
  {
   "cell_type": "code",
   "execution_count": 19,
   "metadata": {
    "scrolled": false
   },
   "outputs": [
    {
     "data": {
      "text/html": [
       "<div>\n",
       "<style>\n",
       "    .dataframe thead tr:only-child th {\n",
       "        text-align: right;\n",
       "    }\n",
       "\n",
       "    .dataframe thead th {\n",
       "        text-align: left;\n",
       "    }\n",
       "\n",
       "    .dataframe tbody tr th {\n",
       "        vertical-align: top;\n",
       "    }\n",
       "</style>\n",
       "<table border=\"1\" class=\"dataframe\">\n",
       "  <thead>\n",
       "    <tr style=\"text-align: right;\">\n",
       "      <th></th>\n",
       "      <th>teacher_number_of_previously_posted_projects</th>\n",
       "      <th>project_is_approved</th>\n",
       "      <th>quantity</th>\n",
       "      <th>total_price</th>\n",
       "    </tr>\n",
       "  </thead>\n",
       "  <tbody>\n",
       "    <tr>\n",
       "      <th>count</th>\n",
       "      <td>182080.000000</td>\n",
       "      <td>182080.000000</td>\n",
       "      <td>182080.000000</td>\n",
       "      <td>182080.000000</td>\n",
       "    </tr>\n",
       "    <tr>\n",
       "      <th>mean</th>\n",
       "      <td>11.237055</td>\n",
       "      <td>0.847682</td>\n",
       "      <td>16.971447</td>\n",
       "      <td>545.748958</td>\n",
       "    </tr>\n",
       "    <tr>\n",
       "      <th>std</th>\n",
       "      <td>28.016086</td>\n",
       "      <td>0.359330</td>\n",
       "      <td>26.241957</td>\n",
       "      <td>548.198713</td>\n",
       "    </tr>\n",
       "    <tr>\n",
       "      <th>min</th>\n",
       "      <td>0.000000</td>\n",
       "      <td>0.000000</td>\n",
       "      <td>1.000000</td>\n",
       "      <td>100.000000</td>\n",
       "    </tr>\n",
       "    <tr>\n",
       "      <th>25%</th>\n",
       "      <td>0.000000</td>\n",
       "      <td>1.000000</td>\n",
       "      <td>4.000000</td>\n",
       "      <td>245.997500</td>\n",
       "    </tr>\n",
       "    <tr>\n",
       "      <th>50%</th>\n",
       "      <td>2.000000</td>\n",
       "      <td>1.000000</td>\n",
       "      <td>9.000000</td>\n",
       "      <td>397.750000</td>\n",
       "    </tr>\n",
       "    <tr>\n",
       "      <th>75%</th>\n",
       "      <td>9.000000</td>\n",
       "      <td>1.000000</td>\n",
       "      <td>21.000000</td>\n",
       "      <td>691.920000</td>\n",
       "    </tr>\n",
       "    <tr>\n",
       "      <th>max</th>\n",
       "      <td>451.000000</td>\n",
       "      <td>1.000000</td>\n",
       "      <td>930.000000</td>\n",
       "      <td>15299.690000</td>\n",
       "    </tr>\n",
       "  </tbody>\n",
       "</table>\n",
       "</div>"
      ],
      "text/plain": [
       "       teacher_number_of_previously_posted_projects  project_is_approved  \\\n",
       "count                                 182080.000000        182080.000000   \n",
       "mean                                      11.237055             0.847682   \n",
       "std                                       28.016086             0.359330   \n",
       "min                                        0.000000             0.000000   \n",
       "25%                                        0.000000             1.000000   \n",
       "50%                                        2.000000             1.000000   \n",
       "75%                                        9.000000             1.000000   \n",
       "max                                      451.000000             1.000000   \n",
       "\n",
       "            quantity    total_price  \n",
       "count  182080.000000  182080.000000  \n",
       "mean       16.971447     545.748958  \n",
       "std        26.241957     548.198713  \n",
       "min         1.000000     100.000000  \n",
       "25%         4.000000     245.997500  \n",
       "50%         9.000000     397.750000  \n",
       "75%        21.000000     691.920000  \n",
       "max       930.000000   15299.690000  "
      ]
     },
     "execution_count": 19,
     "metadata": {},
     "output_type": "execute_result"
    }
   ],
   "source": [
    "training.describe()"
   ]
  },
  {
   "cell_type": "code",
   "execution_count": 20,
   "metadata": {},
   "outputs": [
    {
     "data": {
      "image/png": "[encoded data removed]",
      "text/plain": [
       "<matplotlib.figure.Figure at 0x1a25c4ad68>"
      ]
     },
     "metadata": {},
     "output_type": "display_data"
    }
   ],
   "source": [
    "sns.boxplot(training['teacher_number_of_previously_posted_projects'], orient='v')\n",
    "plt.show()"
   ]
  },
  {
   "cell_type": "code",
   "execution_count": 21,
   "metadata": {},
   "outputs": [
    {
     "data": {
      "text/plain": [
       "<matplotlib.axes._subplots.AxesSubplot at 0x1a2b6ba160>"
      ]
     },
     "execution_count": 21,
     "metadata": {},
     "output_type": "execute_result"
    },
    {
     "data": {
      "image/png": "[encoded data removed]",
      "text/plain": [
       "<matplotlib.figure.Figure at 0x1a1e041a58>"
      ]
     },
     "metadata": {},
     "output_type": "display_data"
    }
   ],
   "source": [
    "training['teacher_number_of_previously_posted_projects'].plot.hist(bins=20)"
   ]
  },
  {
   "cell_type": "code",
   "execution_count": 22,
   "metadata": {},
   "outputs": [
    {
     "name": "stderr",
     "output_type": "stream",
     "text": [
      "/anaconda/lib/python3.6/site-packages/ipykernel_launcher.py:1: RuntimeWarning: divide by zero encountered in log\n",
      "  \"\"\"Entry point for launching an IPython kernel.\n"
     ]
    },
    {
     "data": {
      "image/png": "[encoded data removed]",
      "text/plain": [
       "<matplotlib.figure.Figure at 0x1a16091eb8>"
      ]
     },
     "metadata": {},
     "output_type": "display_data"
    }
   ],
   "source": [
    "log_project = pd.DataFrame(np.log(training[['teacher_number_of_previously_posted_projects']]))\n",
    "\n",
    "log_project[log_project['teacher_number_of_previously_posted_projects'] != -float('inf')].plot.hist(bins=10)\n",
    "plt.show()"
   ]
  },
  {
   "cell_type": "code",
   "execution_count": 23,
   "metadata": {},
   "outputs": [
    {
     "data": {
      "text/plain": [
       "(11.237055140597539, 28.01608601938684)"
      ]
     },
     "execution_count": 23,
     "metadata": {},
     "output_type": "execute_result"
    }
   ],
   "source": [
    "training['teacher_number_of_previously_posted_projects'].mean(), training['teacher_number_of_previously_posted_projects'].std()"
   ]
  },
  {
   "cell_type": "code",
   "execution_count": 24,
   "metadata": {},
   "outputs": [
    {
     "data": {
      "text/plain": [
       "67.27"
      ]
     },
     "execution_count": 24,
     "metadata": {},
     "output_type": "execute_result"
    }
   ],
   "source": [
    "11.23 + (28.02 * 2)"
   ]
  },
  {
   "cell_type": "code",
   "execution_count": 25,
   "metadata": {
    "collapsed": true
   },
   "outputs": [],
   "source": [
    "training = training[training['teacher_number_of_previously_posted_projects'] < 67.27]"
   ]
  },
  {
   "cell_type": "code",
   "execution_count": 26,
   "metadata": {},
   "outputs": [
    {
     "data": {
      "image/png": "[encoded data removed]",
      "text/plain": [
       "<matplotlib.figure.Figure at 0x1a166cdda0>"
      ]
     },
     "metadata": {},
     "output_type": "display_data"
    }
   ],
   "source": [
    "sns.boxplot(training['teacher_number_of_previously_posted_projects'], orient='v')\n",
    "plt.show()"
   ]
  },
  {
   "cell_type": "code",
   "execution_count": 27,
   "metadata": {},
   "outputs": [
    {
     "data": {
      "text/plain": [
       "count    175379.000000\n",
       "mean          6.835625\n",
       "std          11.533715\n",
       "min           0.000000\n",
       "25%           0.000000\n",
       "50%           2.000000\n",
       "75%           7.000000\n",
       "max          67.000000\n",
       "Name: teacher_number_of_previously_posted_projects, dtype: float64"
      ]
     },
     "execution_count": 27,
     "metadata": {},
     "output_type": "execute_result"
    }
   ],
   "source": [
    "training['teacher_number_of_previously_posted_projects'].describe()"
   ]
  },
  {
   "cell_type": "code",
   "execution_count": 28,
   "metadata": {},
   "outputs": [
    {
     "data": {
      "image/png": "[encoded data removed]",
      "text/plain": [
       "<matplotlib.figure.Figure at 0x1a17e6a978>"
      ]
     },
     "metadata": {},
     "output_type": "display_data"
    }
   ],
   "source": [
    "sns.boxplot(training['quantity'], orient='v')\n",
    "plt.show()"
   ]
  },
  {
   "cell_type": "code",
   "execution_count": 29,
   "metadata": {},
   "outputs": [
    {
     "data": {
      "text/plain": [
       "(16.915024033664235, 26.212416282914326)"
      ]
     },
     "execution_count": 29,
     "metadata": {},
     "output_type": "execute_result"
    }
   ],
   "source": [
    "training['quantity'].mean(), training['quantity'].std()"
   ]
  },
  {
   "cell_type": "code",
   "execution_count": 30,
   "metadata": {},
   "outputs": [
    {
     "data": {
      "text/plain": [
       "69.32"
      ]
     },
     "execution_count": 30,
     "metadata": {},
     "output_type": "execute_result"
    }
   ],
   "source": [
    "16.92 + (2 * 26.2)"
   ]
  },
  {
   "cell_type": "code",
   "execution_count": 31,
   "metadata": {},
   "outputs": [
    {
     "data": {
      "text/plain": [
       "6063"
      ]
     },
     "execution_count": 31,
     "metadata": {},
     "output_type": "execute_result"
    }
   ],
   "source": [
    "len(training[training['quantity'] > 69.32])"
   ]
  },
  {
   "cell_type": "code",
   "execution_count": 32,
   "metadata": {
    "collapsed": true
   },
   "outputs": [],
   "source": [
    "training = training[training['quantity'] < 69.32]"
   ]
  },
  {
   "cell_type": "code",
   "execution_count": 33,
   "metadata": {},
   "outputs": [
    {
     "data": {
      "image/png": "[encoded data removed]",
      "text/plain": [
       "<matplotlib.figure.Figure at 0x1a174655c0>"
      ]
     },
     "metadata": {},
     "output_type": "display_data"
    }
   ],
   "source": [
    "sns.boxplot(training['quantity'], orient='v')\n",
    "plt.show()"
   ]
  },
  {
   "cell_type": "code",
   "execution_count": 34,
   "metadata": {},
   "outputs": [
    {
     "data": {
      "text/plain": [
       "(537.268108861507, 533.0489545172296)"
      ]
     },
     "execution_count": 34,
     "metadata": {},
     "output_type": "execute_result"
    }
   ],
   "source": [
    "training['total_price'].mean(), training['total_price'].std()"
   ]
  },
  {
   "cell_type": "code",
   "execution_count": 35,
   "metadata": {},
   "outputs": [
    {
     "data": {
      "text/plain": [
       "1603.37"
      ]
     },
     "execution_count": 35,
     "metadata": {},
     "output_type": "execute_result"
    }
   ],
   "source": [
    "537.27 + (2 * 533.05)"
   ]
  },
  {
   "cell_type": "code",
   "execution_count": 36,
   "metadata": {},
   "outputs": [
    {
     "data": {
      "text/plain": [
       "6288"
      ]
     },
     "execution_count": 36,
     "metadata": {},
     "output_type": "execute_result"
    }
   ],
   "source": [
    "len(training[training['total_price'] > 1603.37])"
   ]
  },
  {
   "cell_type": "code",
   "execution_count": 37,
   "metadata": {},
   "outputs": [
    {
     "data": {
      "image/png": "[encoded data removed]",
      "text/plain": [
       "<matplotlib.figure.Figure at 0x1a1747e5c0>"
      ]
     },
     "metadata": {},
     "output_type": "display_data"
    }
   ],
   "source": [
    "sns.boxplot(training['total_price'], orient='v')\n",
    "plt.show()"
   ]
  },
  {
   "cell_type": "code",
   "execution_count": 38,
   "metadata": {
    "collapsed": true
   },
   "outputs": [],
   "source": [
    "training = training[training['total_price'] < 1603.37]"
   ]
  },
  {
   "cell_type": "code",
   "execution_count": 39,
   "metadata": {},
   "outputs": [
    {
     "data": {
      "image/png": "[encoded data removed]",
      "text/plain": [
       "<matplotlib.figure.Figure at 0x1a20a04f98>"
      ]
     },
     "metadata": {},
     "output_type": "display_data"
    }
   ],
   "source": [
    "sns.boxplot(training['total_price'], orient='v')\n",
    "plt.show()"
   ]
  },
  {
   "cell_type": "code",
   "execution_count": 40,
   "metadata": {},
   "outputs": [
    {
     "data": {
      "image/png": "[encoded data removed]",
      "text/plain": [
       "<matplotlib.figure.Figure at 0x1a1698c780>"
      ]
     },
     "metadata": {},
     "output_type": "display_data"
    }
   ],
   "source": [
    "import seaborn as sns\n",
    "plt.figure(figsize=(15,10))\n",
    "plt.subplot(2,1,1)\n",
    "sns.countplot(x='school_state', data=training)\n",
    "\n",
    "plt.subplot(2,1,2)\n",
    "sns.countplot(x='school_state', hue='project_is_approved', data=training)\n",
    "\n",
    "plt.tight_layout()\n",
    "plt.show()"
   ]
  },
  {
   "cell_type": "code",
   "execution_count": 46,
   "metadata": {
    "collapsed": true
   },
   "outputs": [],
   "source": [
    "state_counts = pd.DataFrame(training['school_state'].value_counts())"
   ]
  },
  {
   "cell_type": "code",
   "execution_count": 48,
   "metadata": {},
   "outputs": [
    {
     "data": {
      "text/html": [
       "<div>\n",
       "<style>\n",
       "    .dataframe thead tr:only-child th {\n",
       "        text-align: right;\n",
       "    }\n",
       "\n",
       "    .dataframe thead th {\n",
       "        text-align: left;\n",
       "    }\n",
       "\n",
       "    .dataframe tbody tr th {\n",
       "        vertical-align: top;\n",
       "    }\n",
       "</style>\n",
       "<table border=\"1\" class=\"dataframe\">\n",
       "  <thead>\n",
       "    <tr style=\"text-align: right;\">\n",
       "      <th></th>\n",
       "      <th>school_state</th>\n",
       "      <th>state</th>\n",
       "    </tr>\n",
       "  </thead>\n",
       "  <tbody>\n",
       "    <tr>\n",
       "      <th>0</th>\n",
       "      <td>22209</td>\n",
       "      <td>CA</td>\n",
       "    </tr>\n",
       "    <tr>\n",
       "      <th>1</th>\n",
       "      <td>11236</td>\n",
       "      <td>TX</td>\n",
       "    </tr>\n",
       "    <tr>\n",
       "      <th>2</th>\n",
       "      <td>9936</td>\n",
       "      <td>NY</td>\n",
       "    </tr>\n",
       "    <tr>\n",
       "      <th>3</th>\n",
       "      <td>9481</td>\n",
       "      <td>FL</td>\n",
       "    </tr>\n",
       "    <tr>\n",
       "      <th>4</th>\n",
       "      <td>7500</td>\n",
       "      <td>NC</td>\n",
       "    </tr>\n",
       "  </tbody>\n",
       "</table>\n",
       "</div>"
      ],
      "text/plain": [
       "   school_state state\n",
       "0         22209    CA\n",
       "1         11236    TX\n",
       "2          9936    NY\n",
       "3          9481    FL\n",
       "4          7500    NC"
      ]
     },
     "execution_count": 48,
     "metadata": {},
     "output_type": "execute_result"
    }
   ],
   "source": [
    "state_counts['state'] = state_counts.index\n",
    "state_counts.reset_index(drop=True, inplace=True)\n",
    "state_counts.head()"
   ]
  },
  {
   "cell_type": "code",
   "execution_count": 56,
   "metadata": {},
   "outputs": [
    {
     "name": "stdout",
     "output_type": "stream",
     "text": [
      "High five! You successfully sent some data to your account on plotly. View your plot in your browser at https://plot.ly/~matthewcassi/0 or inside your plot.ly account where it is named 'donors_choose'\n"
     ]
    },
    {
     "data": {
      "text/html": [
       "<iframe id=\"igraph\" scrolling=\"no\" style=\"border:none;\" seamless=\"seamless\" src=\"https://plot.ly/~matthewcassi/0.embed\" height=\"525px\" width=\"100%\"></iframe>"
      ],
      "text/plain": [
       "<plotly.tools.PlotlyDisplay object>"
      ]
     },
     "execution_count": 56,
     "metadata": {},
     "output_type": "execute_result"
    }
   ],
   "source": [
    "import plotly as py\n",
    "py.tools.set_credentials_file(username='matthewcassi', api_key='FRBXjPQX0Xkx8wtIerG0')\n",
    "\n",
    "scl = [[0.0, 'rgb(242,240,247)'],[0.2, 'rgb(218,218,235)'],[0.4, 'rgb(188,189,220)'],[0.6, 'rgb(158,154,200)'],[0.8, 'rgb(117,107,177)'],[1.0, 'rgb(84,39,143)']]\n",
    "\n",
    "state_counts['text'] = 'Number of Applications ' + state_counts['school_state'].astype('str')\n",
    "\n",
    "data = [ dict(\n",
    "        type='choropleth',\n",
    "        colorscale = scl,\n",
    "        autocolorscale = False,\n",
    "        locations = state_counts['state'],\n",
    "        z = state_counts['school_state'],\n",
    "        locationmode = 'USA-states',\n",
    "        text = state_counts['text'],\n",
    "        marker = dict(\n",
    "            line = dict (\n",
    "                color = 'rgb(255,255,255)',\n",
    "                width = 2\n",
    "            ) ),\n",
    "        colorbar = dict(\n",
    "            title = \"Number of Apps\")\n",
    "        ) ]\n",
    "\n",
    "layout = dict(\n",
    "        title = 'Number of DonorsChoose Applications by State',\n",
    "        geo = dict(\n",
    "            scope='usa',\n",
    "            projection=dict( type='albers usa' ),\n",
    "            showlakes = True,\n",
    "            lakecolor = 'rgb(255, 255, 255)'),\n",
    "             )\n",
    "    \n",
    "fig = dict( data=data, layout=layout )\n",
    "py.plotly.iplot( fig, filename='donors_choose' )"
   ]
  },
  {
   "cell_type": "code",
   "execution_count": 41,
   "metadata": {
    "collapsed": true
   },
   "outputs": [],
   "source": [
    "state = pd.pivot_table(training, index='school_state', columns='project_is_approved', values='id', aggfunc=len)"
   ]
  },
  {
   "cell_type": "code",
   "execution_count": 42,
   "metadata": {
    "collapsed": true,
    "scrolled": true
   },
   "outputs": [],
   "source": [
    "state['per_rejected'] = (state[0]) / (state[0] + state[1])\n",
    "state['per_approved'] = (state[1]) / (state[0] + state[1])"
   ]
  },
  {
   "cell_type": "code",
   "execution_count": 43,
   "metadata": {
    "collapsed": true
   },
   "outputs": [],
   "source": [
    "state['per_approved_total'] = (state[1]) / (state[1].sum(axis=0))"
   ]
  },
  {
   "cell_type": "code",
   "execution_count": 44,
   "metadata": {
    "collapsed": true
   },
   "outputs": [],
   "source": [
    "state['per_rejected_total'] = (state[0]) / (state[0].sum(axis=0))"
   ]
  },
  {
   "cell_type": "code",
   "execution_count": 45,
   "metadata": {
    "scrolled": true
   },
   "outputs": [
    {
     "data": {
      "text/html": [
       "<div>\n",
       "<style>\n",
       "    .dataframe thead tr:only-child th {\n",
       "        text-align: right;\n",
       "    }\n",
       "\n",
       "    .dataframe thead th {\n",
       "        text-align: left;\n",
       "    }\n",
       "\n",
       "    .dataframe tbody tr th {\n",
       "        vertical-align: top;\n",
       "    }\n",
       "</style>\n",
       "<table border=\"1\" class=\"dataframe\">\n",
       "  <thead>\n",
       "    <tr style=\"text-align: right;\">\n",
       "      <th>project_is_approved</th>\n",
       "      <th>0</th>\n",
       "      <th>1</th>\n",
       "      <th>per_rejected</th>\n",
       "      <th>per_approved</th>\n",
       "      <th>per_approved_total</th>\n",
       "      <th>per_rejected_total</th>\n",
       "    </tr>\n",
       "    <tr>\n",
       "      <th>school_state</th>\n",
       "      <th></th>\n",
       "      <th></th>\n",
       "      <th></th>\n",
       "      <th></th>\n",
       "      <th></th>\n",
       "      <th></th>\n",
       "    </tr>\n",
       "  </thead>\n",
       "  <tbody>\n",
       "    <tr>\n",
       "      <th>AK</th>\n",
       "      <td>72</td>\n",
       "      <td>390</td>\n",
       "      <td>0.155844</td>\n",
       "      <td>0.844156</td>\n",
       "      <td>0.002826</td>\n",
       "      <td>0.002880</td>\n",
       "    </tr>\n",
       "    <tr>\n",
       "      <th>AL</th>\n",
       "      <td>415</td>\n",
       "      <td>2329</td>\n",
       "      <td>0.151239</td>\n",
       "      <td>0.848761</td>\n",
       "      <td>0.016874</td>\n",
       "      <td>0.016599</td>\n",
       "    </tr>\n",
       "    <tr>\n",
       "      <th>AR</th>\n",
       "      <td>271</td>\n",
       "      <td>1343</td>\n",
       "      <td>0.167906</td>\n",
       "      <td>0.832094</td>\n",
       "      <td>0.009730</td>\n",
       "      <td>0.010839</td>\n",
       "    </tr>\n",
       "    <tr>\n",
       "      <th>AZ</th>\n",
       "      <td>522</td>\n",
       "      <td>2778</td>\n",
       "      <td>0.158182</td>\n",
       "      <td>0.841818</td>\n",
       "      <td>0.020127</td>\n",
       "      <td>0.020878</td>\n",
       "    </tr>\n",
       "    <tr>\n",
       "      <th>CA</th>\n",
       "      <td>3254</td>\n",
       "      <td>18955</td>\n",
       "      <td>0.146517</td>\n",
       "      <td>0.853483</td>\n",
       "      <td>0.137329</td>\n",
       "      <td>0.130150</td>\n",
       "    </tr>\n",
       "    <tr>\n",
       "      <th>CO</th>\n",
       "      <td>262</td>\n",
       "      <td>1404</td>\n",
       "      <td>0.157263</td>\n",
       "      <td>0.842737</td>\n",
       "      <td>0.010172</td>\n",
       "      <td>0.010479</td>\n",
       "    </tr>\n",
       "    <tr>\n",
       "      <th>CT</th>\n",
       "      <td>319</td>\n",
       "      <td>2116</td>\n",
       "      <td>0.131006</td>\n",
       "      <td>0.868994</td>\n",
       "      <td>0.015330</td>\n",
       "      <td>0.012759</td>\n",
       "    </tr>\n",
       "    <tr>\n",
       "      <th>DC</th>\n",
       "      <td>135</td>\n",
       "      <td>615</td>\n",
       "      <td>0.180000</td>\n",
       "      <td>0.820000</td>\n",
       "      <td>0.004456</td>\n",
       "      <td>0.005400</td>\n",
       "    </tr>\n",
       "    <tr>\n",
       "      <th>DE</th>\n",
       "      <td>57</td>\n",
       "      <td>460</td>\n",
       "      <td>0.110251</td>\n",
       "      <td>0.889749</td>\n",
       "      <td>0.003333</td>\n",
       "      <td>0.002280</td>\n",
       "    </tr>\n",
       "    <tr>\n",
       "      <th>FL</th>\n",
       "      <td>1654</td>\n",
       "      <td>7827</td>\n",
       "      <td>0.174454</td>\n",
       "      <td>0.825546</td>\n",
       "      <td>0.056707</td>\n",
       "      <td>0.066155</td>\n",
       "    </tr>\n",
       "    <tr>\n",
       "      <th>GA</th>\n",
       "      <td>1022</td>\n",
       "      <td>5084</td>\n",
       "      <td>0.167376</td>\n",
       "      <td>0.832624</td>\n",
       "      <td>0.036834</td>\n",
       "      <td>0.040877</td>\n",
       "    </tr>\n",
       "    <tr>\n",
       "      <th>HI</th>\n",
       "      <td>121</td>\n",
       "      <td>665</td>\n",
       "      <td>0.153944</td>\n",
       "      <td>0.846056</td>\n",
       "      <td>0.004818</td>\n",
       "      <td>0.004840</td>\n",
       "    </tr>\n",
       "    <tr>\n",
       "      <th>IA</th>\n",
       "      <td>162</td>\n",
       "      <td>858</td>\n",
       "      <td>0.158824</td>\n",
       "      <td>0.841176</td>\n",
       "      <td>0.006216</td>\n",
       "      <td>0.006479</td>\n",
       "    </tr>\n",
       "    <tr>\n",
       "      <th>ID</th>\n",
       "      <td>164</td>\n",
       "      <td>845</td>\n",
       "      <td>0.162537</td>\n",
       "      <td>0.837463</td>\n",
       "      <td>0.006122</td>\n",
       "      <td>0.006559</td>\n",
       "    </tr>\n",
       "    <tr>\n",
       "      <th>IL</th>\n",
       "      <td>956</td>\n",
       "      <td>5558</td>\n",
       "      <td>0.146761</td>\n",
       "      <td>0.853239</td>\n",
       "      <td>0.040268</td>\n",
       "      <td>0.038237</td>\n",
       "    </tr>\n",
       "    <tr>\n",
       "      <th>IN</th>\n",
       "      <td>581</td>\n",
       "      <td>3308</td>\n",
       "      <td>0.149396</td>\n",
       "      <td>0.850604</td>\n",
       "      <td>0.023966</td>\n",
       "      <td>0.023238</td>\n",
       "    </tr>\n",
       "    <tr>\n",
       "      <th>KS</th>\n",
       "      <td>149</td>\n",
       "      <td>849</td>\n",
       "      <td>0.149299</td>\n",
       "      <td>0.850701</td>\n",
       "      <td>0.006151</td>\n",
       "      <td>0.005960</td>\n",
       "    </tr>\n",
       "    <tr>\n",
       "      <th>KY</th>\n",
       "      <td>269</td>\n",
       "      <td>1610</td>\n",
       "      <td>0.143161</td>\n",
       "      <td>0.856839</td>\n",
       "      <td>0.011664</td>\n",
       "      <td>0.010759</td>\n",
       "    </tr>\n",
       "    <tr>\n",
       "      <th>LA</th>\n",
       "      <td>594</td>\n",
       "      <td>3024</td>\n",
       "      <td>0.164179</td>\n",
       "      <td>0.835821</td>\n",
       "      <td>0.021909</td>\n",
       "      <td>0.023758</td>\n",
       "    </tr>\n",
       "    <tr>\n",
       "      <th>MA</th>\n",
       "      <td>511</td>\n",
       "      <td>3124</td>\n",
       "      <td>0.140578</td>\n",
       "      <td>0.859422</td>\n",
       "      <td>0.022633</td>\n",
       "      <td>0.020438</td>\n",
       "    </tr>\n",
       "    <tr>\n",
       "      <th>MD</th>\n",
       "      <td>370</td>\n",
       "      <td>1928</td>\n",
       "      <td>0.161010</td>\n",
       "      <td>0.838990</td>\n",
       "      <td>0.013968</td>\n",
       "      <td>0.014799</td>\n",
       "    </tr>\n",
       "    <tr>\n",
       "      <th>ME</th>\n",
       "      <td>110</td>\n",
       "      <td>679</td>\n",
       "      <td>0.139417</td>\n",
       "      <td>0.860583</td>\n",
       "      <td>0.004919</td>\n",
       "      <td>0.004400</td>\n",
       "    </tr>\n",
       "    <tr>\n",
       "      <th>MI</th>\n",
       "      <td>754</td>\n",
       "      <td>4124</td>\n",
       "      <td>0.154572</td>\n",
       "      <td>0.845428</td>\n",
       "      <td>0.029878</td>\n",
       "      <td>0.030158</td>\n",
       "    </tr>\n",
       "    <tr>\n",
       "      <th>MN</th>\n",
       "      <td>276</td>\n",
       "      <td>1631</td>\n",
       "      <td>0.144730</td>\n",
       "      <td>0.855270</td>\n",
       "      <td>0.011817</td>\n",
       "      <td>0.011039</td>\n",
       "    </tr>\n",
       "    <tr>\n",
       "      <th>MO</th>\n",
       "      <td>567</td>\n",
       "      <td>3363</td>\n",
       "      <td>0.144275</td>\n",
       "      <td>0.855725</td>\n",
       "      <td>0.024365</td>\n",
       "      <td>0.022678</td>\n",
       "    </tr>\n",
       "    <tr>\n",
       "      <th>MS</th>\n",
       "      <td>321</td>\n",
       "      <td>1706</td>\n",
       "      <td>0.158362</td>\n",
       "      <td>0.841638</td>\n",
       "      <td>0.012360</td>\n",
       "      <td>0.012839</td>\n",
       "    </tr>\n",
       "    <tr>\n",
       "      <th>MT</th>\n",
       "      <td>60</td>\n",
       "      <td>287</td>\n",
       "      <td>0.172911</td>\n",
       "      <td>0.827089</td>\n",
       "      <td>0.002079</td>\n",
       "      <td>0.002400</td>\n",
       "    </tr>\n",
       "    <tr>\n",
       "      <th>NC</th>\n",
       "      <td>1127</td>\n",
       "      <td>6373</td>\n",
       "      <td>0.150267</td>\n",
       "      <td>0.849733</td>\n",
       "      <td>0.046172</td>\n",
       "      <td>0.045076</td>\n",
       "    </tr>\n",
       "    <tr>\n",
       "      <th>ND</th>\n",
       "      <td>30</td>\n",
       "      <td>196</td>\n",
       "      <td>0.132743</td>\n",
       "      <td>0.867257</td>\n",
       "      <td>0.001420</td>\n",
       "      <td>0.001200</td>\n",
       "    </tr>\n",
       "    <tr>\n",
       "      <th>NE</th>\n",
       "      <td>72</td>\n",
       "      <td>399</td>\n",
       "      <td>0.152866</td>\n",
       "      <td>0.847134</td>\n",
       "      <td>0.002891</td>\n",
       "      <td>0.002880</td>\n",
       "    </tr>\n",
       "    <tr>\n",
       "      <th>NH</th>\n",
       "      <td>67</td>\n",
       "      <td>477</td>\n",
       "      <td>0.123162</td>\n",
       "      <td>0.876838</td>\n",
       "      <td>0.003456</td>\n",
       "      <td>0.002680</td>\n",
       "    </tr>\n",
       "    <tr>\n",
       "      <th>NJ</th>\n",
       "      <td>511</td>\n",
       "      <td>2781</td>\n",
       "      <td>0.155225</td>\n",
       "      <td>0.844775</td>\n",
       "      <td>0.020148</td>\n",
       "      <td>0.020438</td>\n",
       "    </tr>\n",
       "    <tr>\n",
       "      <th>NM</th>\n",
       "      <td>147</td>\n",
       "      <td>661</td>\n",
       "      <td>0.181931</td>\n",
       "      <td>0.818069</td>\n",
       "      <td>0.004789</td>\n",
       "      <td>0.005880</td>\n",
       "    </tr>\n",
       "    <tr>\n",
       "      <th>NV</th>\n",
       "      <td>297</td>\n",
       "      <td>1734</td>\n",
       "      <td>0.146233</td>\n",
       "      <td>0.853767</td>\n",
       "      <td>0.012563</td>\n",
       "      <td>0.011879</td>\n",
       "    </tr>\n",
       "    <tr>\n",
       "      <th>NY</th>\n",
       "      <td>1500</td>\n",
       "      <td>8436</td>\n",
       "      <td>0.150966</td>\n",
       "      <td>0.849034</td>\n",
       "      <td>0.061119</td>\n",
       "      <td>0.059995</td>\n",
       "    </tr>\n",
       "    <tr>\n",
       "      <th>OH</th>\n",
       "      <td>480</td>\n",
       "      <td>3267</td>\n",
       "      <td>0.128102</td>\n",
       "      <td>0.871898</td>\n",
       "      <td>0.023669</td>\n",
       "      <td>0.019198</td>\n",
       "    </tr>\n",
       "    <tr>\n",
       "      <th>OK</th>\n",
       "      <td>591</td>\n",
       "      <td>2975</td>\n",
       "      <td>0.165732</td>\n",
       "      <td>0.834268</td>\n",
       "      <td>0.021554</td>\n",
       "      <td>0.023638</td>\n",
       "    </tr>\n",
       "    <tr>\n",
       "      <th>OR</th>\n",
       "      <td>270</td>\n",
       "      <td>1627</td>\n",
       "      <td>0.142330</td>\n",
       "      <td>0.857670</td>\n",
       "      <td>0.011788</td>\n",
       "      <td>0.010799</td>\n",
       "    </tr>\n",
       "    <tr>\n",
       "      <th>PA</th>\n",
       "      <td>652</td>\n",
       "      <td>3793</td>\n",
       "      <td>0.146682</td>\n",
       "      <td>0.853318</td>\n",
       "      <td>0.027480</td>\n",
       "      <td>0.026078</td>\n",
       "    </tr>\n",
       "    <tr>\n",
       "      <th>RI</th>\n",
       "      <td>68</td>\n",
       "      <td>361</td>\n",
       "      <td>0.158508</td>\n",
       "      <td>0.841492</td>\n",
       "      <td>0.002615</td>\n",
       "      <td>0.002720</td>\n",
       "    </tr>\n",
       "    <tr>\n",
       "      <th>SC</th>\n",
       "      <td>808</td>\n",
       "      <td>5188</td>\n",
       "      <td>0.134757</td>\n",
       "      <td>0.865243</td>\n",
       "      <td>0.037587</td>\n",
       "      <td>0.032317</td>\n",
       "    </tr>\n",
       "    <tr>\n",
       "      <th>SD</th>\n",
       "      <td>64</td>\n",
       "      <td>399</td>\n",
       "      <td>0.138229</td>\n",
       "      <td>0.861771</td>\n",
       "      <td>0.002891</td>\n",
       "      <td>0.002560</td>\n",
       "    </tr>\n",
       "    <tr>\n",
       "      <th>TN</th>\n",
       "      <td>384</td>\n",
       "      <td>2186</td>\n",
       "      <td>0.149416</td>\n",
       "      <td>0.850584</td>\n",
       "      <td>0.015838</td>\n",
       "      <td>0.015359</td>\n",
       "    </tr>\n",
       "    <tr>\n",
       "      <th>TX</th>\n",
       "      <td>2058</td>\n",
       "      <td>9178</td>\n",
       "      <td>0.183161</td>\n",
       "      <td>0.816839</td>\n",
       "      <td>0.066495</td>\n",
       "      <td>0.082313</td>\n",
       "    </tr>\n",
       "    <tr>\n",
       "      <th>UT</th>\n",
       "      <td>421</td>\n",
       "      <td>2157</td>\n",
       "      <td>0.163305</td>\n",
       "      <td>0.836695</td>\n",
       "      <td>0.015627</td>\n",
       "      <td>0.016839</td>\n",
       "    </tr>\n",
       "    <tr>\n",
       "      <th>VA</th>\n",
       "      <td>468</td>\n",
       "      <td>2736</td>\n",
       "      <td>0.146067</td>\n",
       "      <td>0.853933</td>\n",
       "      <td>0.019822</td>\n",
       "      <td>0.018719</td>\n",
       "    </tr>\n",
       "    <tr>\n",
       "      <th>VT</th>\n",
       "      <td>21</td>\n",
       "      <td>111</td>\n",
       "      <td>0.159091</td>\n",
       "      <td>0.840909</td>\n",
       "      <td>0.000804</td>\n",
       "      <td>0.000840</td>\n",
       "    </tr>\n",
       "    <tr>\n",
       "      <th>WA</th>\n",
       "      <td>473</td>\n",
       "      <td>3069</td>\n",
       "      <td>0.133540</td>\n",
       "      <td>0.866460</td>\n",
       "      <td>0.022235</td>\n",
       "      <td>0.018918</td>\n",
       "    </tr>\n",
       "    <tr>\n",
       "      <th>WI</th>\n",
       "      <td>431</td>\n",
       "      <td>2259</td>\n",
       "      <td>0.160223</td>\n",
       "      <td>0.839777</td>\n",
       "      <td>0.016366</td>\n",
       "      <td>0.017239</td>\n",
       "    </tr>\n",
       "    <tr>\n",
       "      <th>WV</th>\n",
       "      <td>94</td>\n",
       "      <td>671</td>\n",
       "      <td>0.122876</td>\n",
       "      <td>0.877124</td>\n",
       "      <td>0.004861</td>\n",
       "      <td>0.003760</td>\n",
       "    </tr>\n",
       "    <tr>\n",
       "      <th>WY</th>\n",
       "      <td>20</td>\n",
       "      <td>132</td>\n",
       "      <td>0.131579</td>\n",
       "      <td>0.868421</td>\n",
       "      <td>0.000956</td>\n",
       "      <td>0.000800</td>\n",
       "    </tr>\n",
       "  </tbody>\n",
       "</table>\n",
       "</div>"
      ],
      "text/plain": [
       "project_is_approved     0      1  per_rejected  per_approved  \\\n",
       "school_state                                                   \n",
       "AK                     72    390      0.155844      0.844156   \n",
       "AL                    415   2329      0.151239      0.848761   \n",
       "AR                    271   1343      0.167906      0.832094   \n",
       "AZ                    522   2778      0.158182      0.841818   \n",
       "CA                   3254  18955      0.146517      0.853483   \n",
       "CO                    262   1404      0.157263      0.842737   \n",
       "CT                    319   2116      0.131006      0.868994   \n",
       "DC                    135    615      0.180000      0.820000   \n",
       "DE                     57    460      0.110251      0.889749   \n",
       "FL                   1654   7827      0.174454      0.825546   \n",
       "GA                   1022   5084      0.167376      0.832624   \n",
       "HI                    121    665      0.153944      0.846056   \n",
       "IA                    162    858      0.158824      0.841176   \n",
       "ID                    164    845      0.162537      0.837463   \n",
       "IL                    956   5558      0.146761      0.853239   \n",
       "IN                    581   3308      0.149396      0.850604   \n",
       "KS                    149    849      0.149299      0.850701   \n",
       "KY                    269   1610      0.143161      0.856839   \n",
       "LA                    594   3024      0.164179      0.835821   \n",
       "MA                    511   3124      0.140578      0.859422   \n",
       "MD                    370   1928      0.161010      0.838990   \n",
       "ME                    110    679      0.139417      0.860583   \n",
       "MI                    754   4124      0.154572      0.845428   \n",
       "MN                    276   1631      0.144730      0.855270   \n",
       "MO                    567   3363      0.144275      0.855725   \n",
       "MS                    321   1706      0.158362      0.841638   \n",
       "MT                     60    287      0.172911      0.827089   \n",
       "NC                   1127   6373      0.150267      0.849733   \n",
       "ND                     30    196      0.132743      0.867257   \n",
       "NE                     72    399      0.152866      0.847134   \n",
       "NH                     67    477      0.123162      0.876838   \n",
       "NJ                    511   2781      0.155225      0.844775   \n",
       "NM                    147    661      0.181931      0.818069   \n",
       "NV                    297   1734      0.146233      0.853767   \n",
       "NY                   1500   8436      0.150966      0.849034   \n",
       "OH                    480   3267      0.128102      0.871898   \n",
       "OK                    591   2975      0.165732      0.834268   \n",
       "OR                    270   1627      0.142330      0.857670   \n",
       "PA                    652   3793      0.146682      0.853318   \n",
       "RI                     68    361      0.158508      0.841492   \n",
       "SC                    808   5188      0.134757      0.865243   \n",
       "SD                     64    399      0.138229      0.861771   \n",
       "TN                    384   2186      0.149416      0.850584   \n",
       "TX                   2058   9178      0.183161      0.816839   \n",
       "UT                    421   2157      0.163305      0.836695   \n",
       "VA                    468   2736      0.146067      0.853933   \n",
       "VT                     21    111      0.159091      0.840909   \n",
       "WA                    473   3069      0.133540      0.866460   \n",
       "WI                    431   2259      0.160223      0.839777   \n",
       "WV                     94    671      0.122876      0.877124   \n",
       "WY                     20    132      0.131579      0.868421   \n",
       "\n",
       "project_is_approved  per_approved_total  per_rejected_total  \n",
       "school_state                                                 \n",
       "AK                             0.002826            0.002880  \n",
       "AL                             0.016874            0.016599  \n",
       "AR                             0.009730            0.010839  \n",
       "AZ                             0.020127            0.020878  \n",
       "CA                             0.137329            0.130150  \n",
       "CO                             0.010172            0.010479  \n",
       "CT                             0.015330            0.012759  \n",
       "DC                             0.004456            0.005400  \n",
       "DE                             0.003333            0.002280  \n",
       "FL                             0.056707            0.066155  \n",
       "GA                             0.036834            0.040877  \n",
       "HI                             0.004818            0.004840  \n",
       "IA                             0.006216            0.006479  \n",
       "ID                             0.006122            0.006559  \n",
       "IL                             0.040268            0.038237  \n",
       "IN                             0.023966            0.023238  \n",
       "KS                             0.006151            0.005960  \n",
       "KY                             0.011664            0.010759  \n",
       "LA                             0.021909            0.023758  \n",
       "MA                             0.022633            0.020438  \n",
       "MD                             0.013968            0.014799  \n",
       "ME                             0.004919            0.004400  \n",
       "MI                             0.029878            0.030158  \n",
       "MN                             0.011817            0.011039  \n",
       "MO                             0.024365            0.022678  \n",
       "MS                             0.012360            0.012839  \n",
       "MT                             0.002079            0.002400  \n",
       "NC                             0.046172            0.045076  \n",
       "ND                             0.001420            0.001200  \n",
       "NE                             0.002891            0.002880  \n",
       "NH                             0.003456            0.002680  \n",
       "NJ                             0.020148            0.020438  \n",
       "NM                             0.004789            0.005880  \n",
       "NV                             0.012563            0.011879  \n",
       "NY                             0.061119            0.059995  \n",
       "OH                             0.023669            0.019198  \n",
       "OK                             0.021554            0.023638  \n",
       "OR                             0.011788            0.010799  \n",
       "PA                             0.027480            0.026078  \n",
       "RI                             0.002615            0.002720  \n",
       "SC                             0.037587            0.032317  \n",
       "SD                             0.002891            0.002560  \n",
       "TN                             0.015838            0.015359  \n",
       "TX                             0.066495            0.082313  \n",
       "UT                             0.015627            0.016839  \n",
       "VA                             0.019822            0.018719  \n",
       "VT                             0.000804            0.000840  \n",
       "WA                             0.022235            0.018918  \n",
       "WI                             0.016366            0.017239  \n",
       "WV                             0.004861            0.003760  \n",
       "WY                             0.000956            0.000800  "
      ]
     },
     "execution_count": 45,
     "metadata": {},
     "output_type": "execute_result"
    }
   ],
   "source": [
    "state"
   ]
  },
  {
   "cell_type": "code",
   "execution_count": 57,
   "metadata": {},
   "outputs": [
    {
     "data": {
      "text/plain": [
       "Mrs.       86638\n",
       "Ms.        57905\n",
       "Mr.        14917\n",
       "Teacher     3541\n",
       "Dr.           23\n",
       "Name: teacher_prefix, dtype: int64"
      ]
     },
     "execution_count": 57,
     "metadata": {},
     "output_type": "execute_result"
    }
   ],
   "source": [
    "training['teacher_prefix'].value_counts()"
   ]
  },
  {
   "cell_type": "code",
   "execution_count": 58,
   "metadata": {},
   "outputs": [
    {
     "data": {
      "image/png": "[encoded data removed]",
      "text/plain": [
       "<matplotlib.figure.Figure at 0x1a20bbfdd8>"
      ]
     },
     "metadata": {},
     "output_type": "display_data"
    }
   ],
   "source": [
    "plt.figure(figsize=(15,6))\n",
    "plt.subplot(1,2,1)\n",
    "sns.countplot(x='teacher_prefix', data=training)\n",
    "\n",
    "plt.subplot(1,2,2)\n",
    "sns.countplot(x='teacher_prefix', hue='project_is_approved', data=training)\n",
    "\n",
    "plt.tight_layout()\n",
    "plt.show()"
   ]
  },
  {
   "cell_type": "code",
   "execution_count": 59,
   "metadata": {
    "collapsed": true
   },
   "outputs": [],
   "source": [
    "teacher = pd.pivot_table(training, index='teacher_prefix', columns='project_is_approved', values='id', aggfunc=len)"
   ]
  },
  {
   "cell_type": "code",
   "execution_count": 60,
   "metadata": {
    "collapsed": true
   },
   "outputs": [],
   "source": [
    "teacher['per_rejected'] = (teacher[0]) / (teacher[0] + teacher[1])\n",
    "teacher['per_approved'] = (teacher[1]) / (teacher[0] + teacher[1])\n",
    "teacher['per_approved_total'] = (teacher[1]) / ( teacher[1].sum(axis=0))\n",
    "teacher['per_rejected_total'] = (teacher[0]) / (teacher[0].sum(axis=0))"
   ]
  },
  {
   "cell_type": "code",
   "execution_count": 61,
   "metadata": {},
   "outputs": [
    {
     "data": {
      "text/html": [
       "<div>\n",
       "<style>\n",
       "    .dataframe thead tr:only-child th {\n",
       "        text-align: right;\n",
       "    }\n",
       "\n",
       "    .dataframe thead th {\n",
       "        text-align: left;\n",
       "    }\n",
       "\n",
       "    .dataframe tbody tr th {\n",
       "        vertical-align: top;\n",
       "    }\n",
       "</style>\n",
       "<table border=\"1\" class=\"dataframe\">\n",
       "  <thead>\n",
       "    <tr style=\"text-align: right;\">\n",
       "      <th>project_is_approved</th>\n",
       "      <th>0</th>\n",
       "      <th>1</th>\n",
       "      <th>per_rejected</th>\n",
       "      <th>per_approved</th>\n",
       "      <th>per_approved_total</th>\n",
       "      <th>per_rejected_total</th>\n",
       "    </tr>\n",
       "    <tr>\n",
       "      <th>teacher_prefix</th>\n",
       "      <th></th>\n",
       "      <th></th>\n",
       "      <th></th>\n",
       "      <th></th>\n",
       "      <th></th>\n",
       "      <th></th>\n",
       "    </tr>\n",
       "  </thead>\n",
       "  <tbody>\n",
       "    <tr>\n",
       "      <th>Dr.</th>\n",
       "      <td>5</td>\n",
       "      <td>18</td>\n",
       "      <td>0.217391</td>\n",
       "      <td>0.782609</td>\n",
       "      <td>0.000130</td>\n",
       "      <td>0.000200</td>\n",
       "    </tr>\n",
       "    <tr>\n",
       "      <th>Mr.</th>\n",
       "      <td>2359</td>\n",
       "      <td>12558</td>\n",
       "      <td>0.158142</td>\n",
       "      <td>0.841858</td>\n",
       "      <td>0.090985</td>\n",
       "      <td>0.094352</td>\n",
       "    </tr>\n",
       "    <tr>\n",
       "      <th>Mrs.</th>\n",
       "      <td>12754</td>\n",
       "      <td>73884</td>\n",
       "      <td>0.147210</td>\n",
       "      <td>0.852790</td>\n",
       "      <td>0.535306</td>\n",
       "      <td>0.510119</td>\n",
       "    </tr>\n",
       "    <tr>\n",
       "      <th>Ms.</th>\n",
       "      <td>9161</td>\n",
       "      <td>48744</td>\n",
       "      <td>0.158207</td>\n",
       "      <td>0.841793</td>\n",
       "      <td>0.353161</td>\n",
       "      <td>0.366411</td>\n",
       "    </tr>\n",
       "    <tr>\n",
       "      <th>Teacher</th>\n",
       "      <td>723</td>\n",
       "      <td>2818</td>\n",
       "      <td>0.204180</td>\n",
       "      <td>0.795820</td>\n",
       "      <td>0.020417</td>\n",
       "      <td>0.028918</td>\n",
       "    </tr>\n",
       "  </tbody>\n",
       "</table>\n",
       "</div>"
      ],
      "text/plain": [
       "project_is_approved      0      1  per_rejected  per_approved  \\\n",
       "teacher_prefix                                                  \n",
       "Dr.                      5     18      0.217391      0.782609   \n",
       "Mr.                   2359  12558      0.158142      0.841858   \n",
       "Mrs.                 12754  73884      0.147210      0.852790   \n",
       "Ms.                   9161  48744      0.158207      0.841793   \n",
       "Teacher                723   2818      0.204180      0.795820   \n",
       "\n",
       "project_is_approved  per_approved_total  per_rejected_total  \n",
       "teacher_prefix                                               \n",
       "Dr.                            0.000130            0.000200  \n",
       "Mr.                            0.090985            0.094352  \n",
       "Mrs.                           0.535306            0.510119  \n",
       "Ms.                            0.353161            0.366411  \n",
       "Teacher                        0.020417            0.028918  "
      ]
     },
     "execution_count": 61,
     "metadata": {},
     "output_type": "execute_result"
    }
   ],
   "source": [
    "teacher"
   ]
  },
  {
   "cell_type": "code",
   "execution_count": 62,
   "metadata": {},
   "outputs": [
    {
     "data": {
      "text/plain": [
       "Grades PreK-2    68183\n",
       "Grades 3-5       55394\n",
       "Grades 6-8       24228\n",
       "Grades 9-12      15223\n",
       "Name: project_grade_category, dtype: int64"
      ]
     },
     "execution_count": 62,
     "metadata": {},
     "output_type": "execute_result"
    }
   ],
   "source": [
    "training['project_grade_category'].value_counts()"
   ]
  },
  {
   "cell_type": "code",
   "execution_count": 63,
   "metadata": {},
   "outputs": [
    {
     "data": {
      "image/png": "[encoded data removed]",
      "text/plain": [
       "<matplotlib.figure.Figure at 0x1a1cb34f98>"
      ]
     },
     "metadata": {},
     "output_type": "display_data"
    }
   ],
   "source": [
    "plt.figure(figsize=(15,6))\n",
    "plt.subplot(1,2,1)\n",
    "sns.countplot(x='project_grade_category', data=training)\n",
    "\n",
    "plt.subplot(1,2,2)\n",
    "sns.countplot(x='project_grade_category', hue='project_is_approved', data=training)\n",
    "\n",
    "plt.tight_layout()\n",
    "plt.show()"
   ]
  },
  {
   "cell_type": "code",
   "execution_count": 64,
   "metadata": {
    "collapsed": true
   },
   "outputs": [],
   "source": [
    "grade = pd.pivot_table(training, index='project_grade_category', columns='project_is_approved', values='id', aggfunc=len)"
   ]
  },
  {
   "cell_type": "code",
   "execution_count": 65,
   "metadata": {
    "collapsed": true
   },
   "outputs": [],
   "source": [
    "grade['per_rejected'] = (grade[0]) / (grade[0] + grade[1])\n",
    "grade['per_approved'] = (grade[1]) / (grade[0] + grade[1])\n",
    "grade['per_approved_total'] = (grade[1]) / ( grade[1].sum(axis=0))\n",
    "grade['per_rejected_total'] = (grade[0]) / (grade[0].sum(axis=0))"
   ]
  },
  {
   "cell_type": "code",
   "execution_count": 66,
   "metadata": {},
   "outputs": [
    {
     "data": {
      "text/html": [
       "<div>\n",
       "<style>\n",
       "    .dataframe thead tr:only-child th {\n",
       "        text-align: right;\n",
       "    }\n",
       "\n",
       "    .dataframe thead th {\n",
       "        text-align: left;\n",
       "    }\n",
       "\n",
       "    .dataframe tbody tr th {\n",
       "        vertical-align: top;\n",
       "    }\n",
       "</style>\n",
       "<table border=\"1\" class=\"dataframe\">\n",
       "  <thead>\n",
       "    <tr style=\"text-align: right;\">\n",
       "      <th>project_is_approved</th>\n",
       "      <th>0</th>\n",
       "      <th>1</th>\n",
       "      <th>per_rejected</th>\n",
       "      <th>per_approved</th>\n",
       "      <th>per_approved_total</th>\n",
       "      <th>per_rejected_total</th>\n",
       "    </tr>\n",
       "    <tr>\n",
       "      <th>project_grade_category</th>\n",
       "      <th></th>\n",
       "      <th></th>\n",
       "      <th></th>\n",
       "      <th></th>\n",
       "      <th></th>\n",
       "      <th></th>\n",
       "    </tr>\n",
       "  </thead>\n",
       "  <tbody>\n",
       "    <tr>\n",
       "      <th>Grades 3-5</th>\n",
       "      <td>8128</td>\n",
       "      <td>47266</td>\n",
       "      <td>0.146731</td>\n",
       "      <td>0.853269</td>\n",
       "      <td>0.342443</td>\n",
       "      <td>0.325094</td>\n",
       "    </tr>\n",
       "    <tr>\n",
       "      <th>Grades 6-8</th>\n",
       "      <td>3800</td>\n",
       "      <td>20428</td>\n",
       "      <td>0.156843</td>\n",
       "      <td>0.843157</td>\n",
       "      <td>0.148001</td>\n",
       "      <td>0.151988</td>\n",
       "    </tr>\n",
       "    <tr>\n",
       "      <th>Grades 9-12</th>\n",
       "      <td>2508</td>\n",
       "      <td>12715</td>\n",
       "      <td>0.164751</td>\n",
       "      <td>0.835249</td>\n",
       "      <td>0.092120</td>\n",
       "      <td>0.100312</td>\n",
       "    </tr>\n",
       "    <tr>\n",
       "      <th>Grades PreK-2</th>\n",
       "      <td>10566</td>\n",
       "      <td>57617</td>\n",
       "      <td>0.154965</td>\n",
       "      <td>0.845035</td>\n",
       "      <td>0.417436</td>\n",
       "      <td>0.422606</td>\n",
       "    </tr>\n",
       "  </tbody>\n",
       "</table>\n",
       "</div>"
      ],
      "text/plain": [
       "project_is_approved         0      1  per_rejected  per_approved  \\\n",
       "project_grade_category                                             \n",
       "Grades 3-5               8128  47266      0.146731      0.853269   \n",
       "Grades 6-8               3800  20428      0.156843      0.843157   \n",
       "Grades 9-12              2508  12715      0.164751      0.835249   \n",
       "Grades PreK-2           10566  57617      0.154965      0.845035   \n",
       "\n",
       "project_is_approved     per_approved_total  per_rejected_total  \n",
       "project_grade_category                                          \n",
       "Grades 3-5                        0.342443            0.325094  \n",
       "Grades 6-8                        0.148001            0.151988  \n",
       "Grades 9-12                       0.092120            0.100312  \n",
       "Grades PreK-2                     0.417436            0.422606  "
      ]
     },
     "execution_count": 66,
     "metadata": {},
     "output_type": "execute_result"
    }
   ],
   "source": [
    "grade"
   ]
  },
  {
   "cell_type": "code",
   "execution_count": 67,
   "metadata": {
    "scrolled": true
   },
   "outputs": [
    {
     "data": {
      "text/plain": [
       "Literacy & Language                           35265\n",
       "Math & Science                                25436\n",
       "Literacy & Language, Math & Science           22642\n",
       "Health & Sports                               15379\n",
       "Music & The Arts                               7141\n",
       "Special Needs                                  6684\n",
       "Literacy & Language, Special Needs             6081\n",
       "Applied Learning                               5780\n",
       "Math & Science, Literacy & Language            3327\n",
       "Applied Learning, Literacy & Language          3312\n",
       "Math & Science, Special Needs                  2709\n",
       "History & Civics                               2684\n",
       "Literacy & Language, Music & The Arts          2460\n",
       "Applied Learning, Special Needs                2316\n",
       "Math & Science, Music & The Arts               2295\n",
       "Health & Sports, Special Needs                 2238\n",
       "History & Civics, Literacy & Language          1925\n",
       "Math & Science, Applied Learning               1793\n",
       "Warmth, Care & Hunger                          1761\n",
       "Applied Learning, Math & Science               1514\n",
       "Health & Sports, Literacy & Language           1231\n",
       "Literacy & Language, History & Civics          1117\n",
       "Applied Learning, Music & The Arts             1028\n",
       "Applied Learning, Health & Sports               938\n",
       "Math & Science, History & Civics                904\n",
       "Literacy & Language, Applied Learning           902\n",
       "Math & Science, Health & Sports                 623\n",
       "History & Civics, Math & Science                460\n",
       "History & Civics, Music & The Arts              447\n",
       "Health & Sports, Math & Science                 443\n",
       "Special Needs, Music & The Arts                 410\n",
       "History & Civics, Special Needs                 324\n",
       "Health & Sports, Applied Learning               282\n",
       "Applied Learning, History & Civics              260\n",
       "Health & Sports, Music & The Arts               212\n",
       "Music & The Arts, Special Needs                 204\n",
       "Literacy & Language, Health & Sports            116\n",
       "History & Civics, Applied Learning               61\n",
       "Health & Sports, History & Civics                60\n",
       "Special Needs, Health & Sports                   58\n",
       "Music & The Arts, Health & Sports                30\n",
       "Special Needs, Warmth, Care & Hunger             29\n",
       "Health & Sports, Warmth, Care & Hunger           27\n",
       "Music & The Arts, History & Civics               25\n",
       "Literacy & Language, Warmth, Care & Hunger       22\n",
       "History & Civics, Health & Sports                19\n",
       "Applied Learning, Warmth, Care & Hunger          18\n",
       "Math & Science, Warmth, Care & Hunger            18\n",
       "Music & The Arts, Applied Learning               15\n",
       "Music & The Arts, Warmth, Care & Hunger           2\n",
       "History & Civics, Warmth, Care & Hunger           1\n",
       "Name: project_subject_categories, dtype: int64"
      ]
     },
     "execution_count": 67,
     "metadata": {},
     "output_type": "execute_result"
    }
   ],
   "source": [
    "training['project_subject_categories'].value_counts()"
   ]
  },
  {
   "cell_type": "code",
   "execution_count": 68,
   "metadata": {
    "scrolled": true
   },
   "outputs": [
    {
     "data": {
      "text/plain": [
       "array(['Literacy & Language', 'Music & The Arts, Health & Sports',\n",
       "       'Math & Science, Literacy & Language', 'Health & Sports',\n",
       "       'Applied Learning, Literacy & Language', 'Math & Science',\n",
       "       'Literacy & Language, Math & Science', 'Special Needs',\n",
       "       'Applied Learning, Special Needs',\n",
       "       'Applied Learning, Music & The Arts',\n",
       "       'Math & Science, Special Needs', 'Health & Sports, Special Needs',\n",
       "       'Literacy & Language, History & Civics',\n",
       "       'Health & Sports, Literacy & Language', 'Music & The Arts',\n",
       "       'Literacy & Language, Special Needs',\n",
       "       'Special Needs, Music & The Arts', 'History & Civics',\n",
       "       'Math & Science, Applied Learning',\n",
       "       'Literacy & Language, Music & The Arts',\n",
       "       'Math & Science, Music & The Arts',\n",
       "       'History & Civics, Special Needs',\n",
       "       'History & Civics, Literacy & Language', 'Applied Learning',\n",
       "       'Math & Science, History & Civics',\n",
       "       'Applied Learning, Math & Science',\n",
       "       'Health & Sports, Applied Learning', 'Warmth, Care & Hunger',\n",
       "       'Math & Science, Health & Sports',\n",
       "       'Applied Learning, Health & Sports',\n",
       "       'History & Civics, Math & Science',\n",
       "       'Literacy & Language, Applied Learning',\n",
       "       'Music & The Arts, Special Needs',\n",
       "       'History & Civics, Music & The Arts',\n",
       "       'Health & Sports, History & Civics',\n",
       "       'Health & Sports, Math & Science',\n",
       "       'Applied Learning, History & Civics',\n",
       "       'Literacy & Language, Health & Sports',\n",
       "       'Music & The Arts, Applied Learning',\n",
       "       'Health & Sports, Warmth, Care & Hunger',\n",
       "       'Math & Science, Warmth, Care & Hunger',\n",
       "       'Special Needs, Warmth, Care & Hunger',\n",
       "       'Health & Sports, Music & The Arts',\n",
       "       'History & Civics, Applied Learning',\n",
       "       'Special Needs, Health & Sports',\n",
       "       'History & Civics, Health & Sports',\n",
       "       'Literacy & Language, Warmth, Care & Hunger',\n",
       "       'Music & The Arts, Warmth, Care & Hunger',\n",
       "       'Music & The Arts, History & Civics',\n",
       "       'Applied Learning, Warmth, Care & Hunger',\n",
       "       'History & Civics, Warmth, Care & Hunger'], dtype=object)"
      ]
     },
     "execution_count": 68,
     "metadata": {},
     "output_type": "execute_result"
    }
   ],
   "source": [
    "training['project_subject_categories'].unique()"
   ]
  },
  {
   "cell_type": "code",
   "execution_count": 69,
   "metadata": {},
   "outputs": [
    {
     "data": {
      "text/plain": [
       "51"
      ]
     },
     "execution_count": 69,
     "metadata": {},
     "output_type": "execute_result"
    }
   ],
   "source": [
    "len(training['project_subject_categories'].unique())"
   ]
  },
  {
   "cell_type": "code",
   "execution_count": 70,
   "metadata": {
    "scrolled": true
   },
   "outputs": [
    {
     "data": {
      "text/plain": [
       "Literacy                                        14441\n",
       "Literacy, Mathematics                           12964\n",
       "Literature & Writing, Mathematics                9083\n",
       "Mathematics                                      8229\n",
       "Literacy, Literature & Writing                   8180\n",
       "Special Needs                                    6684\n",
       "Literature & Writing                             6565\n",
       "Health & Wellness                                5546\n",
       "Applied Sciences, Mathematics                    5116\n",
       "Literacy, Special Needs                          3729\n",
       "Applied Sciences                                 3667\n",
       "Gym & Fitness, Health & Wellness                 3493\n",
       "ESL, Literacy                                    3308\n",
       "Visual Arts                                      2993\n",
       "Music                                            2130\n",
       "Literature & Writing, Special Needs              2040\n",
       "Health & Wellness, Special Needs                 1935\n",
       "Gym & Fitness                                    1808\n",
       "Mathematics, Special Needs                       1773\n",
       "Warmth, Care & Hunger                            1761\n",
       "Environmental Science                            1522\n",
       "Team Sports                                      1512\n",
       "Environmental Science, Health & Life Science     1442\n",
       "Early Development                                1423\n",
       "Applied Sciences, Environmental Science          1381\n",
       "Other                                            1319\n",
       "Early Development, Special Needs                 1259\n",
       "Health & Life Science                            1247\n",
       "Music, Performing Arts                           1238\n",
       "Environmental Science, Mathematics               1214\n",
       "                                                ...  \n",
       "Civics & Government, Foreign Languages              2\n",
       "Character Education, Nutrition Education            2\n",
       "Financial Literacy, Performing Arts                 2\n",
       "Visual Arts, Warmth, Care & Hunger                  2\n",
       "College & Career Prep, Warmth, Care & Hunger        2\n",
       "Community Service, Financial Literacy               2\n",
       "Financial Literacy, Parent Involvement              2\n",
       "Applied Sciences, Warmth, Care & Hunger             2\n",
       "Financial Literacy, Health & Wellness               2\n",
       "Community Service, ESL                              2\n",
       "Financial Literacy, Music                           2\n",
       "Gym & Fitness, Parent Involvement                   2\n",
       "College & Career Prep, Gym & Fitness                2\n",
       "Community Service, Gym & Fitness                    2\n",
       "Early Development, Economics                        2\n",
       "ESL, Team Sports                                    2\n",
       "Nutrition Education, Parent Involvement             2\n",
       "Economics, Nutrition Education                      1\n",
       "Parent Involvement, Team Sports                     1\n",
       "ESL, Economics                                      1\n",
       "Civics & Government, Parent Involvement             1\n",
       "Music, Nutrition Education                          1\n",
       "History & Geography, Warmth, Care & Hunger          1\n",
       "Gym & Fitness, Social Sciences                      1\n",
       "Economics, Other                                    1\n",
       "Economics, Foreign Languages                        1\n",
       "Extracurricular, Warmth, Care & Hunger              1\n",
       "Civics & Government, Nutrition Education            1\n",
       "Economics, Extracurricular                          1\n",
       "Economics, Music                                    1\n",
       "Name: project_subject_subcategories, Length: 404, dtype: int64"
      ]
     },
     "execution_count": 70,
     "metadata": {},
     "output_type": "execute_result"
    }
   ],
   "source": [
    "training['project_subject_subcategories'].value_counts()"
   ]
  },
  {
   "cell_type": "code",
   "execution_count": 71,
   "metadata": {
    "collapsed": true
   },
   "outputs": [],
   "source": [
    "training['project_subject_categories'] = training['project_subject_categories'].str.replace('Warmth, Care & Hunger', 'Warmth Care & Hunger')"
   ]
  },
  {
   "cell_type": "code",
   "execution_count": 72,
   "metadata": {
    "collapsed": true
   },
   "outputs": [],
   "source": [
    "training['project_subject_subcategories'] = training['project_subject_subcategories'].str.replace('Warmth, Care & Hunger', 'Warmth Care & Hunger')"
   ]
  },
  {
   "cell_type": "code",
   "execution_count": 73,
   "metadata": {
    "scrolled": true
   },
   "outputs": [
    {
     "data": {
      "text/plain": [
       "Literacy                                        14441\n",
       "Literacy, Mathematics                           12964\n",
       "Literature & Writing, Mathematics                9083\n",
       "Mathematics                                      8229\n",
       "Literacy, Literature & Writing                   8180\n",
       "Special Needs                                    6684\n",
       "Literature & Writing                             6565\n",
       "Health & Wellness                                5546\n",
       "Applied Sciences, Mathematics                    5116\n",
       "Literacy, Special Needs                          3729\n",
       "Applied Sciences                                 3667\n",
       "Gym & Fitness, Health & Wellness                 3493\n",
       "ESL, Literacy                                    3308\n",
       "Visual Arts                                      2993\n",
       "Music                                            2130\n",
       "Literature & Writing, Special Needs              2040\n",
       "Health & Wellness, Special Needs                 1935\n",
       "Gym & Fitness                                    1808\n",
       "Mathematics, Special Needs                       1773\n",
       "Warmth Care & Hunger                             1761\n",
       "Environmental Science                            1522\n",
       "Team Sports                                      1512\n",
       "Environmental Science, Health & Life Science     1442\n",
       "Early Development                                1423\n",
       "Applied Sciences, Environmental Science          1381\n",
       "Other                                            1319\n",
       "Early Development, Special Needs                 1259\n",
       "Health & Life Science                            1247\n",
       "Music, Performing Arts                           1238\n",
       "Environmental Science, Mathematics               1214\n",
       "                                                ...  \n",
       "Financial Literacy, Health & Wellness               2\n",
       "Visual Arts, Warmth Care & Hunger                   2\n",
       "Early Development, Economics                        2\n",
       "Community Service, Gym & Fitness                    2\n",
       "Community Service, ESL                              2\n",
       "Financial Literacy, Music                           2\n",
       "Applied Sciences, Warmth Care & Hunger              2\n",
       "Gym & Fitness, Parent Involvement                   2\n",
       "Nutrition Education, Parent Involvement             2\n",
       "College & Career Prep, Warmth Care & Hunger         2\n",
       "College & Career Prep, Gym & Fitness                2\n",
       "Community Service, Financial Literacy               2\n",
       "Civics & Government, Foreign Languages              2\n",
       "ESL, Team Sports                                    2\n",
       "Financial Literacy, Performing Arts                 2\n",
       "Character Education, Nutrition Education            2\n",
       "Financial Literacy, Parent Involvement              2\n",
       "Economics, Nutrition Education                      1\n",
       "Civics & Government, Nutrition Education            1\n",
       "Civics & Government, Parent Involvement             1\n",
       "Economics, Music                                    1\n",
       "Music, Nutrition Education                          1\n",
       "History & Geography, Warmth Care & Hunger           1\n",
       "Gym & Fitness, Social Sciences                      1\n",
       "Parent Involvement, Team Sports                     1\n",
       "Economics, Extracurricular                          1\n",
       "ESL, Economics                                      1\n",
       "Extracurricular, Warmth Care & Hunger               1\n",
       "Economics, Foreign Languages                        1\n",
       "Economics, Other                                    1\n",
       "Name: project_subject_subcategories, Length: 404, dtype: int64"
      ]
     },
     "execution_count": 73,
     "metadata": {},
     "output_type": "execute_result"
    }
   ],
   "source": [
    "training['project_subject_subcategories'].value_counts()"
   ]
  },
  {
   "cell_type": "code",
   "execution_count": 74,
   "metadata": {
    "collapsed": true,
    "scrolled": true
   },
   "outputs": [],
   "source": [
    "training['project_subject_categories'] = list(training['project_subject_categories'].str.split(r', '))"
   ]
  },
  {
   "cell_type": "code",
   "execution_count": 75,
   "metadata": {},
   "outputs": [
    {
     "data": {
      "text/plain": [
       "['Health & Sports']"
      ]
     },
     "execution_count": 75,
     "metadata": {},
     "output_type": "execute_result"
    }
   ],
   "source": [
    "training['project_subject_categories'][3]"
   ]
  },
  {
   "cell_type": "code",
   "execution_count": 76,
   "metadata": {
    "collapsed": true
   },
   "outputs": [],
   "source": [
    "training1 = training['project_subject_categories'].apply(collections.Counter)\n",
    "training1 = pd.DataFrame.from_records(training1).fillna(value=0)"
   ]
  },
  {
   "cell_type": "code",
   "execution_count": 77,
   "metadata": {
    "collapsed": true
   },
   "outputs": [],
   "source": [
    "training['project_subject_subcategories'] = list(training['project_subject_subcategories'].str.split(r', '))"
   ]
  },
  {
   "cell_type": "code",
   "execution_count": 78,
   "metadata": {},
   "outputs": [
    {
     "data": {
      "text/plain": [
       "['Applied Sciences', 'Literature & Writing']"
      ]
     },
     "execution_count": 78,
     "metadata": {},
     "output_type": "execute_result"
    }
   ],
   "source": [
    "training['project_subject_subcategories'][2]"
   ]
  },
  {
   "cell_type": "code",
   "execution_count": 79,
   "metadata": {
    "collapsed": true
   },
   "outputs": [],
   "source": [
    "training2 = training['project_subject_subcategories'].apply(collections.Counter)\n",
    "training2 = pd.DataFrame.from_records(training2).fillna(value=0)"
   ]
  },
  {
   "cell_type": "code",
   "execution_count": 80,
   "metadata": {
    "collapsed": true
   },
   "outputs": [],
   "source": [
    "training = training.merge(training1, how='left', left_index=True, right_index=True)"
   ]
  },
  {
   "cell_type": "code",
   "execution_count": 81,
   "metadata": {
    "collapsed": true
   },
   "outputs": [],
   "source": [
    "training = training.merge(training2, how='left', left_index=True, right_index=True)"
   ]
  },
  {
   "cell_type": "code",
   "execution_count": 82,
   "metadata": {
    "collapsed": true
   },
   "outputs": [],
   "source": [
    "training.drop(['project_subject_subcategories', 'project_subject_categories'], 1, inplace=True)"
   ]
  },
  {
   "cell_type": "code",
   "execution_count": 83,
   "metadata": {},
   "outputs": [
    {
     "data": {
      "text/html": [
       "<div>\n",
       "<style>\n",
       "    .dataframe thead tr:only-child th {\n",
       "        text-align: right;\n",
       "    }\n",
       "\n",
       "    .dataframe thead th {\n",
       "        text-align: left;\n",
       "    }\n",
       "\n",
       "    .dataframe tbody tr th {\n",
       "        vertical-align: top;\n",
       "    }\n",
       "</style>\n",
       "<table border=\"1\" class=\"dataframe\">\n",
       "  <thead>\n",
       "    <tr style=\"text-align: right;\">\n",
       "      <th></th>\n",
       "      <th>id</th>\n",
       "      <th>teacher_id</th>\n",
       "      <th>teacher_prefix</th>\n",
       "      <th>school_state</th>\n",
       "      <th>project_submitted_datetime</th>\n",
       "      <th>project_grade_category</th>\n",
       "      <th>project_title</th>\n",
       "      <th>project_essay_1</th>\n",
       "      <th>project_essay_2</th>\n",
       "      <th>project_essay_3</th>\n",
       "      <th>...</th>\n",
       "      <th>Music</th>\n",
       "      <th>Nutrition Education</th>\n",
       "      <th>Other</th>\n",
       "      <th>Parent Involvement</th>\n",
       "      <th>Performing Arts</th>\n",
       "      <th>Social Sciences</th>\n",
       "      <th>Special Needs_y</th>\n",
       "      <th>Team Sports</th>\n",
       "      <th>Visual Arts</th>\n",
       "      <th>Warmth Care &amp; Hunger_y</th>\n",
       "    </tr>\n",
       "  </thead>\n",
       "  <tbody>\n",
       "    <tr>\n",
       "      <th>0</th>\n",
       "      <td>p036502</td>\n",
       "      <td>484aaf11257089a66cfedc9461c6bd0a</td>\n",
       "      <td>Ms.</td>\n",
       "      <td>NV</td>\n",
       "      <td>2016-11-18 14:45:59</td>\n",
       "      <td>Grades PreK-2</td>\n",
       "      <td>Super Sight Word Centers</td>\n",
       "      <td>Most of my kindergarten students come from low...</td>\n",
       "      <td>I currently have a differentiated sight word c...</td>\n",
       "      <td>NaN</td>\n",
       "      <td>...</td>\n",
       "      <td>0.0</td>\n",
       "      <td>0.0</td>\n",
       "      <td>0.0</td>\n",
       "      <td>0.0</td>\n",
       "      <td>0.0</td>\n",
       "      <td>0.0</td>\n",
       "      <td>0.0</td>\n",
       "      <td>0.0</td>\n",
       "      <td>0.0</td>\n",
       "      <td>0.0</td>\n",
       "    </tr>\n",
       "    <tr>\n",
       "      <th>1</th>\n",
       "      <td>p039565</td>\n",
       "      <td>df72a3ba8089423fa8a94be88060f6ed</td>\n",
       "      <td>Mrs.</td>\n",
       "      <td>GA</td>\n",
       "      <td>2017-04-26 15:57:28</td>\n",
       "      <td>Grades 3-5</td>\n",
       "      <td>Keep Calm and Dance On</td>\n",
       "      <td>Our elementary school is a culturally rich sch...</td>\n",
       "      <td>We strive to provide our diverse population of...</td>\n",
       "      <td>NaN</td>\n",
       "      <td>...</td>\n",
       "      <td>0.0</td>\n",
       "      <td>0.0</td>\n",
       "      <td>0.0</td>\n",
       "      <td>0.0</td>\n",
       "      <td>1.0</td>\n",
       "      <td>0.0</td>\n",
       "      <td>0.0</td>\n",
       "      <td>1.0</td>\n",
       "      <td>0.0</td>\n",
       "      <td>0.0</td>\n",
       "    </tr>\n",
       "    <tr>\n",
       "      <th>2</th>\n",
       "      <td>p233823</td>\n",
       "      <td>a9b876a9252e08a55e3d894150f75ba3</td>\n",
       "      <td>Ms.</td>\n",
       "      <td>UT</td>\n",
       "      <td>2017-01-01 22:57:44</td>\n",
       "      <td>Grades 3-5</td>\n",
       "      <td>Lets 3Doodle to Learn</td>\n",
       "      <td>Hello;\\r\\nMy name is Mrs. Brotherton. I teach ...</td>\n",
       "      <td>We are looking to add some 3Doodler to our cla...</td>\n",
       "      <td>NaN</td>\n",
       "      <td>...</td>\n",
       "      <td>0.0</td>\n",
       "      <td>0.0</td>\n",
       "      <td>0.0</td>\n",
       "      <td>0.0</td>\n",
       "      <td>0.0</td>\n",
       "      <td>0.0</td>\n",
       "      <td>0.0</td>\n",
       "      <td>0.0</td>\n",
       "      <td>0.0</td>\n",
       "      <td>0.0</td>\n",
       "    </tr>\n",
       "    <tr>\n",
       "      <th>3</th>\n",
       "      <td>p185307</td>\n",
       "      <td>525fdbb6ec7f538a48beebaa0a51b24f</td>\n",
       "      <td>Mr.</td>\n",
       "      <td>NC</td>\n",
       "      <td>2016-08-12 15:42:11</td>\n",
       "      <td>Grades 3-5</td>\n",
       "      <td>\\\"Kid Inspired\\\" Equipment to Increase Activit...</td>\n",
       "      <td>My students are the greatest students but are ...</td>\n",
       "      <td>The student's project which is totally \\\"kid-i...</td>\n",
       "      <td>NaN</td>\n",
       "      <td>...</td>\n",
       "      <td>0.0</td>\n",
       "      <td>0.0</td>\n",
       "      <td>0.0</td>\n",
       "      <td>0.0</td>\n",
       "      <td>0.0</td>\n",
       "      <td>0.0</td>\n",
       "      <td>0.0</td>\n",
       "      <td>0.0</td>\n",
       "      <td>0.0</td>\n",
       "      <td>0.0</td>\n",
       "    </tr>\n",
       "    <tr>\n",
       "      <th>4</th>\n",
       "      <td>p013780</td>\n",
       "      <td>a63b5547a7239eae4c1872670848e61a</td>\n",
       "      <td>Mr.</td>\n",
       "      <td>CA</td>\n",
       "      <td>2016-08-06 09:09:11</td>\n",
       "      <td>Grades 6-8</td>\n",
       "      <td>We need clean water for our culinary arts class!</td>\n",
       "      <td>My students are athletes and students who are ...</td>\n",
       "      <td>For some reason in our kitchen the water comes...</td>\n",
       "      <td>NaN</td>\n",
       "      <td>...</td>\n",
       "      <td>0.0</td>\n",
       "      <td>0.0</td>\n",
       "      <td>0.0</td>\n",
       "      <td>0.0</td>\n",
       "      <td>0.0</td>\n",
       "      <td>0.0</td>\n",
       "      <td>0.0</td>\n",
       "      <td>0.0</td>\n",
       "      <td>0.0</td>\n",
       "      <td>0.0</td>\n",
       "    </tr>\n",
       "  </tbody>\n",
       "</table>\n",
       "<p>5 rows × 53 columns</p>\n",
       "</div>"
      ],
      "text/plain": [
       "        id                        teacher_id teacher_prefix school_state  \\\n",
       "0  p036502  484aaf11257089a66cfedc9461c6bd0a            Ms.           NV   \n",
       "1  p039565  df72a3ba8089423fa8a94be88060f6ed           Mrs.           GA   \n",
       "2  p233823  a9b876a9252e08a55e3d894150f75ba3            Ms.           UT   \n",
       "3  p185307  525fdbb6ec7f538a48beebaa0a51b24f            Mr.           NC   \n",
       "4  p013780  a63b5547a7239eae4c1872670848e61a            Mr.           CA   \n",
       "\n",
       "  project_submitted_datetime project_grade_category  \\\n",
       "0        2016-11-18 14:45:59          Grades PreK-2   \n",
       "1        2017-04-26 15:57:28             Grades 3-5   \n",
       "2        2017-01-01 22:57:44             Grades 3-5   \n",
       "3        2016-08-12 15:42:11             Grades 3-5   \n",
       "4        2016-08-06 09:09:11             Grades 6-8   \n",
       "\n",
       "                                       project_title  \\\n",
       "0                           Super Sight Word Centers   \n",
       "1                             Keep Calm and Dance On   \n",
       "2                              Lets 3Doodle to Learn   \n",
       "3  \\\"Kid Inspired\\\" Equipment to Increase Activit...   \n",
       "4   We need clean water for our culinary arts class!   \n",
       "\n",
       "                                     project_essay_1  \\\n",
       "0  Most of my kindergarten students come from low...   \n",
       "1  Our elementary school is a culturally rich sch...   \n",
       "2  Hello;\\r\\nMy name is Mrs. Brotherton. I teach ...   \n",
       "3  My students are the greatest students but are ...   \n",
       "4  My students are athletes and students who are ...   \n",
       "\n",
       "                                     project_essay_2 project_essay_3  \\\n",
       "0  I currently have a differentiated sight word c...             NaN   \n",
       "1  We strive to provide our diverse population of...             NaN   \n",
       "2  We are looking to add some 3Doodler to our cla...             NaN   \n",
       "3  The student's project which is totally \\\"kid-i...             NaN   \n",
       "4  For some reason in our kitchen the water comes...             NaN   \n",
       "\n",
       "            ...           Music Nutrition Education  Other  \\\n",
       "0           ...             0.0                 0.0    0.0   \n",
       "1           ...             0.0                 0.0    0.0   \n",
       "2           ...             0.0                 0.0    0.0   \n",
       "3           ...             0.0                 0.0    0.0   \n",
       "4           ...             0.0                 0.0    0.0   \n",
       "\n",
       "   Parent Involvement  Performing Arts  Social Sciences  Special Needs_y  \\\n",
       "0                 0.0              0.0              0.0              0.0   \n",
       "1                 0.0              1.0              0.0              0.0   \n",
       "2                 0.0              0.0              0.0              0.0   \n",
       "3                 0.0              0.0              0.0              0.0   \n",
       "4                 0.0              0.0              0.0              0.0   \n",
       "\n",
       "   Team Sports  Visual Arts  Warmth Care & Hunger_y  \n",
       "0          0.0          0.0                     0.0  \n",
       "1          1.0          0.0                     0.0  \n",
       "2          0.0          0.0                     0.0  \n",
       "3          0.0          0.0                     0.0  \n",
       "4          0.0          0.0                     0.0  \n",
       "\n",
       "[5 rows x 53 columns]"
      ]
     },
     "execution_count": 83,
     "metadata": {},
     "output_type": "execute_result"
    }
   ],
   "source": [
    "training.head()"
   ]
  },
  {
   "cell_type": "code",
   "execution_count": 85,
   "metadata": {},
   "outputs": [
    {
     "data": {
      "text/plain": [
       "['id',\n",
       " 'teacher_id',\n",
       " 'teacher_prefix',\n",
       " 'school_state',\n",
       " 'project_submitted_datetime',\n",
       " 'project_grade_category',\n",
       " 'project_title',\n",
       " 'project_essay_1',\n",
       " 'project_essay_2',\n",
       " 'project_essay_3',\n",
       " 'project_essay_4',\n",
       " 'project_resource_summary',\n",
       " 'teacher_number_of_previously_posted_projects',\n",
       " 'project_is_approved',\n",
       " 'quantity',\n",
       " 'total_price',\n",
       " 'Applied Learning',\n",
       " 'Health & Sports',\n",
       " 'History & Civics',\n",
       " 'Literacy & Language',\n",
       " 'Math & Science',\n",
       " 'Music & The Arts',\n",
       " 'Special Needs_x',\n",
       " 'Warmth Care & Hunger_x',\n",
       " 'Applied Sciences',\n",
       " 'Character Education',\n",
       " 'Civics & Government',\n",
       " 'College & Career Prep',\n",
       " 'Community Service',\n",
       " 'ESL',\n",
       " 'Early Development',\n",
       " 'Economics',\n",
       " 'Environmental Science',\n",
       " 'Extracurricular',\n",
       " 'Financial Literacy',\n",
       " 'Foreign Languages',\n",
       " 'Gym & Fitness',\n",
       " 'Health & Life Science',\n",
       " 'Health & Wellness',\n",
       " 'History & Geography',\n",
       " 'Literacy',\n",
       " 'Literature & Writing',\n",
       " 'Mathematics',\n",
       " 'Music',\n",
       " 'Nutrition Education',\n",
       " 'Other',\n",
       " 'Parent Involvement',\n",
       " 'Performing Arts',\n",
       " 'Social Sciences',\n",
       " 'Special Needs_y',\n",
       " 'Team Sports',\n",
       " 'Visual Arts',\n",
       " 'Warmth Care & Hunger_y']"
      ]
     },
     "execution_count": 85,
     "metadata": {},
     "output_type": "execute_result"
    }
   ],
   "source": [
    "list(training.columns)"
   ]
  },
  {
   "cell_type": "code",
   "execution_count": 105,
   "metadata": {},
   "outputs": [],
   "source": [
    "cat_totals = pd.DataFrame(training.loc[:,'Applied Learning':'Applied Sciences'].sum(axis=0))"
   ]
  },
  {
   "cell_type": "code",
   "execution_count": 106,
   "metadata": {},
   "outputs": [
    {
     "data": {
      "text/html": [
       "<div>\n",
       "<style>\n",
       "    .dataframe thead tr:only-child th {\n",
       "        text-align: right;\n",
       "    }\n",
       "\n",
       "    .dataframe thead th {\n",
       "        text-align: left;\n",
       "    }\n",
       "\n",
       "    .dataframe tbody tr th {\n",
       "        vertical-align: top;\n",
       "    }\n",
       "</style>\n",
       "<table border=\"1\" class=\"dataframe\">\n",
       "  <thead>\n",
       "    <tr style=\"text-align: right;\">\n",
       "      <th></th>\n",
       "      <th>count</th>\n",
       "      <th>category</th>\n",
       "    </tr>\n",
       "  </thead>\n",
       "  <tbody>\n",
       "    <tr>\n",
       "      <th>0</th>\n",
       "      <td>16307.0</td>\n",
       "      <td>Applied Learning</td>\n",
       "    </tr>\n",
       "    <tr>\n",
       "      <th>1</th>\n",
       "      <td>19502.0</td>\n",
       "      <td>Health &amp; Sports</td>\n",
       "    </tr>\n",
       "    <tr>\n",
       "      <th>2</th>\n",
       "      <td>7417.0</td>\n",
       "      <td>History &amp; Civics</td>\n",
       "    </tr>\n",
       "    <tr>\n",
       "      <th>3</th>\n",
       "      <td>70134.0</td>\n",
       "      <td>Literacy &amp; Language</td>\n",
       "    </tr>\n",
       "    <tr>\n",
       "      <th>4</th>\n",
       "      <td>55617.0</td>\n",
       "      <td>Math &amp; Science</td>\n",
       "    </tr>\n",
       "    <tr>\n",
       "      <th>5</th>\n",
       "      <td>12739.0</td>\n",
       "      <td>Music &amp; The Arts</td>\n",
       "    </tr>\n",
       "    <tr>\n",
       "      <th>6</th>\n",
       "      <td>18887.0</td>\n",
       "      <td>Special Needs_x</td>\n",
       "    </tr>\n",
       "    <tr>\n",
       "      <th>7</th>\n",
       "      <td>1663.0</td>\n",
       "      <td>Warmth Care &amp; Hunger_x</td>\n",
       "    </tr>\n",
       "    <tr>\n",
       "      <th>8</th>\n",
       "      <td>14210.0</td>\n",
       "      <td>Applied Sciences</td>\n",
       "    </tr>\n",
       "  </tbody>\n",
       "</table>\n",
       "</div>"
      ],
      "text/plain": [
       "     count                category\n",
       "0  16307.0        Applied Learning\n",
       "1  19502.0         Health & Sports\n",
       "2   7417.0        History & Civics\n",
       "3  70134.0     Literacy & Language\n",
       "4  55617.0          Math & Science\n",
       "5  12739.0        Music & The Arts\n",
       "6  18887.0         Special Needs_x\n",
       "7   1663.0  Warmth Care & Hunger_x\n",
       "8  14210.0        Applied Sciences"
      ]
     },
     "execution_count": 106,
     "metadata": {},
     "output_type": "execute_result"
    }
   ],
   "source": [
    "cat_totals['category'] = cat_totals.index\n",
    "cat_totals.columns = ['count','category']\n",
    "cat_totals.reset_index(drop=True, inplace=True)\n",
    "cat_totals"
   ]
  },
  {
   "cell_type": "code",
   "execution_count": 110,
   "metadata": {},
   "outputs": [
    {
     "data": {
      "image/png": "[encoded data removed]",
      "text/plain": [
       "<matplotlib.figure.Figure at 0x1a1e239470>"
      ]
     },
     "metadata": {},
     "output_type": "display_data"
    }
   ],
   "source": [
    "plt.figure(figsize=(10,5))\n",
    "sns.barplot(x='category', y='count', data=cat_totals)\n",
    "plt.xticks(rotation=70)\n",
    "plt.show()"
   ]
  },
  {
   "cell_type": "code",
   "execution_count": 108,
   "metadata": {},
   "outputs": [],
   "source": [
    "subcat_totals = pd.DataFrame(training.loc[:,'Applied Sciences':].sum(axis=0))\n",
    "subcat_totals['category'] = subcat_totals.index\n",
    "subcat_totals.columns = ['count','category']\n",
    "subcat_totals.reset_index(drop=True, inplace=True)"
   ]
  },
  {
   "cell_type": "code",
   "execution_count": 109,
   "metadata": {},
   "outputs": [
    {
     "data": {
      "image/png": "[encoded data removed]",
      "text/plain": [
       "<matplotlib.figure.Figure at 0x1a221c7f98>"
      ]
     },
     "metadata": {},
     "output_type": "display_data"
    }
   ],
   "source": [
    "plt.figure(figsize=(15,8))\n",
    "sns.barplot(x='category', y='count', data=subcat_totals)\n",
    "plt.xticks(rotation=80)\n",
    "plt.show()"
   ]
  },
  {
   "cell_type": "code",
   "execution_count": 114,
   "metadata": {},
   "outputs": [],
   "source": [
    "training['project_title'] = training['project_title'].str.lower()\n",
    "training['project_essay_1'] = training['project_essay_1'].str.lower()\n",
    "training['project_essay_2'] = training['project_essay_2'].str.lower()\n",
    "training['project_essay_3'] = training['project_essay_3'].str.lower()\n",
    "training['project_essay_4'] = training['project_essay_4'].str.lower()"
   ]
  },
  {
   "cell_type": "code",
   "execution_count": 121,
   "metadata": {},
   "outputs": [],
   "source": [
    "training['project_title'] = training['project_title'].str.replace(r'[^a-zA-Z ]+', '')"
   ]
  },
  {
   "cell_type": "code",
   "execution_count": 118,
   "metadata": {
    "collapsed": true
   },
   "outputs": [],
   "source": [
    "training['project_essay_1'] = training['project_essay_1'].str.replace(r'[^a-zA-Z ]+', '')\n",
    "training['project_essay_2'] = training['project_essay_2'].str.replace(r'[^a-zA-Z ]+', '')\n",
    "training['project_essay_3'] = training['project_essay_3'].str.replace(r'[^a-zA-Z ]+', '')\n",
    "training['project_essay_4'] = training['project_essay_4'].str.replace(r'[^a-zA-Z ]+', '')"
   ]
  },
  {
   "cell_type": "code",
   "execution_count": 130,
   "metadata": {
    "collapsed": true
   },
   "outputs": [],
   "source": [
    "training['project_essay_3'] = training['project_essay_3'].fillna('')\n",
    "training['project_essay_4'] = training['project_essay_4'].fillna('')"
   ]
  },
  {
   "cell_type": "code",
   "execution_count": 131,
   "metadata": {},
   "outputs": [],
   "source": [
    "from nltk.corpus import stopwords\n",
    "stop = stopwords.words('english')\n",
    "\n",
    "training['project_title'] = training['project_title'].apply(lambda x: ' '.join([word for word in x.split() if word not in (stop)]))\n",
    "training['project_essay_1'] = training['project_essay_1'].apply(lambda x: ' '.join([word for word in x.split() if word not in (stop)]))\n",
    "training['project_essay_2'] = training['project_essay_2'].apply(lambda x: ' '.join([word for word in x.split() if word not in (stop)]))\n",
    "training['project_essay_3'] = training['project_essay_3'].apply(lambda x: ' '.join([word for word in x.split() if word not in (stop)]))\n",
    "training['project_essay_4'] = training['project_essay_4'].apply(lambda x: ' '.join([word for word in x.split() if word not in (stop)]))"
   ]
  },
  {
   "cell_type": "code",
   "execution_count": 132,
   "metadata": {},
   "outputs": [
    {
     "data": {
      "image/png": "[encoded data removed]",
      "text/plain": [
       "<matplotlib.figure.Figure at 0x1a1b1cf128>"
      ]
     },
     "metadata": {},
     "output_type": "display_data"
    }
   ],
   "source": [
    "title = ' '.join(training['project_title'])\n",
    "tokens = nltk.tokenize.word_tokenize(title)\n",
    "freq = FreqDist(tokens)\n",
    "freq1 = freq.most_common(20)\n",
    "word, count = zip(*freq1)\n",
    "word = list(word)\n",
    "count = list(count)\n",
    "\n",
    "plt.figure(figsize=(15,10))\n",
    "sns.barplot(np.arange(len(word)), count)\n",
    "plt.xticks(np.arange(len(word)), word, rotation=45, size='large')\n",
    "plt.ylabel('Frequency')\n",
    "plt.title('Most Frequent Words')\n",
    "plt.show()"
   ]
  },
  {
   "cell_type": "code",
   "execution_count": 133,
   "metadata": {},
   "outputs": [
    {
     "data": {
      "image/png": "[encoded data removed]",
      "text/plain": [
       "<matplotlib.figure.Figure at 0x1a21cd9780>"
      ]
     },
     "metadata": {},
     "output_type": "display_data"
    }
   ],
   "source": [
    "wordcloud = WordCloud(width = 1000, height = 500,colormap='tab10', min_font_size=10).generate(' '.join(training['project_title']))\n",
    "plt.figure(figsize=(15,8))\n",
    "plt.imshow(wordcloud)\n",
    "plt.axis(\"off\")\n",
    "plt.show()"
   ]
  },
  {
   "cell_type": "code",
   "execution_count": null,
   "metadata": {
    "collapsed": true
   },
   "outputs": [],
   "source": []
  }
 ],
 "metadata": {
  "kernelspec": {
   "display_name": "Python 3",
   "language": "python",
   "name": "python3"
  },
  "language_info": {
   "codemirror_mode": {
    "name": "ipython",
    "version": 3
   },
   "file_extension": ".py",
   "mimetype": "text/x-python",
   "name": "python",
   "nbconvert_exporter": "python",
   "pygments_lexer": "ipython3",
   "version": "3.6.1"
  }
 },
 "nbformat": 4,
 "nbformat_minor": 2
}
