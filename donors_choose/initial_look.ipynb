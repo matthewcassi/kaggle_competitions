{
 "cells": [
  {
   "cell_type": "code",
   "execution_count": 1,
   "metadata": {
    "collapsed": true
   },
   "outputs": [],
   "source": [
    "import pandas as pd\n",
    "import numpy as np\n",
    "import collections\n",
    "import matplotlib.pyplot as plt\n",
    "%matplotlib inline\n",
    "import seaborn as sns"
   ]
  },
  {
   "cell_type": "code",
   "execution_count": 2,
   "metadata": {
    "collapsed": true
   },
   "outputs": [],
   "source": [
    "training = pd.read_csv('train.csv')"
   ]
  },
  {
   "cell_type": "code",
   "execution_count": 3,
   "metadata": {},
   "outputs": [
    {
     "name": "stdout",
     "output_type": "stream",
     "text": [
      "<class 'pandas.core.frame.DataFrame'>\n",
      "RangeIndex: 182080 entries, 0 to 182079\n",
      "Data columns (total 16 columns):\n",
      "id                                              182080 non-null object\n",
      "teacher_id                                      182080 non-null object\n",
      "teacher_prefix                                  182076 non-null object\n",
      "school_state                                    182080 non-null object\n",
      "project_submitted_datetime                      182080 non-null object\n",
      "project_grade_category                          182080 non-null object\n",
      "project_subject_categories                      182080 non-null object\n",
      "project_subject_subcategories                   182080 non-null object\n",
      "project_title                                   182080 non-null object\n",
      "project_essay_1                                 182080 non-null object\n",
      "project_essay_2                                 182080 non-null object\n",
      "project_essay_3                                 6374 non-null object\n",
      "project_essay_4                                 6374 non-null object\n",
      "project_resource_summary                        182080 non-null object\n",
      "teacher_number_of_previously_posted_projects    182080 non-null int64\n",
      "project_is_approved                             182080 non-null int64\n",
      "dtypes: int64(2), object(14)\n",
      "memory usage: 22.2+ MB\n"
     ]
    }
   ],
   "source": [
    "training.info()"
   ]
  },
  {
   "cell_type": "code",
   "execution_count": 4,
   "metadata": {
    "collapsed": true
   },
   "outputs": [],
   "source": [
    "training['project_submitted_datetime'] = pd.to_datetime(training['project_submitted_datetime'])"
   ]
  },
  {
   "cell_type": "code",
   "execution_count": 5,
   "metadata": {},
   "outputs": [
    {
     "data": {
      "text/plain": [
       "1    154346\n",
       "0     27734\n",
       "Name: project_is_approved, dtype: int64"
      ]
     },
     "execution_count": 5,
     "metadata": {},
     "output_type": "execute_result"
    }
   ],
   "source": [
    "training['project_is_approved'].value_counts()"
   ]
  },
  {
   "cell_type": "code",
   "execution_count": 6,
   "metadata": {},
   "outputs": [
    {
     "data": {
      "image/png": "[encoded data removed]",
      "text/plain": [
       "<matplotlib.figure.Figure at 0x224a4754278>"
      ]
     },
     "metadata": {},
     "output_type": "display_data"
    }
   ],
   "source": [
    "sns.countplot(x='project_is_approved', data=training)\n",
    "plt.show()"
   ]
  },
  {
   "cell_type": "code",
   "execution_count": 7,
   "metadata": {
    "scrolled": false
   },
   "outputs": [
    {
     "data": {
      "text/html": [
       "<div>\n",
       "<style>\n",
       "    .dataframe thead tr:only-child th {\n",
       "        text-align: right;\n",
       "    }\n",
       "\n",
       "    .dataframe thead th {\n",
       "        text-align: left;\n",
       "    }\n",
       "\n",
       "    .dataframe tbody tr th {\n",
       "        vertical-align: top;\n",
       "    }\n",
       "</style>\n",
       "<table border=\"1\" class=\"dataframe\">\n",
       "  <thead>\n",
       "    <tr style=\"text-align: right;\">\n",
       "      <th></th>\n",
       "      <th>teacher_number_of_previously_posted_projects</th>\n",
       "      <th>project_is_approved</th>\n",
       "    </tr>\n",
       "  </thead>\n",
       "  <tbody>\n",
       "    <tr>\n",
       "      <th>count</th>\n",
       "      <td>182080.000000</td>\n",
       "      <td>182080.000000</td>\n",
       "    </tr>\n",
       "    <tr>\n",
       "      <th>mean</th>\n",
       "      <td>11.237055</td>\n",
       "      <td>0.847682</td>\n",
       "    </tr>\n",
       "    <tr>\n",
       "      <th>std</th>\n",
       "      <td>28.016086</td>\n",
       "      <td>0.359330</td>\n",
       "    </tr>\n",
       "    <tr>\n",
       "      <th>min</th>\n",
       "      <td>0.000000</td>\n",
       "      <td>0.000000</td>\n",
       "    </tr>\n",
       "    <tr>\n",
       "      <th>25%</th>\n",
       "      <td>0.000000</td>\n",
       "      <td>1.000000</td>\n",
       "    </tr>\n",
       "    <tr>\n",
       "      <th>50%</th>\n",
       "      <td>2.000000</td>\n",
       "      <td>1.000000</td>\n",
       "    </tr>\n",
       "    <tr>\n",
       "      <th>75%</th>\n",
       "      <td>9.000000</td>\n",
       "      <td>1.000000</td>\n",
       "    </tr>\n",
       "    <tr>\n",
       "      <th>max</th>\n",
       "      <td>451.000000</td>\n",
       "      <td>1.000000</td>\n",
       "    </tr>\n",
       "  </tbody>\n",
       "</table>\n",
       "</div>"
      ],
      "text/plain": [
       "       teacher_number_of_previously_posted_projects  project_is_approved\n",
       "count                                 182080.000000        182080.000000\n",
       "mean                                      11.237055             0.847682\n",
       "std                                       28.016086             0.359330\n",
       "min                                        0.000000             0.000000\n",
       "25%                                        0.000000             1.000000\n",
       "50%                                        2.000000             1.000000\n",
       "75%                                        9.000000             1.000000\n",
       "max                                      451.000000             1.000000"
      ]
     },
     "execution_count": 7,
     "metadata": {},
     "output_type": "execute_result"
    }
   ],
   "source": [
    "training.describe()"
   ]
  },
  {
   "cell_type": "code",
   "execution_count": 8,
   "metadata": {},
   "outputs": [
    {
     "data": {
      "text/plain": [
       "<matplotlib.axes._subplots.AxesSubplot at 0x2249d4d0320>"
      ]
     },
     "execution_count": 8,
     "metadata": {},
     "output_type": "execute_result"
    },
    {
     "data": {
      "image/png": "[encoded data removed]",
      "text/plain": [
       "<matplotlib.figure.Figure at 0x2249d2a6da0>"
      ]
     },
     "metadata": {},
     "output_type": "display_data"
    }
   ],
   "source": [
    "training['teacher_number_of_previously_posted_projects'].plot.box()"
   ]
  },
  {
   "cell_type": "code",
   "execution_count": 9,
   "metadata": {},
   "outputs": [
    {
     "data": {
      "text/plain": [
       "<matplotlib.axes._subplots.AxesSubplot at 0x22490547c88>"
      ]
     },
     "execution_count": 9,
     "metadata": {},
     "output_type": "execute_result"
    },
    {
     "data": {
      "image/png": "[encoded data removed]",
      "text/plain": [
       "<matplotlib.figure.Figure at 0x22482a23588>"
      ]
     },
     "metadata": {},
     "output_type": "display_data"
    }
   ],
   "source": [
    "training['teacher_number_of_previously_posted_projects'].plot.hist(bins=20)"
   ]
  },
  {
   "cell_type": "code",
   "execution_count": 10,
   "metadata": {},
   "outputs": [
    {
     "name": "stderr",
     "output_type": "stream",
     "text": [
      "C:\\Users\\mcassi\\AppData\\Local\\Continuum\\anaconda3\\lib\\site-packages\\ipykernel_launcher.py:1: RuntimeWarning: divide by zero encountered in log\n",
      "  \"\"\"Entry point for launching an IPython kernel.\n"
     ]
    },
    {
     "data": {
      "image/png": "[encoded data removed]",
      "text/plain": [
       "<matplotlib.figure.Figure at 0x2248cf91128>"
      ]
     },
     "metadata": {},
     "output_type": "display_data"
    }
   ],
   "source": [
    "log_project = pd.DataFrame(np.log(training[['teacher_number_of_previously_posted_projects']]))\n",
    "\n",
    "log_project[log_project['teacher_number_of_previously_posted_projects'] != -float('inf')].plot.hist(bins=10)\n",
    "plt.show()"
   ]
  },
  {
   "cell_type": "code",
   "execution_count": 11,
   "metadata": {},
   "outputs": [
    {
     "data": {
      "text/plain": [
       "(11.237055140597539, 28.01608601938684)"
      ]
     },
     "execution_count": 11,
     "metadata": {},
     "output_type": "execute_result"
    }
   ],
   "source": [
    "training['teacher_number_of_previously_posted_projects'].mean(), training['teacher_number_of_previously_posted_projects'].std()"
   ]
  },
  {
   "cell_type": "code",
   "execution_count": 12,
   "metadata": {},
   "outputs": [
    {
     "data": {
      "text/plain": [
       "67.27"
      ]
     },
     "execution_count": 12,
     "metadata": {},
     "output_type": "execute_result"
    }
   ],
   "source": [
    "11.23 + (28.02 * 2)"
   ]
  },
  {
   "cell_type": "code",
   "execution_count": 13,
   "metadata": {},
   "outputs": [
    {
     "data": {
      "text/plain": [
       "<matplotlib.axes._subplots.AxesSubplot at 0x224874ad390>"
      ]
     },
     "execution_count": 13,
     "metadata": {},
     "output_type": "execute_result"
    },
    {
     "data": {
      "image/png": "[encoded data removed]",
      "text/plain": [
       "<matplotlib.figure.Figure at 0x224994e9630>"
      ]
     },
     "metadata": {},
     "output_type": "display_data"
    }
   ],
   "source": [
    "training[training['teacher_number_of_previously_posted_projects'] < 67.27]['teacher_number_of_previously_posted_projects'].plot.box()"
   ]
  },
  {
   "cell_type": "code",
   "execution_count": 14,
   "metadata": {
    "collapsed": true
   },
   "outputs": [],
   "source": [
    "training = training[training['teacher_number_of_previously_posted_projects'] < 67.27]"
   ]
  },
  {
   "cell_type": "code",
   "execution_count": 15,
   "metadata": {},
   "outputs": [
    {
     "data": {
      "text/plain": [
       "count    175379.000000\n",
       "mean          6.835625\n",
       "std          11.533715\n",
       "min           0.000000\n",
       "25%           0.000000\n",
       "50%           2.000000\n",
       "75%           7.000000\n",
       "max          67.000000\n",
       "Name: teacher_number_of_previously_posted_projects, dtype: float64"
      ]
     },
     "execution_count": 15,
     "metadata": {},
     "output_type": "execute_result"
    }
   ],
   "source": [
    "training['teacher_number_of_previously_posted_projects'].describe()"
   ]
  },
  {
   "cell_type": "code",
   "execution_count": 16,
   "metadata": {},
   "outputs": [
    {
     "data": {
      "image/png": "[encoded data removed]",
      "text/plain": [
       "<matplotlib.figure.Figure at 0x2248d5c1208>"
      ]
     },
     "metadata": {},
     "output_type": "display_data"
    }
   ],
   "source": [
    "plt.figure(figsize=(15,10))\n",
    "plt.subplot(2,1,1)\n",
    "sns.countplot(x='school_state', data=training)\n",
    "\n",
    "plt.subplot(2,1,2)\n",
    "sns.countplot(x='school_state', hue='project_is_approved', data=training)\n",
    "\n",
    "plt.tight_layout()\n",
    "plt.show()"
   ]
  },
  {
   "cell_type": "code",
   "execution_count": 17,
   "metadata": {},
   "outputs": [],
   "source": [
    "state = pd.pivot_table(training, index='school_state', columns='project_is_approved', values='id', aggfunc=len)"
   ]
  },
  {
   "cell_type": "code",
   "execution_count": 18,
   "metadata": {
    "scrolled": true
   },
   "outputs": [],
   "source": [
    "state['per_rejected'] = (state[0]) / (state[0] + state[1])\n",
    "state['per_approved'] = (state[1]) / (state[0] + state[1])"
   ]
  },
  {
   "cell_type": "code",
   "execution_count": 19,
   "metadata": {
    "collapsed": true
   },
   "outputs": [],
   "source": [
    "state['per_approved_total'] = (state[1]) / (state[1].sum(axis=0))"
   ]
  },
  {
   "cell_type": "code",
   "execution_count": 20,
   "metadata": {
    "collapsed": true
   },
   "outputs": [],
   "source": [
    "state['per_rejected_total'] = (state[0]) / (state[0].sum(axis=0))"
   ]
  },
  {
   "cell_type": "code",
   "execution_count": 23,
   "metadata": {
    "scrolled": true
   },
   "outputs": [
    {
     "data": {
      "text/html": [
       "<div>\n",
       "<style>\n",
       "    .dataframe thead tr:only-child th {\n",
       "        text-align: right;\n",
       "    }\n",
       "\n",
       "    .dataframe thead th {\n",
       "        text-align: left;\n",
       "    }\n",
       "\n",
       "    .dataframe tbody tr th {\n",
       "        vertical-align: top;\n",
       "    }\n",
       "</style>\n",
       "<table border=\"1\" class=\"dataframe\">\n",
       "  <thead>\n",
       "    <tr style=\"text-align: right;\">\n",
       "      <th>project_is_approved</th>\n",
       "      <th>0</th>\n",
       "      <th>1</th>\n",
       "      <th>per_rejected</th>\n",
       "      <th>per_approved</th>\n",
       "      <th>per_approved_total</th>\n",
       "      <th>per_rejected_total</th>\n",
       "    </tr>\n",
       "    <tr>\n",
       "      <th>school_state</th>\n",
       "      <th></th>\n",
       "      <th></th>\n",
       "      <th></th>\n",
       "      <th></th>\n",
       "      <th></th>\n",
       "      <th></th>\n",
       "    </tr>\n",
       "  </thead>\n",
       "  <tbody>\n",
       "    <tr>\n",
       "      <th>AK</th>\n",
       "      <td>83</td>\n",
       "      <td>424</td>\n",
       "      <td>0.163708</td>\n",
       "      <td>0.836292</td>\n",
       "      <td>0.002863</td>\n",
       "      <td>0.003043</td>\n",
       "    </tr>\n",
       "    <tr>\n",
       "      <th>AL</th>\n",
       "      <td>443</td>\n",
       "      <td>2436</td>\n",
       "      <td>0.153873</td>\n",
       "      <td>0.846127</td>\n",
       "      <td>0.016448</td>\n",
       "      <td>0.016243</td>\n",
       "    </tr>\n",
       "    <tr>\n",
       "      <th>AR</th>\n",
       "      <td>295</td>\n",
       "      <td>1414</td>\n",
       "      <td>0.172616</td>\n",
       "      <td>0.827384</td>\n",
       "      <td>0.009547</td>\n",
       "      <td>0.010816</td>\n",
       "    </tr>\n",
       "    <tr>\n",
       "      <th>AZ</th>\n",
       "      <td>570</td>\n",
       "      <td>2992</td>\n",
       "      <td>0.160022</td>\n",
       "      <td>0.839978</td>\n",
       "      <td>0.020202</td>\n",
       "      <td>0.020899</td>\n",
       "    </tr>\n",
       "    <tr>\n",
       "      <th>CA</th>\n",
       "      <td>3583</td>\n",
       "      <td>20465</td>\n",
       "      <td>0.148994</td>\n",
       "      <td>0.851006</td>\n",
       "      <td>0.138179</td>\n",
       "      <td>0.131371</td>\n",
       "    </tr>\n",
       "    <tr>\n",
       "      <th>CO</th>\n",
       "      <td>286</td>\n",
       "      <td>1545</td>\n",
       "      <td>0.156199</td>\n",
       "      <td>0.843801</td>\n",
       "      <td>0.010432</td>\n",
       "      <td>0.010486</td>\n",
       "    </tr>\n",
       "    <tr>\n",
       "      <th>CT</th>\n",
       "      <td>351</td>\n",
       "      <td>2321</td>\n",
       "      <td>0.131362</td>\n",
       "      <td>0.868638</td>\n",
       "      <td>0.015671</td>\n",
       "      <td>0.012869</td>\n",
       "    </tr>\n",
       "    <tr>\n",
       "      <th>DC</th>\n",
       "      <td>163</td>\n",
       "      <td>692</td>\n",
       "      <td>0.190643</td>\n",
       "      <td>0.809357</td>\n",
       "      <td>0.004672</td>\n",
       "      <td>0.005976</td>\n",
       "    </tr>\n",
       "    <tr>\n",
       "      <th>DE</th>\n",
       "      <td>62</td>\n",
       "      <td>478</td>\n",
       "      <td>0.114815</td>\n",
       "      <td>0.885185</td>\n",
       "      <td>0.003227</td>\n",
       "      <td>0.002273</td>\n",
       "    </tr>\n",
       "    <tr>\n",
       "      <th>FL</th>\n",
       "      <td>1806</td>\n",
       "      <td>8373</td>\n",
       "      <td>0.177424</td>\n",
       "      <td>0.822576</td>\n",
       "      <td>0.056534</td>\n",
       "      <td>0.066217</td>\n",
       "    </tr>\n",
       "    <tr>\n",
       "      <th>GA</th>\n",
       "      <td>1096</td>\n",
       "      <td>5415</td>\n",
       "      <td>0.168331</td>\n",
       "      <td>0.831669</td>\n",
       "      <td>0.036562</td>\n",
       "      <td>0.040185</td>\n",
       "    </tr>\n",
       "    <tr>\n",
       "      <th>HI</th>\n",
       "      <td>136</td>\n",
       "      <td>725</td>\n",
       "      <td>0.157956</td>\n",
       "      <td>0.842044</td>\n",
       "      <td>0.004895</td>\n",
       "      <td>0.004986</td>\n",
       "    </tr>\n",
       "    <tr>\n",
       "      <th>IA</th>\n",
       "      <td>166</td>\n",
       "      <td>912</td>\n",
       "      <td>0.153989</td>\n",
       "      <td>0.846011</td>\n",
       "      <td>0.006158</td>\n",
       "      <td>0.006086</td>\n",
       "    </tr>\n",
       "    <tr>\n",
       "      <th>ID</th>\n",
       "      <td>174</td>\n",
       "      <td>892</td>\n",
       "      <td>0.163227</td>\n",
       "      <td>0.836773</td>\n",
       "      <td>0.006023</td>\n",
       "      <td>0.006380</td>\n",
       "    </tr>\n",
       "    <tr>\n",
       "      <th>IL</th>\n",
       "      <td>1051</td>\n",
       "      <td>6035</td>\n",
       "      <td>0.148321</td>\n",
       "      <td>0.851679</td>\n",
       "      <td>0.040748</td>\n",
       "      <td>0.038535</td>\n",
       "    </tr>\n",
       "    <tr>\n",
       "      <th>IN</th>\n",
       "      <td>632</td>\n",
       "      <td>3490</td>\n",
       "      <td>0.153324</td>\n",
       "      <td>0.846676</td>\n",
       "      <td>0.023564</td>\n",
       "      <td>0.023172</td>\n",
       "    </tr>\n",
       "    <tr>\n",
       "      <th>KS</th>\n",
       "      <td>156</td>\n",
       "      <td>894</td>\n",
       "      <td>0.148571</td>\n",
       "      <td>0.851429</td>\n",
       "      <td>0.006036</td>\n",
       "      <td>0.005720</td>\n",
       "    </tr>\n",
       "    <tr>\n",
       "      <th>KY</th>\n",
       "      <td>301</td>\n",
       "      <td>1755</td>\n",
       "      <td>0.146401</td>\n",
       "      <td>0.853599</td>\n",
       "      <td>0.011850</td>\n",
       "      <td>0.011036</td>\n",
       "    </tr>\n",
       "    <tr>\n",
       "      <th>LA</th>\n",
       "      <td>655</td>\n",
       "      <td>3280</td>\n",
       "      <td>0.166455</td>\n",
       "      <td>0.833545</td>\n",
       "      <td>0.022146</td>\n",
       "      <td>0.024016</td>\n",
       "    </tr>\n",
       "    <tr>\n",
       "      <th>MA</th>\n",
       "      <td>564</td>\n",
       "      <td>3425</td>\n",
       "      <td>0.141389</td>\n",
       "      <td>0.858611</td>\n",
       "      <td>0.023125</td>\n",
       "      <td>0.020679</td>\n",
       "    </tr>\n",
       "    <tr>\n",
       "      <th>MD</th>\n",
       "      <td>403</td>\n",
       "      <td>2063</td>\n",
       "      <td>0.163423</td>\n",
       "      <td>0.836577</td>\n",
       "      <td>0.013929</td>\n",
       "      <td>0.014776</td>\n",
       "    </tr>\n",
       "    <tr>\n",
       "      <th>ME</th>\n",
       "      <td>117</td>\n",
       "      <td>710</td>\n",
       "      <td>0.141475</td>\n",
       "      <td>0.858525</td>\n",
       "      <td>0.004794</td>\n",
       "      <td>0.004290</td>\n",
       "    </tr>\n",
       "    <tr>\n",
       "      <th>MI</th>\n",
       "      <td>817</td>\n",
       "      <td>4406</td>\n",
       "      <td>0.156424</td>\n",
       "      <td>0.843576</td>\n",
       "      <td>0.029749</td>\n",
       "      <td>0.029955</td>\n",
       "    </tr>\n",
       "    <tr>\n",
       "      <th>MN</th>\n",
       "      <td>293</td>\n",
       "      <td>1727</td>\n",
       "      <td>0.145050</td>\n",
       "      <td>0.854950</td>\n",
       "      <td>0.011661</td>\n",
       "      <td>0.010743</td>\n",
       "    </tr>\n",
       "    <tr>\n",
       "      <th>MO</th>\n",
       "      <td>602</td>\n",
       "      <td>3557</td>\n",
       "      <td>0.144746</td>\n",
       "      <td>0.855254</td>\n",
       "      <td>0.024017</td>\n",
       "      <td>0.022072</td>\n",
       "    </tr>\n",
       "    <tr>\n",
       "      <th>MS</th>\n",
       "      <td>343</td>\n",
       "      <td>1839</td>\n",
       "      <td>0.157195</td>\n",
       "      <td>0.842805</td>\n",
       "      <td>0.012417</td>\n",
       "      <td>0.012576</td>\n",
       "    </tr>\n",
       "    <tr>\n",
       "      <th>MT</th>\n",
       "      <td>65</td>\n",
       "      <td>309</td>\n",
       "      <td>0.173797</td>\n",
       "      <td>0.826203</td>\n",
       "      <td>0.002086</td>\n",
       "      <td>0.002383</td>\n",
       "    </tr>\n",
       "    <tr>\n",
       "      <th>NC</th>\n",
       "      <td>1211</td>\n",
       "      <td>6699</td>\n",
       "      <td>0.153097</td>\n",
       "      <td>0.846903</td>\n",
       "      <td>0.045231</td>\n",
       "      <td>0.044401</td>\n",
       "    </tr>\n",
       "    <tr>\n",
       "      <th>ND</th>\n",
       "      <td>32</td>\n",
       "      <td>199</td>\n",
       "      <td>0.138528</td>\n",
       "      <td>0.861472</td>\n",
       "      <td>0.001344</td>\n",
       "      <td>0.001173</td>\n",
       "    </tr>\n",
       "    <tr>\n",
       "      <th>NE</th>\n",
       "      <td>73</td>\n",
       "      <td>420</td>\n",
       "      <td>0.148073</td>\n",
       "      <td>0.851927</td>\n",
       "      <td>0.002836</td>\n",
       "      <td>0.002677</td>\n",
       "    </tr>\n",
       "    <tr>\n",
       "      <th>NH</th>\n",
       "      <td>77</td>\n",
       "      <td>506</td>\n",
       "      <td>0.132075</td>\n",
       "      <td>0.867925</td>\n",
       "      <td>0.003416</td>\n",
       "      <td>0.002823</td>\n",
       "    </tr>\n",
       "    <tr>\n",
       "      <th>NJ</th>\n",
       "      <td>564</td>\n",
       "      <td>3025</td>\n",
       "      <td>0.157147</td>\n",
       "      <td>0.842853</td>\n",
       "      <td>0.020425</td>\n",
       "      <td>0.020679</td>\n",
       "    </tr>\n",
       "    <tr>\n",
       "      <th>NM</th>\n",
       "      <td>159</td>\n",
       "      <td>734</td>\n",
       "      <td>0.178052</td>\n",
       "      <td>0.821948</td>\n",
       "      <td>0.004956</td>\n",
       "      <td>0.005830</td>\n",
       "    </tr>\n",
       "    <tr>\n",
       "      <th>NV</th>\n",
       "      <td>321</td>\n",
       "      <td>1861</td>\n",
       "      <td>0.147113</td>\n",
       "      <td>0.852887</td>\n",
       "      <td>0.012565</td>\n",
       "      <td>0.011769</td>\n",
       "    </tr>\n",
       "    <tr>\n",
       "      <th>NY</th>\n",
       "      <td>1697</td>\n",
       "      <td>9263</td>\n",
       "      <td>0.154836</td>\n",
       "      <td>0.845164</td>\n",
       "      <td>0.062543</td>\n",
       "      <td>0.062220</td>\n",
       "    </tr>\n",
       "    <tr>\n",
       "      <th>OH</th>\n",
       "      <td>521</td>\n",
       "      <td>3468</td>\n",
       "      <td>0.130609</td>\n",
       "      <td>0.869391</td>\n",
       "      <td>0.023416</td>\n",
       "      <td>0.019102</td>\n",
       "    </tr>\n",
       "    <tr>\n",
       "      <th>OK</th>\n",
       "      <td>628</td>\n",
       "      <td>3149</td>\n",
       "      <td>0.166270</td>\n",
       "      <td>0.833730</td>\n",
       "      <td>0.021262</td>\n",
       "      <td>0.023026</td>\n",
       "    </tr>\n",
       "    <tr>\n",
       "      <th>OR</th>\n",
       "      <td>304</td>\n",
       "      <td>1756</td>\n",
       "      <td>0.147573</td>\n",
       "      <td>0.852427</td>\n",
       "      <td>0.011856</td>\n",
       "      <td>0.011146</td>\n",
       "    </tr>\n",
       "    <tr>\n",
       "      <th>PA</th>\n",
       "      <td>721</td>\n",
       "      <td>4056</td>\n",
       "      <td>0.150932</td>\n",
       "      <td>0.849068</td>\n",
       "      <td>0.027386</td>\n",
       "      <td>0.026435</td>\n",
       "    </tr>\n",
       "    <tr>\n",
       "      <th>RI</th>\n",
       "      <td>72</td>\n",
       "      <td>394</td>\n",
       "      <td>0.154506</td>\n",
       "      <td>0.845494</td>\n",
       "      <td>0.002660</td>\n",
       "      <td>0.002640</td>\n",
       "    </tr>\n",
       "    <tr>\n",
       "      <th>SC</th>\n",
       "      <td>863</td>\n",
       "      <td>5439</td>\n",
       "      <td>0.136941</td>\n",
       "      <td>0.863059</td>\n",
       "      <td>0.036724</td>\n",
       "      <td>0.031642</td>\n",
       "    </tr>\n",
       "    <tr>\n",
       "      <th>SD</th>\n",
       "      <td>68</td>\n",
       "      <td>426</td>\n",
       "      <td>0.137652</td>\n",
       "      <td>0.862348</td>\n",
       "      <td>0.002876</td>\n",
       "      <td>0.002493</td>\n",
       "    </tr>\n",
       "    <tr>\n",
       "      <th>TN</th>\n",
       "      <td>415</td>\n",
       "      <td>2334</td>\n",
       "      <td>0.150964</td>\n",
       "      <td>0.849036</td>\n",
       "      <td>0.015759</td>\n",
       "      <td>0.015216</td>\n",
       "    </tr>\n",
       "    <tr>\n",
       "      <th>TX</th>\n",
       "      <td>2260</td>\n",
       "      <td>9883</td>\n",
       "      <td>0.186115</td>\n",
       "      <td>0.813885</td>\n",
       "      <td>0.066730</td>\n",
       "      <td>0.082863</td>\n",
       "    </tr>\n",
       "    <tr>\n",
       "      <th>UT</th>\n",
       "      <td>463</td>\n",
       "      <td>2337</td>\n",
       "      <td>0.165357</td>\n",
       "      <td>0.834643</td>\n",
       "      <td>0.015779</td>\n",
       "      <td>0.016976</td>\n",
       "    </tr>\n",
       "    <tr>\n",
       "      <th>VA</th>\n",
       "      <td>496</td>\n",
       "      <td>2909</td>\n",
       "      <td>0.145668</td>\n",
       "      <td>0.854332</td>\n",
       "      <td>0.019641</td>\n",
       "      <td>0.018186</td>\n",
       "    </tr>\n",
       "    <tr>\n",
       "      <th>VT</th>\n",
       "      <td>21</td>\n",
       "      <td>118</td>\n",
       "      <td>0.151079</td>\n",
       "      <td>0.848921</td>\n",
       "      <td>0.000797</td>\n",
       "      <td>0.000770</td>\n",
       "    </tr>\n",
       "    <tr>\n",
       "      <th>WA</th>\n",
       "      <td>506</td>\n",
       "      <td>3255</td>\n",
       "      <td>0.134539</td>\n",
       "      <td>0.865461</td>\n",
       "      <td>0.021978</td>\n",
       "      <td>0.018552</td>\n",
       "    </tr>\n",
       "    <tr>\n",
       "      <th>WI</th>\n",
       "      <td>458</td>\n",
       "      <td>2421</td>\n",
       "      <td>0.159083</td>\n",
       "      <td>0.840917</td>\n",
       "      <td>0.016347</td>\n",
       "      <td>0.016793</td>\n",
       "    </tr>\n",
       "    <tr>\n",
       "      <th>WV</th>\n",
       "      <td>109</td>\n",
       "      <td>724</td>\n",
       "      <td>0.130852</td>\n",
       "      <td>0.869148</td>\n",
       "      <td>0.004888</td>\n",
       "      <td>0.003996</td>\n",
       "    </tr>\n",
       "    <tr>\n",
       "      <th>WY</th>\n",
       "      <td>22</td>\n",
       "      <td>155</td>\n",
       "      <td>0.124294</td>\n",
       "      <td>0.875706</td>\n",
       "      <td>0.001047</td>\n",
       "      <td>0.000807</td>\n",
       "    </tr>\n",
       "  </tbody>\n",
       "</table>\n",
       "</div>"
      ],
      "text/plain": [
       "project_is_approved     0      1  per_rejected  per_approved  \\\n",
       "school_state                                                   \n",
       "AK                     83    424      0.163708      0.836292   \n",
       "AL                    443   2436      0.153873      0.846127   \n",
       "AR                    295   1414      0.172616      0.827384   \n",
       "AZ                    570   2992      0.160022      0.839978   \n",
       "CA                   3583  20465      0.148994      0.851006   \n",
       "CO                    286   1545      0.156199      0.843801   \n",
       "CT                    351   2321      0.131362      0.868638   \n",
       "DC                    163    692      0.190643      0.809357   \n",
       "DE                     62    478      0.114815      0.885185   \n",
       "FL                   1806   8373      0.177424      0.822576   \n",
       "GA                   1096   5415      0.168331      0.831669   \n",
       "HI                    136    725      0.157956      0.842044   \n",
       "IA                    166    912      0.153989      0.846011   \n",
       "ID                    174    892      0.163227      0.836773   \n",
       "IL                   1051   6035      0.148321      0.851679   \n",
       "IN                    632   3490      0.153324      0.846676   \n",
       "KS                    156    894      0.148571      0.851429   \n",
       "KY                    301   1755      0.146401      0.853599   \n",
       "LA                    655   3280      0.166455      0.833545   \n",
       "MA                    564   3425      0.141389      0.858611   \n",
       "MD                    403   2063      0.163423      0.836577   \n",
       "ME                    117    710      0.141475      0.858525   \n",
       "MI                    817   4406      0.156424      0.843576   \n",
       "MN                    293   1727      0.145050      0.854950   \n",
       "MO                    602   3557      0.144746      0.855254   \n",
       "MS                    343   1839      0.157195      0.842805   \n",
       "MT                     65    309      0.173797      0.826203   \n",
       "NC                   1211   6699      0.153097      0.846903   \n",
       "ND                     32    199      0.138528      0.861472   \n",
       "NE                     73    420      0.148073      0.851927   \n",
       "NH                     77    506      0.132075      0.867925   \n",
       "NJ                    564   3025      0.157147      0.842853   \n",
       "NM                    159    734      0.178052      0.821948   \n",
       "NV                    321   1861      0.147113      0.852887   \n",
       "NY                   1697   9263      0.154836      0.845164   \n",
       "OH                    521   3468      0.130609      0.869391   \n",
       "OK                    628   3149      0.166270      0.833730   \n",
       "OR                    304   1756      0.147573      0.852427   \n",
       "PA                    721   4056      0.150932      0.849068   \n",
       "RI                     72    394      0.154506      0.845494   \n",
       "SC                    863   5439      0.136941      0.863059   \n",
       "SD                     68    426      0.137652      0.862348   \n",
       "TN                    415   2334      0.150964      0.849036   \n",
       "TX                   2260   9883      0.186115      0.813885   \n",
       "UT                    463   2337      0.165357      0.834643   \n",
       "VA                    496   2909      0.145668      0.854332   \n",
       "VT                     21    118      0.151079      0.848921   \n",
       "WA                    506   3255      0.134539      0.865461   \n",
       "WI                    458   2421      0.159083      0.840917   \n",
       "WV                    109    724      0.130852      0.869148   \n",
       "WY                     22    155      0.124294      0.875706   \n",
       "\n",
       "project_is_approved  per_approved_total  per_rejected_total  \n",
       "school_state                                                 \n",
       "AK                             0.002863            0.003043  \n",
       "AL                             0.016448            0.016243  \n",
       "AR                             0.009547            0.010816  \n",
       "AZ                             0.020202            0.020899  \n",
       "CA                             0.138179            0.131371  \n",
       "CO                             0.010432            0.010486  \n",
       "CT                             0.015671            0.012869  \n",
       "DC                             0.004672            0.005976  \n",
       "DE                             0.003227            0.002273  \n",
       "FL                             0.056534            0.066217  \n",
       "GA                             0.036562            0.040185  \n",
       "HI                             0.004895            0.004986  \n",
       "IA                             0.006158            0.006086  \n",
       "ID                             0.006023            0.006380  \n",
       "IL                             0.040748            0.038535  \n",
       "IN                             0.023564            0.023172  \n",
       "KS                             0.006036            0.005720  \n",
       "KY                             0.011850            0.011036  \n",
       "LA                             0.022146            0.024016  \n",
       "MA                             0.023125            0.020679  \n",
       "MD                             0.013929            0.014776  \n",
       "ME                             0.004794            0.004290  \n",
       "MI                             0.029749            0.029955  \n",
       "MN                             0.011661            0.010743  \n",
       "MO                             0.024017            0.022072  \n",
       "MS                             0.012417            0.012576  \n",
       "MT                             0.002086            0.002383  \n",
       "NC                             0.045231            0.044401  \n",
       "ND                             0.001344            0.001173  \n",
       "NE                             0.002836            0.002677  \n",
       "NH                             0.003416            0.002823  \n",
       "NJ                             0.020425            0.020679  \n",
       "NM                             0.004956            0.005830  \n",
       "NV                             0.012565            0.011769  \n",
       "NY                             0.062543            0.062220  \n",
       "OH                             0.023416            0.019102  \n",
       "OK                             0.021262            0.023026  \n",
       "OR                             0.011856            0.011146  \n",
       "PA                             0.027386            0.026435  \n",
       "RI                             0.002660            0.002640  \n",
       "SC                             0.036724            0.031642  \n",
       "SD                             0.002876            0.002493  \n",
       "TN                             0.015759            0.015216  \n",
       "TX                             0.066730            0.082863  \n",
       "UT                             0.015779            0.016976  \n",
       "VA                             0.019641            0.018186  \n",
       "VT                             0.000797            0.000770  \n",
       "WA                             0.021978            0.018552  \n",
       "WI                             0.016347            0.016793  \n",
       "WV                             0.004888            0.003996  \n",
       "WY                             0.001047            0.000807  "
      ]
     },
     "execution_count": 23,
     "metadata": {},
     "output_type": "execute_result"
    }
   ],
   "source": [
    "state"
   ]
  },
  {
   "cell_type": "code",
   "execution_count": 24,
   "metadata": {},
   "outputs": [
    {
     "data": {
      "text/plain": [
       "Mrs.       92153\n",
       "Ms.        62537\n",
       "Mr.        16794\n",
       "Teacher     3865\n",
       "Dr.           26\n",
       "Name: teacher_prefix, dtype: int64"
      ]
     },
     "execution_count": 24,
     "metadata": {},
     "output_type": "execute_result"
    }
   ],
   "source": [
    "training['teacher_prefix'].value_counts()"
   ]
  },
  {
   "cell_type": "code",
   "execution_count": 25,
   "metadata": {},
   "outputs": [
    {
     "data": {
      "image/png": "[encoded data removed]",
      "text/plain": [
       "<matplotlib.figure.Figure at 0x2248cb97ef0>"
      ]
     },
     "metadata": {},
     "output_type": "display_data"
    }
   ],
   "source": [
    "plt.figure(figsize=(15,6))\n",
    "plt.subplot(1,2,1)\n",
    "sns.countplot(x='teacher_prefix', data=training)\n",
    "\n",
    "plt.subplot(1,2,2)\n",
    "sns.countplot(x='teacher_prefix', hue='project_is_approved', data=training)\n",
    "\n",
    "plt.tight_layout()\n",
    "plt.show()"
   ]
  },
  {
   "cell_type": "code",
   "execution_count": 28,
   "metadata": {
    "collapsed": true
   },
   "outputs": [],
   "source": [
    "teacher = pd.pivot_table(training, index='teacher_prefix', columns='project_is_approved', values='id', aggfunc=len)"
   ]
  },
  {
   "cell_type": "code",
   "execution_count": 29,
   "metadata": {},
   "outputs": [],
   "source": [
    "teacher['per_rejected'] = (teacher[0]) / (teacher[0] + teacher[1])\n",
    "teacher['per_approved'] = (teacher[1]) / (teacher[0] + teacher[1])\n",
    "teacher['per_approved_total'] = (teacher[1]) / ( teacher[1].sum(axis=0))\n",
    "teacher['per_rejected_total'] = (teacher[0]) / (teacher[0].sum(axis=0))"
   ]
  },
  {
   "cell_type": "code",
   "execution_count": 30,
   "metadata": {},
   "outputs": [
    {
     "data": {
      "text/html": [
       "<div>\n",
       "<style>\n",
       "    .dataframe thead tr:only-child th {\n",
       "        text-align: right;\n",
       "    }\n",
       "\n",
       "    .dataframe thead th {\n",
       "        text-align: left;\n",
       "    }\n",
       "\n",
       "    .dataframe tbody tr th {\n",
       "        vertical-align: top;\n",
       "    }\n",
       "</style>\n",
       "<table border=\"1\" class=\"dataframe\">\n",
       "  <thead>\n",
       "    <tr style=\"text-align: right;\">\n",
       "      <th>project_is_approved</th>\n",
       "      <th>0</th>\n",
       "      <th>1</th>\n",
       "      <th>per_rejected</th>\n",
       "      <th>per_approved</th>\n",
       "      <th>per_approved_total</th>\n",
       "      <th>per_rejected_total</th>\n",
       "    </tr>\n",
       "    <tr>\n",
       "      <th>teacher_prefix</th>\n",
       "      <th></th>\n",
       "      <th></th>\n",
       "      <th></th>\n",
       "      <th></th>\n",
       "      <th></th>\n",
       "      <th></th>\n",
       "    </tr>\n",
       "  </thead>\n",
       "  <tbody>\n",
       "    <tr>\n",
       "      <th>Dr.</th>\n",
       "      <td>5</td>\n",
       "      <td>21</td>\n",
       "      <td>0.192308</td>\n",
       "      <td>0.807692</td>\n",
       "      <td>0.000142</td>\n",
       "      <td>0.000183</td>\n",
       "    </tr>\n",
       "    <tr>\n",
       "      <th>Mr.</th>\n",
       "      <td>2731</td>\n",
       "      <td>14063</td>\n",
       "      <td>0.162618</td>\n",
       "      <td>0.837382</td>\n",
       "      <td>0.094955</td>\n",
       "      <td>0.100132</td>\n",
       "    </tr>\n",
       "    <tr>\n",
       "      <th>Mrs.</th>\n",
       "      <td>13713</td>\n",
       "      <td>78440</td>\n",
       "      <td>0.148807</td>\n",
       "      <td>0.851193</td>\n",
       "      <td>0.529639</td>\n",
       "      <td>0.502787</td>\n",
       "    </tr>\n",
       "    <tr>\n",
       "      <th>Ms.</th>\n",
       "      <td>10025</td>\n",
       "      <td>52512</td>\n",
       "      <td>0.160305</td>\n",
       "      <td>0.839695</td>\n",
       "      <td>0.354569</td>\n",
       "      <td>0.367566</td>\n",
       "    </tr>\n",
       "    <tr>\n",
       "      <th>Teacher</th>\n",
       "      <td>800</td>\n",
       "      <td>3065</td>\n",
       "      <td>0.206986</td>\n",
       "      <td>0.793014</td>\n",
       "      <td>0.020695</td>\n",
       "      <td>0.029332</td>\n",
       "    </tr>\n",
       "  </tbody>\n",
       "</table>\n",
       "</div>"
      ],
      "text/plain": [
       "project_is_approved      0      1  per_rejected  per_approved  \\\n",
       "teacher_prefix                                                  \n",
       "Dr.                      5     21      0.192308      0.807692   \n",
       "Mr.                   2731  14063      0.162618      0.837382   \n",
       "Mrs.                 13713  78440      0.148807      0.851193   \n",
       "Ms.                  10025  52512      0.160305      0.839695   \n",
       "Teacher                800   3065      0.206986      0.793014   \n",
       "\n",
       "project_is_approved  per_approved_total  per_rejected_total  \n",
       "teacher_prefix                                               \n",
       "Dr.                            0.000142            0.000183  \n",
       "Mr.                            0.094955            0.100132  \n",
       "Mrs.                           0.529639            0.502787  \n",
       "Ms.                            0.354569            0.367566  \n",
       "Teacher                        0.020695            0.029332  "
      ]
     },
     "execution_count": 30,
     "metadata": {},
     "output_type": "execute_result"
    }
   ],
   "source": [
    "teacher"
   ]
  },
  {
   "cell_type": "code",
   "execution_count": 31,
   "metadata": {},
   "outputs": [
    {
     "data": {
      "text/plain": [
       "Grades PreK-2    70905\n",
       "Grades 3-5       59626\n",
       "Grades 6-8       27117\n",
       "Grades 9-12      17731\n",
       "Name: project_grade_category, dtype: int64"
      ]
     },
     "execution_count": 31,
     "metadata": {},
     "output_type": "execute_result"
    }
   ],
   "source": [
    "training['project_grade_category'].value_counts()"
   ]
  },
  {
   "cell_type": "code",
   "execution_count": 32,
   "metadata": {},
   "outputs": [
    {
     "data": {
      "image/png": "[encoded data removed]",
      "text/plain": [
       "<matplotlib.figure.Figure at 0x2249d2a6b38>"
      ]
     },
     "metadata": {},
     "output_type": "display_data"
    }
   ],
   "source": [
    "plt.figure(figsize=(15,6))\n",
    "plt.subplot(1,2,1)\n",
    "sns.countplot(x='project_grade_category', data=training)\n",
    "\n",
    "plt.subplot(1,2,2)\n",
    "sns.countplot(x='project_grade_category', hue='project_is_approved', data=training)\n",
    "\n",
    "plt.tight_layout()\n",
    "plt.show()"
   ]
  },
  {
   "cell_type": "code",
   "execution_count": 33,
   "metadata": {
    "collapsed": true
   },
   "outputs": [],
   "source": [
    "grade = pd.pivot_table(training, index='project_grade_category', columns='project_is_approved', values='id', aggfunc=len)"
   ]
  },
  {
   "cell_type": "code",
   "execution_count": 35,
   "metadata": {},
   "outputs": [],
   "source": [
    "grade['per_rejected'] = (grade[0]) / (grade[0] + grade[1])\n",
    "grade['per_approved'] = (grade[1]) / (grade[0] + grade[1])\n",
    "grade['per_approved_total'] = (grade[1]) / ( grade[1].sum(axis=0))\n",
    "grade['per_rejected_total'] = (grade[0]) / (grade[0].sum(axis=0))"
   ]
  },
  {
   "cell_type": "code",
   "execution_count": 36,
   "metadata": {},
   "outputs": [
    {
     "data": {
      "text/html": [
       "<div>\n",
       "<style>\n",
       "    .dataframe thead tr:only-child th {\n",
       "        text-align: right;\n",
       "    }\n",
       "\n",
       "    .dataframe thead th {\n",
       "        text-align: left;\n",
       "    }\n",
       "\n",
       "    .dataframe tbody tr th {\n",
       "        vertical-align: top;\n",
       "    }\n",
       "</style>\n",
       "<table border=\"1\" class=\"dataframe\">\n",
       "  <thead>\n",
       "    <tr style=\"text-align: right;\">\n",
       "      <th>project_is_approved</th>\n",
       "      <th>0</th>\n",
       "      <th>1</th>\n",
       "      <th>per_rejected</th>\n",
       "      <th>per_approved</th>\n",
       "      <th>per_approved_total</th>\n",
       "      <th>per_rejected_total</th>\n",
       "    </tr>\n",
       "    <tr>\n",
       "      <th>project_grade_category</th>\n",
       "      <th></th>\n",
       "      <th></th>\n",
       "      <th></th>\n",
       "      <th></th>\n",
       "      <th></th>\n",
       "      <th></th>\n",
       "    </tr>\n",
       "  </thead>\n",
       "  <tbody>\n",
       "    <tr>\n",
       "      <th>Grades 3-5</th>\n",
       "      <td>8874</td>\n",
       "      <td>50752</td>\n",
       "      <td>0.148828</td>\n",
       "      <td>0.851172</td>\n",
       "      <td>0.342676</td>\n",
       "      <td>0.325365</td>\n",
       "    </tr>\n",
       "    <tr>\n",
       "      <th>Grades 6-8</th>\n",
       "      <td>4333</td>\n",
       "      <td>22784</td>\n",
       "      <td>0.159789</td>\n",
       "      <td>0.840211</td>\n",
       "      <td>0.153837</td>\n",
       "      <td>0.158869</td>\n",
       "    </tr>\n",
       "    <tr>\n",
       "      <th>Grades 9-12</th>\n",
       "      <td>2966</td>\n",
       "      <td>14765</td>\n",
       "      <td>0.167278</td>\n",
       "      <td>0.832722</td>\n",
       "      <td>0.099693</td>\n",
       "      <td>0.108748</td>\n",
       "    </tr>\n",
       "    <tr>\n",
       "      <th>Grades PreK-2</th>\n",
       "      <td>11101</td>\n",
       "      <td>59804</td>\n",
       "      <td>0.156562</td>\n",
       "      <td>0.843438</td>\n",
       "      <td>0.403795</td>\n",
       "      <td>0.407018</td>\n",
       "    </tr>\n",
       "  </tbody>\n",
       "</table>\n",
       "</div>"
      ],
      "text/plain": [
       "project_is_approved         0      1  per_rejected  per_approved  \\\n",
       "project_grade_category                                             \n",
       "Grades 3-5               8874  50752      0.148828      0.851172   \n",
       "Grades 6-8               4333  22784      0.159789      0.840211   \n",
       "Grades 9-12              2966  14765      0.167278      0.832722   \n",
       "Grades PreK-2           11101  59804      0.156562      0.843438   \n",
       "\n",
       "project_is_approved     per_approved_total  per_rejected_total  \n",
       "project_grade_category                                          \n",
       "Grades 3-5                        0.342676            0.325365  \n",
       "Grades 6-8                        0.153837            0.158869  \n",
       "Grades 9-12                       0.099693            0.108748  \n",
       "Grades PreK-2                     0.403795            0.407018  "
      ]
     },
     "execution_count": 36,
     "metadata": {},
     "output_type": "execute_result"
    }
   ],
   "source": [
    "grade"
   ]
  },
  {
   "cell_type": "code",
   "execution_count": 37,
   "metadata": {
    "scrolled": true
   },
   "outputs": [
    {
     "data": {
      "text/plain": [
       "Literacy & Language                           38332\n",
       "Math & Science                                27518\n",
       "Literacy & Language, Math & Science           24003\n",
       "Health & Sports                               15935\n",
       "Music & The Arts                               8197\n",
       "Special Needs                                  6919\n",
       "Literacy & Language, Special Needs             6456\n",
       "Applied Learning                               6118\n",
       "Math & Science, Literacy & Language            3664\n",
       "Applied Learning, Literacy & Language          3602\n",
       "History & Civics                               2960\n",
       "Math & Science, Special Needs                  2911\n",
       "Literacy & Language, Music & The Arts          2671\n",
       "Math & Science, Music & The Arts               2481\n",
       "Applied Learning, Special Needs                2412\n",
       "Health & Sports, Special Needs                 2297\n",
       "History & Civics, Literacy & Language          2214\n",
       "Math & Science, Applied Learning               1958\n",
       "Warmth, Care & Hunger                          1889\n",
       "Applied Learning, Math & Science               1638\n",
       "Literacy & Language, History & Civics          1292\n",
       "Health & Sports, Literacy & Language           1268\n",
       "Applied Learning, Music & The Arts             1144\n",
       "Math & Science, History & Civics               1058\n",
       "Applied Learning, Health & Sports               979\n",
       "Literacy & Language, Applied Learning           972\n",
       "Math & Science, Health & Sports                 659\n",
       "History & Civics, Music & The Arts              498\n",
       "History & Civics, Math & Science                491\n",
       "Health & Sports, Math & Science                 457\n",
       "Special Needs, Music & The Arts                 450\n",
       "History & Civics, Special Needs                 370\n",
       "Health & Sports, Applied Learning               289\n",
       "Applied Learning, History & Civics              287\n",
       "Health & Sports, Music & The Arts               236\n",
       "Music & The Arts, Special Needs                 224\n",
       "Literacy & Language, Health & Sports            121\n",
       "Health & Sports, History & Civics                66\n",
       "History & Civics, Applied Learning               64\n",
       "Special Needs, Health & Sports                   61\n",
       "Music & The Arts, Health & Sports                31\n",
       "Special Needs, Warmth, Care & Hunger             30\n",
       "Health & Sports, Warmth, Care & Hunger           29\n",
       "Music & The Arts, History & Civics               27\n",
       "Literacy & Language, Warmth, Care & Hunger       23\n",
       "History & Civics, Health & Sports                20\n",
       "Applied Learning, Warmth, Care & Hunger          18\n",
       "Math & Science, Warmth, Care & Hunger            18\n",
       "Music & The Arts, Applied Learning               18\n",
       "Music & The Arts, Warmth, Care & Hunger           3\n",
       "History & Civics, Warmth, Care & Hunger           1\n",
       "Name: project_subject_categories, dtype: int64"
      ]
     },
     "execution_count": 37,
     "metadata": {},
     "output_type": "execute_result"
    }
   ],
   "source": [
    "training['project_subject_categories'].value_counts()"
   ]
  },
  {
   "cell_type": "code",
   "execution_count": 38,
   "metadata": {
    "scrolled": true
   },
   "outputs": [
    {
     "data": {
      "text/plain": [
       "array(['Literacy & Language', 'Music & The Arts, Health & Sports',\n",
       "       'Math & Science, Literacy & Language', 'Health & Sports',\n",
       "       'Applied Learning, Literacy & Language', 'Math & Science',\n",
       "       'Literacy & Language, Math & Science', 'Special Needs',\n",
       "       'Applied Learning, Special Needs',\n",
       "       'Applied Learning, Music & The Arts',\n",
       "       'Math & Science, Special Needs', 'Health & Sports, Special Needs',\n",
       "       'Literacy & Language, History & Civics',\n",
       "       'Health & Sports, Literacy & Language', 'Music & The Arts',\n",
       "       'Literacy & Language, Special Needs',\n",
       "       'Special Needs, Music & The Arts', 'History & Civics',\n",
       "       'Math & Science, Applied Learning',\n",
       "       'Literacy & Language, Music & The Arts',\n",
       "       'Math & Science, Music & The Arts',\n",
       "       'History & Civics, Special Needs',\n",
       "       'History & Civics, Literacy & Language', 'Applied Learning',\n",
       "       'Math & Science, History & Civics',\n",
       "       'Applied Learning, Math & Science',\n",
       "       'Health & Sports, Applied Learning', 'Warmth, Care & Hunger',\n",
       "       'Math & Science, Health & Sports',\n",
       "       'Applied Learning, Health & Sports',\n",
       "       'Music & The Arts, Special Needs',\n",
       "       'History & Civics, Math & Science',\n",
       "       'Literacy & Language, Applied Learning',\n",
       "       'History & Civics, Music & The Arts',\n",
       "       'Health & Sports, History & Civics',\n",
       "       'Health & Sports, Math & Science',\n",
       "       'Applied Learning, History & Civics',\n",
       "       'Literacy & Language, Health & Sports',\n",
       "       'Music & The Arts, Applied Learning',\n",
       "       'Health & Sports, Warmth, Care & Hunger',\n",
       "       'Math & Science, Warmth, Care & Hunger',\n",
       "       'Special Needs, Warmth, Care & Hunger',\n",
       "       'Health & Sports, Music & The Arts',\n",
       "       'History & Civics, Applied Learning',\n",
       "       'Special Needs, Health & Sports',\n",
       "       'History & Civics, Health & Sports',\n",
       "       'Literacy & Language, Warmth, Care & Hunger',\n",
       "       'Music & The Arts, Warmth, Care & Hunger',\n",
       "       'Music & The Arts, History & Civics',\n",
       "       'Applied Learning, Warmth, Care & Hunger',\n",
       "       'History & Civics, Warmth, Care & Hunger'], dtype=object)"
      ]
     },
     "execution_count": 38,
     "metadata": {},
     "output_type": "execute_result"
    }
   ],
   "source": [
    "training['project_subject_categories'].unique()"
   ]
  },
  {
   "cell_type": "code",
   "execution_count": 39,
   "metadata": {},
   "outputs": [
    {
     "data": {
      "text/plain": [
       "51"
      ]
     },
     "execution_count": 39,
     "metadata": {},
     "output_type": "execute_result"
    }
   ],
   "source": [
    "len(training['project_subject_categories'].unique())"
   ]
  },
  {
   "cell_type": "code",
   "execution_count": 40,
   "metadata": {
    "scrolled": true
   },
   "outputs": [
    {
     "data": {
      "text/plain": [
       "Literacy                                        15459\n",
       "Literacy, Mathematics                           13613\n",
       "Literature & Writing, Mathematics                9749\n",
       "Literacy, Literature & Writing                   9008\n",
       "Mathematics                                      8872\n",
       "Literature & Writing                             7276\n",
       "Special Needs                                    6919\n",
       "Health & Wellness                                5646\n",
       "Applied Sciences, Mathematics                    5444\n",
       "Literacy, Special Needs                          3939\n",
       "Applied Sciences                                 3932\n",
       "Gym & Fitness, Health & Wellness                 3575\n",
       "Visual Arts                                      3540\n",
       "ESL, Literacy                                    3534\n",
       "Music                                            2359\n",
       "Literature & Writing, Special Needs              2178\n",
       "Health & Wellness, Special Needs                 1988\n",
       "Mathematics, Special Needs                       1897\n",
       "Warmth, Care & Hunger                            1889\n",
       "Gym & Fitness                                    1864\n",
       "Team Sports                                      1696\n",
       "Environmental Science                            1646\n",
       "Environmental Science, Health & Life Science     1588\n",
       "Applied Sciences, Environmental Science          1523\n",
       "Early Development                                1460\n",
       "Music, Performing Arts                           1412\n",
       "Health & Life Science                            1396\n",
       "Other                                            1376\n",
       "Environmental Science, Mathematics               1334\n",
       "Early Development, Special Needs                 1295\n",
       "                                                ...  \n",
       "Financial Literacy, Health & Wellness               2\n",
       "Economics, Other                                    2\n",
       "Community Service, Gym & Fitness                    2\n",
       "Financial Literacy, Music                           2\n",
       "Gym & Fitness, Parent Involvement                   2\n",
       "Financial Literacy, Performing Arts                 2\n",
       "Financial Literacy, Parent Involvement              2\n",
       "Early Development, Economics                        2\n",
       "ESL, Team Sports                                    2\n",
       "Extracurricular, Foreign Languages                  2\n",
       "Civics & Government, Foreign Languages              2\n",
       "College & Career Prep, Warmth, Care & Hunger        2\n",
       "Nutrition Education, Parent Involvement             2\n",
       "Community Service, Financial Literacy               2\n",
       "Character Education, Nutrition Education            2\n",
       "Applied Sciences, Warmth, Care & Hunger             2\n",
       "Economics, Extracurricular                          1\n",
       "Gym & Fitness, Warmth, Care & Hunger                1\n",
       "Civics & Government, Parent Involvement             1\n",
       "ESL, Economics                                      1\n",
       "History & Geography, Warmth, Care & Hunger          1\n",
       "Parent Involvement, Team Sports                     1\n",
       "Economics, Nutrition Education                      1\n",
       "Gym & Fitness, Social Sciences                      1\n",
       "Financial Literacy, Foreign Languages               1\n",
       "Economics, Foreign Languages                        1\n",
       "Music, Nutrition Education                          1\n",
       "Extracurricular, Warmth, Care & Hunger              1\n",
       "Civics & Government, Nutrition Education            1\n",
       "Economics, Music                                    1\n",
       "Name: project_subject_subcategories, Length: 406, dtype: int64"
      ]
     },
     "execution_count": 40,
     "metadata": {},
     "output_type": "execute_result"
    }
   ],
   "source": [
    "training['project_subject_subcategories'].value_counts()"
   ]
  },
  {
   "cell_type": "code",
   "execution_count": 41,
   "metadata": {
    "collapsed": true
   },
   "outputs": [],
   "source": [
    "training['project_subject_categories'] = training['project_subject_categories'].str.replace('Warmth, Care & Hunger', 'Warmth Care & Hunger')"
   ]
  },
  {
   "cell_type": "code",
   "execution_count": 42,
   "metadata": {
    "collapsed": true
   },
   "outputs": [],
   "source": [
    "training['project_subject_subcategories'] = training['project_subject_subcategories'].str.replace('Warmth, Care & Hunger', 'Warmth Care & Hunger')"
   ]
  },
  {
   "cell_type": "code",
   "execution_count": 43,
   "metadata": {
    "scrolled": true
   },
   "outputs": [
    {
     "data": {
      "text/plain": [
       "Literacy                                        15459\n",
       "Literacy, Mathematics                           13613\n",
       "Literature & Writing, Mathematics                9749\n",
       "Literacy, Literature & Writing                   9008\n",
       "Mathematics                                      8872\n",
       "Literature & Writing                             7276\n",
       "Special Needs                                    6919\n",
       "Health & Wellness                                5646\n",
       "Applied Sciences, Mathematics                    5444\n",
       "Literacy, Special Needs                          3939\n",
       "Applied Sciences                                 3932\n",
       "Gym & Fitness, Health & Wellness                 3575\n",
       "Visual Arts                                      3540\n",
       "ESL, Literacy                                    3534\n",
       "Music                                            2359\n",
       "Literature & Writing, Special Needs              2178\n",
       "Health & Wellness, Special Needs                 1988\n",
       "Mathematics, Special Needs                       1897\n",
       "Warmth Care & Hunger                             1889\n",
       "Gym & Fitness                                    1864\n",
       "Team Sports                                      1696\n",
       "Environmental Science                            1646\n",
       "Environmental Science, Health & Life Science     1588\n",
       "Applied Sciences, Environmental Science          1523\n",
       "Early Development                                1460\n",
       "Music, Performing Arts                           1412\n",
       "Health & Life Science                            1396\n",
       "Other                                            1376\n",
       "Environmental Science, Mathematics               1334\n",
       "Early Development, Special Needs                 1295\n",
       "                                                ...  \n",
       "ESL, Team Sports                                    2\n",
       "Community Service, Financial Literacy               2\n",
       "Financial Literacy, Music                           2\n",
       "Gym & Fitness, Parent Involvement                   2\n",
       "Nutrition Education, Parent Involvement             2\n",
       "Applied Sciences, Warmth Care & Hunger              2\n",
       "Extracurricular, Foreign Languages                  2\n",
       "Character Education, Nutrition Education            2\n",
       "Financial Literacy, Health & Wellness               2\n",
       "Economics, Other                                    2\n",
       "Community Service, Gym & Fitness                    2\n",
       "Financial Literacy, Parent Involvement              2\n",
       "College & Career Prep, Warmth Care & Hunger         2\n",
       "Early Development, Economics                        2\n",
       "Civics & Government, Foreign Languages              2\n",
       "Financial Literacy, Performing Arts                 2\n",
       "Economics, Extracurricular                          1\n",
       "Gym & Fitness, Warmth Care & Hunger                 1\n",
       "Civics & Government, Nutrition Education            1\n",
       "Economics, Music                                    1\n",
       "Civics & Government, Parent Involvement             1\n",
       "History & Geography, Warmth Care & Hunger           1\n",
       "Economics, Foreign Languages                        1\n",
       "Parent Involvement, Team Sports                     1\n",
       "Financial Literacy, Foreign Languages               1\n",
       "Gym & Fitness, Social Sciences                      1\n",
       "ESL, Economics                                      1\n",
       "Economics, Nutrition Education                      1\n",
       "Extracurricular, Warmth Care & Hunger               1\n",
       "Music, Nutrition Education                          1\n",
       "Name: project_subject_subcategories, Length: 406, dtype: int64"
      ]
     },
     "execution_count": 43,
     "metadata": {},
     "output_type": "execute_result"
    }
   ],
   "source": [
    "training['project_subject_subcategories'].value_counts()"
   ]
  },
  {
   "cell_type": "code",
   "execution_count": 44,
   "metadata": {
    "collapsed": true,
    "scrolled": true
   },
   "outputs": [],
   "source": [
    "training['project_subject_categories'] = list(training['project_subject_categories'].str.split(r', '))"
   ]
  },
  {
   "cell_type": "code",
   "execution_count": 45,
   "metadata": {},
   "outputs": [
    {
     "data": {
      "text/plain": [
       "['Health & Sports']"
      ]
     },
     "execution_count": 45,
     "metadata": {},
     "output_type": "execute_result"
    }
   ],
   "source": [
    "training['project_subject_categories'][3]"
   ]
  },
  {
   "cell_type": "code",
   "execution_count": 46,
   "metadata": {
    "collapsed": true
   },
   "outputs": [],
   "source": [
    "training1 = training['project_subject_categories'].apply(collections.Counter)\n",
    "training1 = pd.DataFrame.from_records(training1).fillna(value=0)"
   ]
  },
  {
   "cell_type": "code",
   "execution_count": 47,
   "metadata": {
    "collapsed": true
   },
   "outputs": [],
   "source": [
    "training['project_subject_subcategories'] = list(training['project_subject_subcategories'].str.split(r', '))"
   ]
  },
  {
   "cell_type": "code",
   "execution_count": 48,
   "metadata": {},
   "outputs": [
    {
     "data": {
      "text/plain": [
       "['Applied Sciences', 'Literature & Writing']"
      ]
     },
     "execution_count": 48,
     "metadata": {},
     "output_type": "execute_result"
    }
   ],
   "source": [
    "training['project_subject_subcategories'][2]"
   ]
  },
  {
   "cell_type": "code",
   "execution_count": 49,
   "metadata": {
    "collapsed": true
   },
   "outputs": [],
   "source": [
    "training2 = training['project_subject_subcategories'].apply(collections.Counter)\n",
    "training2 = pd.DataFrame.from_records(training2).fillna(value=0)"
   ]
  },
  {
   "cell_type": "code",
   "execution_count": 50,
   "metadata": {
    "collapsed": true
   },
   "outputs": [],
   "source": [
    "training = training.merge(training1, how='left', left_index=True, right_index=True)"
   ]
  },
  {
   "cell_type": "code",
   "execution_count": 51,
   "metadata": {
    "collapsed": true
   },
   "outputs": [],
   "source": [
    "training = training.merge(training2, how='left', left_index=True, right_index=True)"
   ]
  },
  {
   "cell_type": "code",
   "execution_count": 52,
   "metadata": {
    "collapsed": true
   },
   "outputs": [],
   "source": [
    "training.drop(['project_subject_subcategories', 'project_subject_categories'], 1, inplace=True)"
   ]
  },
  {
   "cell_type": "code",
   "execution_count": 53,
   "metadata": {},
   "outputs": [
    {
     "data": {
      "text/html": [
       "<div>\n",
       "<style>\n",
       "    .dataframe thead tr:only-child th {\n",
       "        text-align: right;\n",
       "    }\n",
       "\n",
       "    .dataframe thead th {\n",
       "        text-align: left;\n",
       "    }\n",
       "\n",
       "    .dataframe tbody tr th {\n",
       "        vertical-align: top;\n",
       "    }\n",
       "</style>\n",
       "<table border=\"1\" class=\"dataframe\">\n",
       "  <thead>\n",
       "    <tr style=\"text-align: right;\">\n",
       "      <th></th>\n",
       "      <th>id</th>\n",
       "      <th>teacher_id</th>\n",
       "      <th>teacher_prefix</th>\n",
       "      <th>school_state</th>\n",
       "      <th>project_submitted_datetime</th>\n",
       "      <th>project_grade_category</th>\n",
       "      <th>project_title</th>\n",
       "      <th>project_essay_1</th>\n",
       "      <th>project_essay_2</th>\n",
       "      <th>project_essay_3</th>\n",
       "      <th>...</th>\n",
       "      <th>Music</th>\n",
       "      <th>Nutrition Education</th>\n",
       "      <th>Other</th>\n",
       "      <th>Parent Involvement</th>\n",
       "      <th>Performing Arts</th>\n",
       "      <th>Social Sciences</th>\n",
       "      <th>Special Needs_y</th>\n",
       "      <th>Team Sports</th>\n",
       "      <th>Visual Arts</th>\n",
       "      <th>Warmth Care &amp; Hunger_y</th>\n",
       "    </tr>\n",
       "  </thead>\n",
       "  <tbody>\n",
       "    <tr>\n",
       "      <th>0</th>\n",
       "      <td>p036502</td>\n",
       "      <td>484aaf11257089a66cfedc9461c6bd0a</td>\n",
       "      <td>Ms.</td>\n",
       "      <td>NV</td>\n",
       "      <td>2016-11-18 14:45:59</td>\n",
       "      <td>Grades PreK-2</td>\n",
       "      <td>Super Sight Word Centers</td>\n",
       "      <td>Most of my kindergarten students come from low...</td>\n",
       "      <td>I currently have a differentiated sight word c...</td>\n",
       "      <td>NaN</td>\n",
       "      <td>...</td>\n",
       "      <td>0.0</td>\n",
       "      <td>0.0</td>\n",
       "      <td>0.0</td>\n",
       "      <td>0.0</td>\n",
       "      <td>0.0</td>\n",
       "      <td>0.0</td>\n",
       "      <td>0.0</td>\n",
       "      <td>0.0</td>\n",
       "      <td>0.0</td>\n",
       "      <td>0.0</td>\n",
       "    </tr>\n",
       "    <tr>\n",
       "      <th>1</th>\n",
       "      <td>p039565</td>\n",
       "      <td>df72a3ba8089423fa8a94be88060f6ed</td>\n",
       "      <td>Mrs.</td>\n",
       "      <td>GA</td>\n",
       "      <td>2017-04-26 15:57:28</td>\n",
       "      <td>Grades 3-5</td>\n",
       "      <td>Keep Calm and Dance On</td>\n",
       "      <td>Our elementary school is a culturally rich sch...</td>\n",
       "      <td>We strive to provide our diverse population of...</td>\n",
       "      <td>NaN</td>\n",
       "      <td>...</td>\n",
       "      <td>0.0</td>\n",
       "      <td>0.0</td>\n",
       "      <td>0.0</td>\n",
       "      <td>0.0</td>\n",
       "      <td>1.0</td>\n",
       "      <td>0.0</td>\n",
       "      <td>0.0</td>\n",
       "      <td>1.0</td>\n",
       "      <td>0.0</td>\n",
       "      <td>0.0</td>\n",
       "    </tr>\n",
       "    <tr>\n",
       "      <th>2</th>\n",
       "      <td>p233823</td>\n",
       "      <td>a9b876a9252e08a55e3d894150f75ba3</td>\n",
       "      <td>Ms.</td>\n",
       "      <td>UT</td>\n",
       "      <td>2017-01-01 22:57:44</td>\n",
       "      <td>Grades 3-5</td>\n",
       "      <td>Lets 3Doodle to Learn</td>\n",
       "      <td>Hello;\\r\\nMy name is Mrs. Brotherton. I teach ...</td>\n",
       "      <td>We are looking to add some 3Doodler to our cla...</td>\n",
       "      <td>NaN</td>\n",
       "      <td>...</td>\n",
       "      <td>0.0</td>\n",
       "      <td>0.0</td>\n",
       "      <td>0.0</td>\n",
       "      <td>0.0</td>\n",
       "      <td>0.0</td>\n",
       "      <td>0.0</td>\n",
       "      <td>0.0</td>\n",
       "      <td>0.0</td>\n",
       "      <td>0.0</td>\n",
       "      <td>0.0</td>\n",
       "    </tr>\n",
       "    <tr>\n",
       "      <th>3</th>\n",
       "      <td>p185307</td>\n",
       "      <td>525fdbb6ec7f538a48beebaa0a51b24f</td>\n",
       "      <td>Mr.</td>\n",
       "      <td>NC</td>\n",
       "      <td>2016-08-12 15:42:11</td>\n",
       "      <td>Grades 3-5</td>\n",
       "      <td>\\\"Kid Inspired\\\" Equipment to Increase Activit...</td>\n",
       "      <td>My students are the greatest students but are ...</td>\n",
       "      <td>The student's project which is totally \\\"kid-i...</td>\n",
       "      <td>NaN</td>\n",
       "      <td>...</td>\n",
       "      <td>0.0</td>\n",
       "      <td>0.0</td>\n",
       "      <td>0.0</td>\n",
       "      <td>0.0</td>\n",
       "      <td>0.0</td>\n",
       "      <td>0.0</td>\n",
       "      <td>0.0</td>\n",
       "      <td>0.0</td>\n",
       "      <td>0.0</td>\n",
       "      <td>0.0</td>\n",
       "    </tr>\n",
       "    <tr>\n",
       "      <th>4</th>\n",
       "      <td>p013780</td>\n",
       "      <td>a63b5547a7239eae4c1872670848e61a</td>\n",
       "      <td>Mr.</td>\n",
       "      <td>CA</td>\n",
       "      <td>2016-08-06 09:09:11</td>\n",
       "      <td>Grades 6-8</td>\n",
       "      <td>We need clean water for our culinary arts class!</td>\n",
       "      <td>My students are athletes and students who are ...</td>\n",
       "      <td>For some reason in our kitchen the water comes...</td>\n",
       "      <td>NaN</td>\n",
       "      <td>...</td>\n",
       "      <td>0.0</td>\n",
       "      <td>0.0</td>\n",
       "      <td>0.0</td>\n",
       "      <td>0.0</td>\n",
       "      <td>0.0</td>\n",
       "      <td>0.0</td>\n",
       "      <td>0.0</td>\n",
       "      <td>0.0</td>\n",
       "      <td>0.0</td>\n",
       "      <td>0.0</td>\n",
       "    </tr>\n",
       "  </tbody>\n",
       "</table>\n",
       "<p>5 rows × 51 columns</p>\n",
       "</div>"
      ],
      "text/plain": [
       "        id                        teacher_id teacher_prefix school_state  \\\n",
       "0  p036502  484aaf11257089a66cfedc9461c6bd0a            Ms.           NV   \n",
       "1  p039565  df72a3ba8089423fa8a94be88060f6ed           Mrs.           GA   \n",
       "2  p233823  a9b876a9252e08a55e3d894150f75ba3            Ms.           UT   \n",
       "3  p185307  525fdbb6ec7f538a48beebaa0a51b24f            Mr.           NC   \n",
       "4  p013780  a63b5547a7239eae4c1872670848e61a            Mr.           CA   \n",
       "\n",
       "  project_submitted_datetime project_grade_category  \\\n",
       "0        2016-11-18 14:45:59          Grades PreK-2   \n",
       "1        2017-04-26 15:57:28             Grades 3-5   \n",
       "2        2017-01-01 22:57:44             Grades 3-5   \n",
       "3        2016-08-12 15:42:11             Grades 3-5   \n",
       "4        2016-08-06 09:09:11             Grades 6-8   \n",
       "\n",
       "                                       project_title  \\\n",
       "0                           Super Sight Word Centers   \n",
       "1                             Keep Calm and Dance On   \n",
       "2                              Lets 3Doodle to Learn   \n",
       "3  \\\"Kid Inspired\\\" Equipment to Increase Activit...   \n",
       "4   We need clean water for our culinary arts class!   \n",
       "\n",
       "                                     project_essay_1  \\\n",
       "0  Most of my kindergarten students come from low...   \n",
       "1  Our elementary school is a culturally rich sch...   \n",
       "2  Hello;\\r\\nMy name is Mrs. Brotherton. I teach ...   \n",
       "3  My students are the greatest students but are ...   \n",
       "4  My students are athletes and students who are ...   \n",
       "\n",
       "                                     project_essay_2 project_essay_3  \\\n",
       "0  I currently have a differentiated sight word c...             NaN   \n",
       "1  We strive to provide our diverse population of...             NaN   \n",
       "2  We are looking to add some 3Doodler to our cla...             NaN   \n",
       "3  The student's project which is totally \\\"kid-i...             NaN   \n",
       "4  For some reason in our kitchen the water comes...             NaN   \n",
       "\n",
       "            ...           Music Nutrition Education  Other  \\\n",
       "0           ...             0.0                 0.0    0.0   \n",
       "1           ...             0.0                 0.0    0.0   \n",
       "2           ...             0.0                 0.0    0.0   \n",
       "3           ...             0.0                 0.0    0.0   \n",
       "4           ...             0.0                 0.0    0.0   \n",
       "\n",
       "   Parent Involvement  Performing Arts  Social Sciences  Special Needs_y  \\\n",
       "0                 0.0              0.0              0.0              0.0   \n",
       "1                 0.0              1.0              0.0              0.0   \n",
       "2                 0.0              0.0              0.0              0.0   \n",
       "3                 0.0              0.0              0.0              0.0   \n",
       "4                 0.0              0.0              0.0              0.0   \n",
       "\n",
       "   Team Sports  Visual Arts  Warmth Care & Hunger_y  \n",
       "0          0.0          0.0                     0.0  \n",
       "1          1.0          0.0                     0.0  \n",
       "2          0.0          0.0                     0.0  \n",
       "3          0.0          0.0                     0.0  \n",
       "4          0.0          0.0                     0.0  \n",
       "\n",
       "[5 rows x 51 columns]"
      ]
     },
     "execution_count": 53,
     "metadata": {},
     "output_type": "execute_result"
    }
   ],
   "source": [
    "training.head()"
   ]
  },
  {
   "cell_type": "code",
   "execution_count": null,
   "metadata": {
    "collapsed": true
   },
   "outputs": [],
   "source": []
  }
 ],
 "metadata": {
  "kernelspec": {
   "display_name": "Python 3",
   "language": "python",
   "name": "python3"
  },
  "language_info": {
   "codemirror_mode": {
    "name": "ipython",
    "version": 3
   },
   "file_extension": ".py",
   "mimetype": "text/x-python",
   "name": "python",
   "nbconvert_exporter": "python",
   "pygments_lexer": "ipython3",
   "version": "3.6.2"
  }
 },
 "nbformat": 4,
 "nbformat_minor": 2
}
