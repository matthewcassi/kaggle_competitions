{
 "cells": [
  {
   "cell_type": "code",
   "execution_count": 28,
   "metadata": {
    "collapsed": true
   },
   "outputs": [],
   "source": [
    "import pandas as pd\n",
    "import numpy as np\n",
    "import collections\n",
    "import matplotlib.pyplot as plt\n",
    "%matplotlib inline\n",
    "import seaborn as sns"
   ]
  },
  {
   "cell_type": "code",
   "execution_count": 2,
   "metadata": {
    "collapsed": true
   },
   "outputs": [],
   "source": [
    "training = pd.read_csv('train.csv')"
   ]
  },
  {
   "cell_type": "code",
   "execution_count": 3,
   "metadata": {},
   "outputs": [
    {
     "name": "stdout",
     "output_type": "stream",
     "text": [
      "<class 'pandas.core.frame.DataFrame'>\n",
      "RangeIndex: 182080 entries, 0 to 182079\n",
      "Data columns (total 16 columns):\n",
      "id                                              182080 non-null object\n",
      "teacher_id                                      182080 non-null object\n",
      "teacher_prefix                                  182076 non-null object\n",
      "school_state                                    182080 non-null object\n",
      "project_submitted_datetime                      182080 non-null object\n",
      "project_grade_category                          182080 non-null object\n",
      "project_subject_categories                      182080 non-null object\n",
      "project_subject_subcategories                   182080 non-null object\n",
      "project_title                                   182080 non-null object\n",
      "project_essay_1                                 182080 non-null object\n",
      "project_essay_2                                 182080 non-null object\n",
      "project_essay_3                                 6374 non-null object\n",
      "project_essay_4                                 6374 non-null object\n",
      "project_resource_summary                        182080 non-null object\n",
      "teacher_number_of_previously_posted_projects    182080 non-null int64\n",
      "project_is_approved                             182080 non-null int64\n",
      "dtypes: int64(2), object(14)\n",
      "memory usage: 22.2+ MB\n"
     ]
    }
   ],
   "source": [
    "training.info()"
   ]
  },
  {
   "cell_type": "code",
   "execution_count": 4,
   "metadata": {
    "collapsed": true
   },
   "outputs": [],
   "source": [
    "training['project_submitted_datetime'] = pd.to_datetime(training['project_submitted_datetime'])"
   ]
  },
  {
   "cell_type": "code",
   "execution_count": 5,
   "metadata": {},
   "outputs": [
    {
     "data": {
      "text/plain": [
       "1    154346\n",
       "0     27734\n",
       "Name: project_is_approved, dtype: int64"
      ]
     },
     "execution_count": 5,
     "metadata": {},
     "output_type": "execute_result"
    }
   ],
   "source": [
    "training['project_is_approved'].value_counts()"
   ]
  },
  {
   "cell_type": "code",
   "execution_count": 6,
   "metadata": {
    "scrolled": false
   },
   "outputs": [
    {
     "data": {
      "text/html": [
       "<div>\n",
       "<style>\n",
       "    .dataframe thead tr:only-child th {\n",
       "        text-align: right;\n",
       "    }\n",
       "\n",
       "    .dataframe thead th {\n",
       "        text-align: left;\n",
       "    }\n",
       "\n",
       "    .dataframe tbody tr th {\n",
       "        vertical-align: top;\n",
       "    }\n",
       "</style>\n",
       "<table border=\"1\" class=\"dataframe\">\n",
       "  <thead>\n",
       "    <tr style=\"text-align: right;\">\n",
       "      <th></th>\n",
       "      <th>teacher_number_of_previously_posted_projects</th>\n",
       "      <th>project_is_approved</th>\n",
       "    </tr>\n",
       "  </thead>\n",
       "  <tbody>\n",
       "    <tr>\n",
       "      <th>count</th>\n",
       "      <td>182080.000000</td>\n",
       "      <td>182080.000000</td>\n",
       "    </tr>\n",
       "    <tr>\n",
       "      <th>mean</th>\n",
       "      <td>11.237055</td>\n",
       "      <td>0.847682</td>\n",
       "    </tr>\n",
       "    <tr>\n",
       "      <th>std</th>\n",
       "      <td>28.016086</td>\n",
       "      <td>0.359330</td>\n",
       "    </tr>\n",
       "    <tr>\n",
       "      <th>min</th>\n",
       "      <td>0.000000</td>\n",
       "      <td>0.000000</td>\n",
       "    </tr>\n",
       "    <tr>\n",
       "      <th>25%</th>\n",
       "      <td>0.000000</td>\n",
       "      <td>1.000000</td>\n",
       "    </tr>\n",
       "    <tr>\n",
       "      <th>50%</th>\n",
       "      <td>2.000000</td>\n",
       "      <td>1.000000</td>\n",
       "    </tr>\n",
       "    <tr>\n",
       "      <th>75%</th>\n",
       "      <td>9.000000</td>\n",
       "      <td>1.000000</td>\n",
       "    </tr>\n",
       "    <tr>\n",
       "      <th>max</th>\n",
       "      <td>451.000000</td>\n",
       "      <td>1.000000</td>\n",
       "    </tr>\n",
       "  </tbody>\n",
       "</table>\n",
       "</div>"
      ],
      "text/plain": [
       "       teacher_number_of_previously_posted_projects  project_is_approved\n",
       "count                                 182080.000000        182080.000000\n",
       "mean                                      11.237055             0.847682\n",
       "std                                       28.016086             0.359330\n",
       "min                                        0.000000             0.000000\n",
       "25%                                        0.000000             1.000000\n",
       "50%                                        2.000000             1.000000\n",
       "75%                                        9.000000             1.000000\n",
       "max                                      451.000000             1.000000"
      ]
     },
     "execution_count": 6,
     "metadata": {},
     "output_type": "execute_result"
    }
   ],
   "source": [
    "training.describe()"
   ]
  },
  {
   "cell_type": "code",
   "execution_count": 7,
   "metadata": {},
   "outputs": [
    {
     "data": {
      "text/plain": [
       "<matplotlib.axes._subplots.AxesSubplot at 0x123b17ba8>"
      ]
     },
     "execution_count": 7,
     "metadata": {},
     "output_type": "execute_result"
    },
    {
     "data": {
      "image/png": "[encoded data removed]",
      "text/plain": [
       "<matplotlib.figure.Figure at 0x1201061d0>"
      ]
     },
     "metadata": {},
     "output_type": "display_data"
    }
   ],
   "source": [
    "training['teacher_number_of_previously_posted_projects'].plot.box()"
   ]
  },
  {
   "cell_type": "code",
   "execution_count": 8,
   "metadata": {},
   "outputs": [
    {
     "data": {
      "text/plain": [
       "<matplotlib.axes._subplots.AxesSubplot at 0x1192cbe80>"
      ]
     },
     "execution_count": 8,
     "metadata": {},
     "output_type": "execute_result"
    },
    {
     "data": {
      "image/png": "[encoded data removed]",
      "text/plain": [
       "<matplotlib.figure.Figure at 0x123b17fd0>"
      ]
     },
     "metadata": {},
     "output_type": "display_data"
    }
   ],
   "source": [
    "training['teacher_number_of_previously_posted_projects'].plot.hist(bins=20)"
   ]
  },
  {
   "cell_type": "code",
   "execution_count": 9,
   "metadata": {},
   "outputs": [
    {
     "name": "stderr",
     "output_type": "stream",
     "text": [
      "/anaconda/lib/python3.6/site-packages/ipykernel_launcher.py:1: RuntimeWarning: divide by zero encountered in log\n",
      "  \"\"\"Entry point for launching an IPython kernel.\n"
     ]
    },
    {
     "data": {
      "image/png": "[encoded data removed]",
      "text/plain": [
       "<matplotlib.figure.Figure at 0x11c6c76d8>"
      ]
     },
     "metadata": {},
     "output_type": "display_data"
    }
   ],
   "source": [
    "log_project = pd.DataFrame(np.log(training[['teacher_number_of_previously_posted_projects']]))\n",
    "\n",
    "log_project[log_project['teacher_number_of_previously_posted_projects'] != -float('inf')].plot.hist(bins=10)\n",
    "plt.show()"
   ]
  },
  {
   "cell_type": "code",
   "execution_count": 10,
   "metadata": {},
   "outputs": [
    {
     "data": {
      "text/plain": [
       "(11.237055140597539, 28.01608601938684)"
      ]
     },
     "execution_count": 10,
     "metadata": {},
     "output_type": "execute_result"
    }
   ],
   "source": [
    "training['teacher_number_of_previously_posted_projects'].mean(), training['teacher_number_of_previously_posted_projects'].std()"
   ]
  },
  {
   "cell_type": "code",
   "execution_count": 11,
   "metadata": {},
   "outputs": [
    {
     "data": {
      "text/plain": [
       "67.27"
      ]
     },
     "execution_count": 11,
     "metadata": {},
     "output_type": "execute_result"
    }
   ],
   "source": [
    "11.23 + (28.02 * 2)"
   ]
  },
  {
   "cell_type": "code",
   "execution_count": 12,
   "metadata": {},
   "outputs": [
    {
     "data": {
      "text/plain": [
       "<matplotlib.axes._subplots.AxesSubplot at 0x122792438>"
      ]
     },
     "execution_count": 12,
     "metadata": {},
     "output_type": "execute_result"
    },
    {
     "data": {
      "image/png": "[encoded data removed]",
      "text/plain": [
       "<matplotlib.figure.Figure at 0x11fe91b38>"
      ]
     },
     "metadata": {},
     "output_type": "display_data"
    }
   ],
   "source": [
    "training[training['teacher_number_of_previously_posted_projects'] < 67.27]['teacher_number_of_previously_posted_projects'].plot.box()"
   ]
  },
  {
   "cell_type": "code",
   "execution_count": 13,
   "metadata": {
    "collapsed": true
   },
   "outputs": [],
   "source": [
    "training = training[training['teacher_number_of_previously_posted_projects'] < 67.27]"
   ]
  },
  {
   "cell_type": "code",
   "execution_count": 14,
   "metadata": {},
   "outputs": [
    {
     "data": {
      "text/plain": [
       "count    175379.000000\n",
       "mean          6.835625\n",
       "std          11.533715\n",
       "min           0.000000\n",
       "25%           0.000000\n",
       "50%           2.000000\n",
       "75%           7.000000\n",
       "max          67.000000\n",
       "Name: teacher_number_of_previously_posted_projects, dtype: float64"
      ]
     },
     "execution_count": 14,
     "metadata": {},
     "output_type": "execute_result"
    }
   ],
   "source": [
    "training['teacher_number_of_previously_posted_projects'].describe()"
   ]
  },
  {
   "cell_type": "code",
   "execution_count": 26,
   "metadata": {
    "scrolled": true
   },
   "outputs": [
    {
     "data": {
      "text/plain": [
       "CA    24048\n",
       "TX    12143\n",
       "NY    10960\n",
       "FL    10179\n",
       "NC     7910\n",
       "IL     7086\n",
       "GA     6511\n",
       "SC     6302\n",
       "MI     5223\n",
       "PA     4777\n",
       "MO     4159\n",
       "IN     4122\n",
       "OH     3989\n",
       "MA     3989\n",
       "LA     3935\n",
       "OK     3777\n",
       "WA     3761\n",
       "NJ     3589\n",
       "AZ     3562\n",
       "VA     3405\n",
       "AL     2879\n",
       "Name: school_state, dtype: int64"
      ]
     },
     "execution_count": 26,
     "metadata": {},
     "output_type": "execute_result"
    }
   ],
   "source": [
    "training['school_state'].value_counts()[0:21]"
   ]
  },
  {
   "cell_type": "code",
   "execution_count": 54,
   "metadata": {},
   "outputs": [
    {
     "data": {
      "image/png": "[encoded data removed]",
      "text/plain": [
       "<matplotlib.figure.Figure at 0x1a2ebc5f98>"
      ]
     },
     "metadata": {},
     "output_type": "display_data"
    }
   ],
   "source": [
    "plt.figure(figsize=(15,10))\n",
    "sns.countplot(x='school_state', hue='project_is_approved', data=training)\n",
    "plt.show()"
   ]
  },
  {
   "cell_type": "code",
   "execution_count": 31,
   "metadata": {},
   "outputs": [
    {
     "data": {
      "text/plain": [
       "Mrs.       92153\n",
       "Ms.        62537\n",
       "Mr.        16794\n",
       "Teacher     3865\n",
       "Dr.           26\n",
       "Name: teacher_prefix, dtype: int64"
      ]
     },
     "execution_count": 31,
     "metadata": {},
     "output_type": "execute_result"
    }
   ],
   "source": [
    "training['teacher_prefix'].value_counts()"
   ]
  },
  {
   "cell_type": "code",
   "execution_count": 58,
   "metadata": {},
   "outputs": [
    {
     "data": {
      "image/png": "[encoded data removed]",
      "text/plain": [
       "<matplotlib.figure.Figure at 0x1a28d4ef28>"
      ]
     },
     "metadata": {},
     "output_type": "display_data"
    }
   ],
   "source": [
    "plt.figure(figsize=(15,6))\n",
    "plt.subplot(1,2,1)\n",
    "sns.countplot(x='teacher_prefix', data=training)\n",
    "\n",
    "plt.subplot(1,2,2)\n",
    "sns.countplot(x='teacher_prefix', hue='project_is_approved', data=training)\n",
    "\n",
    "plt.tight_layout()\n",
    "plt.show()"
   ]
  },
  {
   "cell_type": "code",
   "execution_count": 32,
   "metadata": {},
   "outputs": [
    {
     "data": {
      "text/plain": [
       "Grades PreK-2    70905\n",
       "Grades 3-5       59626\n",
       "Grades 6-8       27117\n",
       "Grades 9-12      17731\n",
       "Name: project_grade_category, dtype: int64"
      ]
     },
     "execution_count": 32,
     "metadata": {},
     "output_type": "execute_result"
    }
   ],
   "source": [
    "training['project_grade_category'].value_counts()"
   ]
  },
  {
   "cell_type": "code",
   "execution_count": 59,
   "metadata": {},
   "outputs": [
    {
     "data": {
      "image/png": "[encoded data removed]",
      "text/plain": [
       "<matplotlib.figure.Figure at 0x1a291846a0>"
      ]
     },
     "metadata": {},
     "output_type": "display_data"
    }
   ],
   "source": [
    "plt.figure(figsize=(15,6))\n",
    "plt.subplot(1,2,1)\n",
    "sns.countplot(x='project_grade_category', data=training)\n",
    "\n",
    "plt.subplot(1,2,2)\n",
    "sns.countplot(x='project_grade_category', hue='project_is_approved', data=training)\n",
    "\n",
    "plt.tight_layout()\n",
    "plt.show()"
   ]
  },
  {
   "cell_type": "code",
   "execution_count": 33,
   "metadata": {
    "scrolled": true
   },
   "outputs": [
    {
     "data": {
      "text/plain": [
       "Literacy & Language                           38332\n",
       "Math & Science                                27518\n",
       "Literacy & Language, Math & Science           24003\n",
       "Health & Sports                               15935\n",
       "Music & The Arts                               8197\n",
       "Special Needs                                  6919\n",
       "Literacy & Language, Special Needs             6456\n",
       "Applied Learning                               6118\n",
       "Math & Science, Literacy & Language            3664\n",
       "Applied Learning, Literacy & Language          3602\n",
       "History & Civics                               2960\n",
       "Math & Science, Special Needs                  2911\n",
       "Literacy & Language, Music & The Arts          2671\n",
       "Math & Science, Music & The Arts               2481\n",
       "Applied Learning, Special Needs                2412\n",
       "Health & Sports, Special Needs                 2297\n",
       "History & Civics, Literacy & Language          2214\n",
       "Math & Science, Applied Learning               1958\n",
       "Warmth, Care & Hunger                          1889\n",
       "Applied Learning, Math & Science               1638\n",
       "Literacy & Language, History & Civics          1292\n",
       "Health & Sports, Literacy & Language           1268\n",
       "Applied Learning, Music & The Arts             1144\n",
       "Math & Science, History & Civics               1058\n",
       "Applied Learning, Health & Sports               979\n",
       "Literacy & Language, Applied Learning           972\n",
       "Math & Science, Health & Sports                 659\n",
       "History & Civics, Music & The Arts              498\n",
       "History & Civics, Math & Science                491\n",
       "Health & Sports, Math & Science                 457\n",
       "Special Needs, Music & The Arts                 450\n",
       "History & Civics, Special Needs                 370\n",
       "Health & Sports, Applied Learning               289\n",
       "Applied Learning, History & Civics              287\n",
       "Health & Sports, Music & The Arts               236\n",
       "Music & The Arts, Special Needs                 224\n",
       "Literacy & Language, Health & Sports            121\n",
       "Health & Sports, History & Civics                66\n",
       "History & Civics, Applied Learning               64\n",
       "Special Needs, Health & Sports                   61\n",
       "Music & The Arts, Health & Sports                31\n",
       "Special Needs, Warmth, Care & Hunger             30\n",
       "Health & Sports, Warmth, Care & Hunger           29\n",
       "Music & The Arts, History & Civics               27\n",
       "Literacy & Language, Warmth, Care & Hunger       23\n",
       "History & Civics, Health & Sports                20\n",
       "Music & The Arts, Applied Learning               18\n",
       "Math & Science, Warmth, Care & Hunger            18\n",
       "Applied Learning, Warmth, Care & Hunger          18\n",
       "Music & The Arts, Warmth, Care & Hunger           3\n",
       "History & Civics, Warmth, Care & Hunger           1\n",
       "Name: project_subject_categories, dtype: int64"
      ]
     },
     "execution_count": 33,
     "metadata": {},
     "output_type": "execute_result"
    }
   ],
   "source": [
    "training['project_subject_categories'].value_counts()"
   ]
  },
  {
   "cell_type": "code",
   "execution_count": 34,
   "metadata": {
    "scrolled": true
   },
   "outputs": [
    {
     "data": {
      "text/plain": [
       "array(['Literacy & Language', 'Music & The Arts, Health & Sports',\n",
       "       'Math & Science, Literacy & Language', 'Health & Sports',\n",
       "       'Applied Learning, Literacy & Language', 'Math & Science',\n",
       "       'Literacy & Language, Math & Science', 'Special Needs',\n",
       "       'Applied Learning, Special Needs',\n",
       "       'Applied Learning, Music & The Arts',\n",
       "       'Math & Science, Special Needs', 'Health & Sports, Special Needs',\n",
       "       'Literacy & Language, History & Civics',\n",
       "       'Health & Sports, Literacy & Language', 'Music & The Arts',\n",
       "       'Literacy & Language, Special Needs',\n",
       "       'Special Needs, Music & The Arts', 'History & Civics',\n",
       "       'Math & Science, Applied Learning',\n",
       "       'Literacy & Language, Music & The Arts',\n",
       "       'Math & Science, Music & The Arts',\n",
       "       'History & Civics, Special Needs',\n",
       "       'History & Civics, Literacy & Language', 'Applied Learning',\n",
       "       'Math & Science, History & Civics',\n",
       "       'Applied Learning, Math & Science',\n",
       "       'Health & Sports, Applied Learning', 'Warmth, Care & Hunger',\n",
       "       'Math & Science, Health & Sports',\n",
       "       'Applied Learning, Health & Sports',\n",
       "       'Music & The Arts, Special Needs',\n",
       "       'History & Civics, Math & Science',\n",
       "       'Literacy & Language, Applied Learning',\n",
       "       'History & Civics, Music & The Arts',\n",
       "       'Health & Sports, History & Civics',\n",
       "       'Health & Sports, Math & Science',\n",
       "       'Applied Learning, History & Civics',\n",
       "       'Literacy & Language, Health & Sports',\n",
       "       'Music & The Arts, Applied Learning',\n",
       "       'Health & Sports, Warmth, Care & Hunger',\n",
       "       'Math & Science, Warmth, Care & Hunger',\n",
       "       'Special Needs, Warmth, Care & Hunger',\n",
       "       'Health & Sports, Music & The Arts',\n",
       "       'History & Civics, Applied Learning',\n",
       "       'Special Needs, Health & Sports',\n",
       "       'History & Civics, Health & Sports',\n",
       "       'Literacy & Language, Warmth, Care & Hunger',\n",
       "       'Music & The Arts, Warmth, Care & Hunger',\n",
       "       'Music & The Arts, History & Civics',\n",
       "       'Applied Learning, Warmth, Care & Hunger',\n",
       "       'History & Civics, Warmth, Care & Hunger'], dtype=object)"
      ]
     },
     "execution_count": 34,
     "metadata": {},
     "output_type": "execute_result"
    }
   ],
   "source": [
    "training['project_subject_categories'].unique()"
   ]
  },
  {
   "cell_type": "code",
   "execution_count": 35,
   "metadata": {},
   "outputs": [
    {
     "data": {
      "text/plain": [
       "51"
      ]
     },
     "execution_count": 35,
     "metadata": {},
     "output_type": "execute_result"
    }
   ],
   "source": [
    "len(training['project_subject_categories'].unique())"
   ]
  },
  {
   "cell_type": "code",
   "execution_count": 36,
   "metadata": {
    "scrolled": true
   },
   "outputs": [
    {
     "data": {
      "text/plain": [
       "Literacy                                        15459\n",
       "Literacy, Mathematics                           13613\n",
       "Literature & Writing, Mathematics                9749\n",
       "Literacy, Literature & Writing                   9008\n",
       "Mathematics                                      8872\n",
       "Literature & Writing                             7276\n",
       "Special Needs                                    6919\n",
       "Health & Wellness                                5646\n",
       "Applied Sciences, Mathematics                    5444\n",
       "Literacy, Special Needs                          3939\n",
       "Applied Sciences                                 3932\n",
       "Gym & Fitness, Health & Wellness                 3575\n",
       "Visual Arts                                      3540\n",
       "ESL, Literacy                                    3534\n",
       "Music                                            2359\n",
       "Literature & Writing, Special Needs              2178\n",
       "Health & Wellness, Special Needs                 1988\n",
       "Mathematics, Special Needs                       1897\n",
       "Warmth, Care & Hunger                            1889\n",
       "Gym & Fitness                                    1864\n",
       "Team Sports                                      1696\n",
       "Environmental Science                            1646\n",
       "Environmental Science, Health & Life Science     1588\n",
       "Applied Sciences, Environmental Science          1523\n",
       "Early Development                                1460\n",
       "Music, Performing Arts                           1412\n",
       "Health & Life Science                            1396\n",
       "Other                                            1376\n",
       "Environmental Science, Mathematics               1334\n",
       "Early Development, Special Needs                 1295\n",
       "                                                ...  \n",
       "Community Service, Gym & Fitness                    2\n",
       "Early Development, Economics                        2\n",
       "Community Service, Financial Literacy               2\n",
       "Applied Sciences, Warmth, Care & Hunger             2\n",
       "Financial Literacy, Health & Wellness               2\n",
       "Civics & Government, Foreign Languages              2\n",
       "Gym & Fitness, Parent Involvement                   2\n",
       "Financial Literacy, Music                           2\n",
       "Character Education, Nutrition Education            2\n",
       "College & Career Prep, Warmth, Care & Hunger        2\n",
       "Economics, Other                                    2\n",
       "Extracurricular, Foreign Languages                  2\n",
       "Financial Literacy, Performing Arts                 2\n",
       "Nutrition Education, Parent Involvement             2\n",
       "Financial Literacy, Parent Involvement              2\n",
       "ESL, Team Sports                                    2\n",
       "Gym & Fitness, Social Sciences                      1\n",
       "ESL, Economics                                      1\n",
       "Extracurricular, Warmth, Care & Hunger              1\n",
       "Civics & Government, Nutrition Education            1\n",
       "Gym & Fitness, Warmth, Care & Hunger                1\n",
       "Civics & Government, Parent Involvement             1\n",
       "Music, Nutrition Education                          1\n",
       "Economics, Extracurricular                          1\n",
       "Parent Involvement, Team Sports                     1\n",
       "Economics, Nutrition Education                      1\n",
       "Financial Literacy, Foreign Languages               1\n",
       "Economics, Foreign Languages                        1\n",
       "Economics, Music                                    1\n",
       "History & Geography, Warmth, Care & Hunger          1\n",
       "Name: project_subject_subcategories, Length: 406, dtype: int64"
      ]
     },
     "execution_count": 36,
     "metadata": {},
     "output_type": "execute_result"
    }
   ],
   "source": [
    "training['project_subject_subcategories'].value_counts()"
   ]
  },
  {
   "cell_type": "code",
   "execution_count": 37,
   "metadata": {
    "collapsed": true
   },
   "outputs": [],
   "source": [
    "training['project_subject_categories'] = training['project_subject_categories'].str.replace('Warmth, Care & Hunger', 'Warmth Care & Hunger')"
   ]
  },
  {
   "cell_type": "code",
   "execution_count": 38,
   "metadata": {
    "collapsed": true
   },
   "outputs": [],
   "source": [
    "training['project_subject_subcategories'] = training['project_subject_subcategories'].str.replace('Warmth, Care & Hunger', 'Warmth Care & Hunger')"
   ]
  },
  {
   "cell_type": "code",
   "execution_count": 39,
   "metadata": {
    "scrolled": true
   },
   "outputs": [
    {
     "data": {
      "text/plain": [
       "Literacy                                        15459\n",
       "Literacy, Mathematics                           13613\n",
       "Literature & Writing, Mathematics                9749\n",
       "Literacy, Literature & Writing                   9008\n",
       "Mathematics                                      8872\n",
       "Literature & Writing                             7276\n",
       "Special Needs                                    6919\n",
       "Health & Wellness                                5646\n",
       "Applied Sciences, Mathematics                    5444\n",
       "Literacy, Special Needs                          3939\n",
       "Applied Sciences                                 3932\n",
       "Gym & Fitness, Health & Wellness                 3575\n",
       "Visual Arts                                      3540\n",
       "ESL, Literacy                                    3534\n",
       "Music                                            2359\n",
       "Literature & Writing, Special Needs              2178\n",
       "Health & Wellness, Special Needs                 1988\n",
       "Mathematics, Special Needs                       1897\n",
       "Warmth Care & Hunger                             1889\n",
       "Gym & Fitness                                    1864\n",
       "Team Sports                                      1696\n",
       "Environmental Science                            1646\n",
       "Environmental Science, Health & Life Science     1588\n",
       "Applied Sciences, Environmental Science          1523\n",
       "Early Development                                1460\n",
       "Music, Performing Arts                           1412\n",
       "Health & Life Science                            1396\n",
       "Other                                            1376\n",
       "Environmental Science, Mathematics               1334\n",
       "Early Development, Special Needs                 1295\n",
       "                                                ...  \n",
       "Applied Sciences, Warmth Care & Hunger              2\n",
       "Nutrition Education, Parent Involvement             2\n",
       "Financial Literacy, Health & Wellness               2\n",
       "Financial Literacy, Performing Arts                 2\n",
       "Civics & Government, Foreign Languages              2\n",
       "Gym & Fitness, Parent Involvement                   2\n",
       "Character Education, Nutrition Education            2\n",
       "Community Service, Gym & Fitness                    2\n",
       "Extracurricular, Foreign Languages                  2\n",
       "Early Development, Economics                        2\n",
       "College & Career Prep, Warmth Care & Hunger         2\n",
       "Financial Literacy, Parent Involvement              2\n",
       "Financial Literacy, Music                           2\n",
       "ESL, Team Sports                                    2\n",
       "Economics, Other                                    2\n",
       "Community Service, Financial Literacy               2\n",
       "Civics & Government, Parent Involvement             1\n",
       "ESL, Economics                                      1\n",
       "Economics, Music                                    1\n",
       "History & Geography, Warmth Care & Hunger           1\n",
       "Parent Involvement, Team Sports                     1\n",
       "Financial Literacy, Foreign Languages               1\n",
       "Economics, Extracurricular                          1\n",
       "Gym & Fitness, Warmth Care & Hunger                 1\n",
       "Gym & Fitness, Social Sciences                      1\n",
       "Extracurricular, Warmth Care & Hunger               1\n",
       "Economics, Nutrition Education                      1\n",
       "Civics & Government, Nutrition Education            1\n",
       "Music, Nutrition Education                          1\n",
       "Economics, Foreign Languages                        1\n",
       "Name: project_subject_subcategories, Length: 406, dtype: int64"
      ]
     },
     "execution_count": 39,
     "metadata": {},
     "output_type": "execute_result"
    }
   ],
   "source": [
    "training['project_subject_subcategories'].value_counts()"
   ]
  },
  {
   "cell_type": "code",
   "execution_count": 40,
   "metadata": {
    "collapsed": true,
    "scrolled": true
   },
   "outputs": [],
   "source": [
    "training['project_subject_categories'] = list(training['project_subject_categories'].str.split(r', '))"
   ]
  },
  {
   "cell_type": "code",
   "execution_count": 41,
   "metadata": {},
   "outputs": [
    {
     "data": {
      "text/plain": [
       "['Health & Sports']"
      ]
     },
     "execution_count": 41,
     "metadata": {},
     "output_type": "execute_result"
    }
   ],
   "source": [
    "training['project_subject_categories'][3]"
   ]
  },
  {
   "cell_type": "code",
   "execution_count": 42,
   "metadata": {
    "collapsed": true
   },
   "outputs": [],
   "source": [
    "training1 = training['project_subject_categories'].apply(collections.Counter)\n",
    "training1 = pd.DataFrame.from_records(training1).fillna(value=0)"
   ]
  },
  {
   "cell_type": "code",
   "execution_count": 43,
   "metadata": {
    "collapsed": true
   },
   "outputs": [],
   "source": [
    "training['project_subject_subcategories'] = list(training['project_subject_subcategories'].str.split(r', '))"
   ]
  },
  {
   "cell_type": "code",
   "execution_count": 44,
   "metadata": {},
   "outputs": [
    {
     "data": {
      "text/plain": [
       "['Applied Sciences', 'Literature & Writing']"
      ]
     },
     "execution_count": 44,
     "metadata": {},
     "output_type": "execute_result"
    }
   ],
   "source": [
    "training['project_subject_subcategories'][2]"
   ]
  },
  {
   "cell_type": "code",
   "execution_count": 45,
   "metadata": {
    "collapsed": true
   },
   "outputs": [],
   "source": [
    "training2 = training['project_subject_subcategories'].apply(collections.Counter)\n",
    "training2 = pd.DataFrame.from_records(training2).fillna(value=0)"
   ]
  },
  {
   "cell_type": "code",
   "execution_count": 46,
   "metadata": {
    "collapsed": true
   },
   "outputs": [],
   "source": [
    "training = training.merge(training1, how='left', left_index=True, right_index=True)"
   ]
  },
  {
   "cell_type": "code",
   "execution_count": 47,
   "metadata": {
    "collapsed": true
   },
   "outputs": [],
   "source": [
    "training = training.merge(training2, how='left', left_index=True, right_index=True)"
   ]
  },
  {
   "cell_type": "code",
   "execution_count": 48,
   "metadata": {
    "collapsed": true
   },
   "outputs": [],
   "source": [
    "training.drop(['project_subject_subcategories', 'project_subject_categories'], 1, inplace=True)"
   ]
  },
  {
   "cell_type": "code",
   "execution_count": 49,
   "metadata": {},
   "outputs": [
    {
     "data": {
      "text/html": [
       "<div>\n",
       "<style>\n",
       "    .dataframe thead tr:only-child th {\n",
       "        text-align: right;\n",
       "    }\n",
       "\n",
       "    .dataframe thead th {\n",
       "        text-align: left;\n",
       "    }\n",
       "\n",
       "    .dataframe tbody tr th {\n",
       "        vertical-align: top;\n",
       "    }\n",
       "</style>\n",
       "<table border=\"1\" class=\"dataframe\">\n",
       "  <thead>\n",
       "    <tr style=\"text-align: right;\">\n",
       "      <th></th>\n",
       "      <th>id</th>\n",
       "      <th>teacher_id</th>\n",
       "      <th>teacher_prefix</th>\n",
       "      <th>school_state</th>\n",
       "      <th>project_submitted_datetime</th>\n",
       "      <th>project_grade_category</th>\n",
       "      <th>project_title</th>\n",
       "      <th>project_essay_1</th>\n",
       "      <th>project_essay_2</th>\n",
       "      <th>project_essay_3</th>\n",
       "      <th>...</th>\n",
       "      <th>Music</th>\n",
       "      <th>Nutrition Education</th>\n",
       "      <th>Other</th>\n",
       "      <th>Parent Involvement</th>\n",
       "      <th>Performing Arts</th>\n",
       "      <th>Social Sciences</th>\n",
       "      <th>Special Needs_y</th>\n",
       "      <th>Team Sports</th>\n",
       "      <th>Visual Arts</th>\n",
       "      <th>Warmth Care &amp; Hunger_y</th>\n",
       "    </tr>\n",
       "  </thead>\n",
       "  <tbody>\n",
       "    <tr>\n",
       "      <th>0</th>\n",
       "      <td>p036502</td>\n",
       "      <td>484aaf11257089a66cfedc9461c6bd0a</td>\n",
       "      <td>Ms.</td>\n",
       "      <td>NV</td>\n",
       "      <td>2016-11-18 14:45:59</td>\n",
       "      <td>Grades PreK-2</td>\n",
       "      <td>Super Sight Word Centers</td>\n",
       "      <td>Most of my kindergarten students come from low...</td>\n",
       "      <td>I currently have a differentiated sight word c...</td>\n",
       "      <td>NaN</td>\n",
       "      <td>...</td>\n",
       "      <td>0.0</td>\n",
       "      <td>0.0</td>\n",
       "      <td>0.0</td>\n",
       "      <td>0.0</td>\n",
       "      <td>0.0</td>\n",
       "      <td>0.0</td>\n",
       "      <td>0.0</td>\n",
       "      <td>0.0</td>\n",
       "      <td>0.0</td>\n",
       "      <td>0.0</td>\n",
       "    </tr>\n",
       "    <tr>\n",
       "      <th>1</th>\n",
       "      <td>p039565</td>\n",
       "      <td>df72a3ba8089423fa8a94be88060f6ed</td>\n",
       "      <td>Mrs.</td>\n",
       "      <td>GA</td>\n",
       "      <td>2017-04-26 15:57:28</td>\n",
       "      <td>Grades 3-5</td>\n",
       "      <td>Keep Calm and Dance On</td>\n",
       "      <td>Our elementary school is a culturally rich sch...</td>\n",
       "      <td>We strive to provide our diverse population of...</td>\n",
       "      <td>NaN</td>\n",
       "      <td>...</td>\n",
       "      <td>0.0</td>\n",
       "      <td>0.0</td>\n",
       "      <td>0.0</td>\n",
       "      <td>0.0</td>\n",
       "      <td>1.0</td>\n",
       "      <td>0.0</td>\n",
       "      <td>0.0</td>\n",
       "      <td>1.0</td>\n",
       "      <td>0.0</td>\n",
       "      <td>0.0</td>\n",
       "    </tr>\n",
       "    <tr>\n",
       "      <th>2</th>\n",
       "      <td>p233823</td>\n",
       "      <td>a9b876a9252e08a55e3d894150f75ba3</td>\n",
       "      <td>Ms.</td>\n",
       "      <td>UT</td>\n",
       "      <td>2017-01-01 22:57:44</td>\n",
       "      <td>Grades 3-5</td>\n",
       "      <td>Lets 3Doodle to Learn</td>\n",
       "      <td>Hello;\\r\\nMy name is Mrs. Brotherton. I teach ...</td>\n",
       "      <td>We are looking to add some 3Doodler to our cla...</td>\n",
       "      <td>NaN</td>\n",
       "      <td>...</td>\n",
       "      <td>0.0</td>\n",
       "      <td>0.0</td>\n",
       "      <td>0.0</td>\n",
       "      <td>0.0</td>\n",
       "      <td>0.0</td>\n",
       "      <td>0.0</td>\n",
       "      <td>0.0</td>\n",
       "      <td>0.0</td>\n",
       "      <td>0.0</td>\n",
       "      <td>0.0</td>\n",
       "    </tr>\n",
       "    <tr>\n",
       "      <th>3</th>\n",
       "      <td>p185307</td>\n",
       "      <td>525fdbb6ec7f538a48beebaa0a51b24f</td>\n",
       "      <td>Mr.</td>\n",
       "      <td>NC</td>\n",
       "      <td>2016-08-12 15:42:11</td>\n",
       "      <td>Grades 3-5</td>\n",
       "      <td>\\\"Kid Inspired\\\" Equipment to Increase Activit...</td>\n",
       "      <td>My students are the greatest students but are ...</td>\n",
       "      <td>The student's project which is totally \\\"kid-i...</td>\n",
       "      <td>NaN</td>\n",
       "      <td>...</td>\n",
       "      <td>0.0</td>\n",
       "      <td>0.0</td>\n",
       "      <td>0.0</td>\n",
       "      <td>0.0</td>\n",
       "      <td>0.0</td>\n",
       "      <td>0.0</td>\n",
       "      <td>0.0</td>\n",
       "      <td>0.0</td>\n",
       "      <td>0.0</td>\n",
       "      <td>0.0</td>\n",
       "    </tr>\n",
       "    <tr>\n",
       "      <th>4</th>\n",
       "      <td>p013780</td>\n",
       "      <td>a63b5547a7239eae4c1872670848e61a</td>\n",
       "      <td>Mr.</td>\n",
       "      <td>CA</td>\n",
       "      <td>2016-08-06 09:09:11</td>\n",
       "      <td>Grades 6-8</td>\n",
       "      <td>We need clean water for our culinary arts class!</td>\n",
       "      <td>My students are athletes and students who are ...</td>\n",
       "      <td>For some reason in our kitchen the water comes...</td>\n",
       "      <td>NaN</td>\n",
       "      <td>...</td>\n",
       "      <td>0.0</td>\n",
       "      <td>0.0</td>\n",
       "      <td>0.0</td>\n",
       "      <td>0.0</td>\n",
       "      <td>0.0</td>\n",
       "      <td>0.0</td>\n",
       "      <td>0.0</td>\n",
       "      <td>0.0</td>\n",
       "      <td>0.0</td>\n",
       "      <td>0.0</td>\n",
       "    </tr>\n",
       "  </tbody>\n",
       "</table>\n",
       "<p>5 rows × 51 columns</p>\n",
       "</div>"
      ],
      "text/plain": [
       "        id                        teacher_id teacher_prefix school_state  \\\n",
       "0  p036502  484aaf11257089a66cfedc9461c6bd0a            Ms.           NV   \n",
       "1  p039565  df72a3ba8089423fa8a94be88060f6ed           Mrs.           GA   \n",
       "2  p233823  a9b876a9252e08a55e3d894150f75ba3            Ms.           UT   \n",
       "3  p185307  525fdbb6ec7f538a48beebaa0a51b24f            Mr.           NC   \n",
       "4  p013780  a63b5547a7239eae4c1872670848e61a            Mr.           CA   \n",
       "\n",
       "  project_submitted_datetime project_grade_category  \\\n",
       "0        2016-11-18 14:45:59          Grades PreK-2   \n",
       "1        2017-04-26 15:57:28             Grades 3-5   \n",
       "2        2017-01-01 22:57:44             Grades 3-5   \n",
       "3        2016-08-12 15:42:11             Grades 3-5   \n",
       "4        2016-08-06 09:09:11             Grades 6-8   \n",
       "\n",
       "                                       project_title  \\\n",
       "0                           Super Sight Word Centers   \n",
       "1                             Keep Calm and Dance On   \n",
       "2                              Lets 3Doodle to Learn   \n",
       "3  \\\"Kid Inspired\\\" Equipment to Increase Activit...   \n",
       "4   We need clean water for our culinary arts class!   \n",
       "\n",
       "                                     project_essay_1  \\\n",
       "0  Most of my kindergarten students come from low...   \n",
       "1  Our elementary school is a culturally rich sch...   \n",
       "2  Hello;\\r\\nMy name is Mrs. Brotherton. I teach ...   \n",
       "3  My students are the greatest students but are ...   \n",
       "4  My students are athletes and students who are ...   \n",
       "\n",
       "                                     project_essay_2 project_essay_3  \\\n",
       "0  I currently have a differentiated sight word c...             NaN   \n",
       "1  We strive to provide our diverse population of...             NaN   \n",
       "2  We are looking to add some 3Doodler to our cla...             NaN   \n",
       "3  The student's project which is totally \\\"kid-i...             NaN   \n",
       "4  For some reason in our kitchen the water comes...             NaN   \n",
       "\n",
       "            ...           Music Nutrition Education  Other  \\\n",
       "0           ...             0.0                 0.0    0.0   \n",
       "1           ...             0.0                 0.0    0.0   \n",
       "2           ...             0.0                 0.0    0.0   \n",
       "3           ...             0.0                 0.0    0.0   \n",
       "4           ...             0.0                 0.0    0.0   \n",
       "\n",
       "   Parent Involvement  Performing Arts  Social Sciences  Special Needs_y  \\\n",
       "0                 0.0              0.0              0.0              0.0   \n",
       "1                 0.0              1.0              0.0              0.0   \n",
       "2                 0.0              0.0              0.0              0.0   \n",
       "3                 0.0              0.0              0.0              0.0   \n",
       "4                 0.0              0.0              0.0              0.0   \n",
       "\n",
       "   Team Sports  Visual Arts  Warmth Care & Hunger_y  \n",
       "0          0.0          0.0                     0.0  \n",
       "1          1.0          0.0                     0.0  \n",
       "2          0.0          0.0                     0.0  \n",
       "3          0.0          0.0                     0.0  \n",
       "4          0.0          0.0                     0.0  \n",
       "\n",
       "[5 rows x 51 columns]"
      ]
     },
     "execution_count": 49,
     "metadata": {},
     "output_type": "execute_result"
    }
   ],
   "source": [
    "training.head()"
   ]
  },
  {
   "cell_type": "code",
   "execution_count": 66,
   "metadata": {},
   "outputs": [
    {
     "data": {
      "image/png": "[encoded data removed]",
      "text/plain": [
       "<matplotlib.figure.Figure at 0x1a2b826da0>"
      ]
     },
     "metadata": {},
     "output_type": "display_data"
    }
   ],
   "source": [
    "pd.DataFrame(training[['Applied Learning','Health & Sports','History & Civics','Literacy & Language','Math & Science','Music & The Arts','Special Needs_x','Warmth Care & Hunger_x']].sum(axis=0), columns=['count']).plot.bar()\n",
    "plt.xticks(rotation=75)\n",
    "plt.show()"
   ]
  },
  {
   "cell_type": "code",
   "execution_count": 69,
   "metadata": {},
   "outputs": [
    {
     "data": {
      "text/plain": [
       "<matplotlib.figure.Figure at 0x1a29274c50>"
      ]
     },
     "metadata": {},
     "output_type": "display_data"
    },
    {
     "data": {
      "image/png": "[encoded data removed]",
      "text/plain": [
       "<matplotlib.figure.Figure at 0x1a29274be0>"
      ]
     },
     "metadata": {},
     "output_type": "display_data"
    }
   ],
   "source": [
    "plt.figure(figsize=(20,7))\n",
    "pd.DataFrame(training.loc[:,'Applied Sciences':].sum(axis=0), columns=['count']).plot.bar()\n",
    "plt.show()"
   ]
  },
  {
   "cell_type": "code",
   "execution_count": null,
   "metadata": {
    "collapsed": true
   },
   "outputs": [],
   "source": []
  }
 ],
 "metadata": {
  "kernelspec": {
   "display_name": "Python 3",
   "language": "python",
   "name": "python3"
  },
  "language_info": {
   "codemirror_mode": {
    "name": "ipython",
    "version": 3
   },
   "file_extension": ".py",
   "mimetype": "text/x-python",
   "name": "python",
   "nbconvert_exporter": "python",
   "pygments_lexer": "ipython3",
   "version": "3.6.1"
  }
 },
 "nbformat": 4,
 "nbformat_minor": 2
}
