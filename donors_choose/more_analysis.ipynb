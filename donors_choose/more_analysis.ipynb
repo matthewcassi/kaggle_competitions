{
 "cells": [
  {
   "cell_type": "code",
   "execution_count": 1,
   "metadata": {},
   "outputs": [],
   "source": [
    "import pandas as pd\n",
    "import numpy as np\n",
    "import matplotlib.pyplot as plt\n",
    "%matplotlib inline\n",
    "import seaborn as sns"
   ]
  },
  {
   "cell_type": "code",
   "execution_count": 3,
   "metadata": {},
   "outputs": [],
   "source": [
    "train = pd.read_csv('train_clean.csv')\n",
    "exc = pd.read_csv('exclamations.csv')\n",
    "approvals = pd.read_csv('approval_prop.csv')\n",
    "resources = pd.read_csv('cleaned_resources.csv', engine='python')"
   ]
  },
  {
   "cell_type": "code",
   "execution_count": 4,
   "metadata": {},
   "outputs": [
    {
     "data": {
      "text/html": [
       "<div>\n",
       "<style scoped>\n",
       "    .dataframe tbody tr th:only-of-type {\n",
       "        vertical-align: middle;\n",
       "    }\n",
       "\n",
       "    .dataframe tbody tr th {\n",
       "        vertical-align: top;\n",
       "    }\n",
       "\n",
       "    .dataframe thead th {\n",
       "        text-align: right;\n",
       "    }\n",
       "</style>\n",
       "<table border=\"1\" class=\"dataframe\">\n",
       "  <thead>\n",
       "    <tr style=\"text-align: right;\">\n",
       "      <th></th>\n",
       "      <th>Unnamed: 0</th>\n",
       "      <th>id</th>\n",
       "      <th>teacher_id</th>\n",
       "      <th>teacher_prefix</th>\n",
       "      <th>school_state</th>\n",
       "      <th>project_submitted_datetime</th>\n",
       "      <th>project_grade_category</th>\n",
       "      <th>project_title</th>\n",
       "      <th>project_essay_1</th>\n",
       "      <th>project_essay_2</th>\n",
       "      <th>...</th>\n",
       "      <th>essay3_count_nostop</th>\n",
       "      <th>essay4_count_nostop</th>\n",
       "      <th>proj_resouce_count_nostop</th>\n",
       "      <th>desc_count_nostop</th>\n",
       "      <th>full_text</th>\n",
       "      <th>tag_text</th>\n",
       "      <th>lemm_text</th>\n",
       "      <th>month</th>\n",
       "      <th>year</th>\n",
       "      <th>dow</th>\n",
       "    </tr>\n",
       "  </thead>\n",
       "  <tbody>\n",
       "    <tr>\n",
       "      <th>0</th>\n",
       "      <td>0</td>\n",
       "      <td>p036502</td>\n",
       "      <td>484aaf11257089a66cfedc9461c6bd0a</td>\n",
       "      <td>Ms.</td>\n",
       "      <td>NV</td>\n",
       "      <td>2016-11-18 14:45:59</td>\n",
       "      <td>Grades PreK-2</td>\n",
       "      <td>super sight word centers</td>\n",
       "      <td>kindergarten students come lowincome household...</td>\n",
       "      <td>currently differentiated sight word center dai...</td>\n",
       "      <td>...</td>\n",
       "      <td>0</td>\n",
       "      <td>0</td>\n",
       "      <td>13</td>\n",
       "      <td>22</td>\n",
       "      <td>super sight word centers kindergarten students...</td>\n",
       "      <td>super sight word centers kindergarten student...</td>\n",
       "      <td>super sight word center kindergarten student c...</td>\n",
       "      <td>11</td>\n",
       "      <td>2016</td>\n",
       "      <td>4</td>\n",
       "    </tr>\n",
       "    <tr>\n",
       "      <th>1</th>\n",
       "      <td>1</td>\n",
       "      <td>p039565</td>\n",
       "      <td>df72a3ba8089423fa8a94be88060f6ed</td>\n",
       "      <td>Mrs.</td>\n",
       "      <td>GA</td>\n",
       "      <td>2017-04-26 15:57:28</td>\n",
       "      <td>Grades 3-5</td>\n",
       "      <td>keep calm dance</td>\n",
       "      <td>elementary school culturally rich school diver...</td>\n",
       "      <td>strive provide diverse population students ext...</td>\n",
       "      <td>...</td>\n",
       "      <td>0</td>\n",
       "      <td>0</td>\n",
       "      <td>8</td>\n",
       "      <td>11</td>\n",
       "      <td>keep calm dance elementary school culturally r...</td>\n",
       "      <td>keep calm dance elementary school culturally ...</td>\n",
       "      <td>keep calm dance elementary school culturally r...</td>\n",
       "      <td>4</td>\n",
       "      <td>2017</td>\n",
       "      <td>2</td>\n",
       "    </tr>\n",
       "    <tr>\n",
       "      <th>2</th>\n",
       "      <td>2</td>\n",
       "      <td>p233823</td>\n",
       "      <td>a9b876a9252e08a55e3d894150f75ba3</td>\n",
       "      <td>Ms.</td>\n",
       "      <td>UT</td>\n",
       "      <td>2017-01-01 22:57:44</td>\n",
       "      <td>Grades 3-5</td>\n",
       "      <td>lets doodle learn</td>\n",
       "      <td>hellornmy name mrs brotherton teach th grade a...</td>\n",
       "      <td>looking add doodler classroom would wonderful ...</td>\n",
       "      <td>...</td>\n",
       "      <td>0</td>\n",
       "      <td>0</td>\n",
       "      <td>18</td>\n",
       "      <td>5</td>\n",
       "      <td>lets doodle learn hellornmy name mrs brotherto...</td>\n",
       "      <td>lets doodle learn hellornmy name mrs brothert...</td>\n",
       "      <td>let doodle learn hellornmy name mr brotherton ...</td>\n",
       "      <td>1</td>\n",
       "      <td>2017</td>\n",
       "      <td>6</td>\n",
       "    </tr>\n",
       "    <tr>\n",
       "      <th>3</th>\n",
       "      <td>3</td>\n",
       "      <td>p185307</td>\n",
       "      <td>525fdbb6ec7f538a48beebaa0a51b24f</td>\n",
       "      <td>Mr.</td>\n",
       "      <td>NC</td>\n",
       "      <td>2016-08-12 15:42:11</td>\n",
       "      <td>Grades 3-5</td>\n",
       "      <td>kid inspired equipment increase activities gai...</td>\n",
       "      <td>students greatest students socially economical...</td>\n",
       "      <td>students project totally kidinspireddecided ne...</td>\n",
       "      <td>...</td>\n",
       "      <td>0</td>\n",
       "      <td>0</td>\n",
       "      <td>19</td>\n",
       "      <td>20</td>\n",
       "      <td>kid inspired equipment increase activities gai...</td>\n",
       "      <td>kid inspired equipment increase activities ga...</td>\n",
       "      <td>kid inspire equipment increase activity gain w...</td>\n",
       "      <td>8</td>\n",
       "      <td>2016</td>\n",
       "      <td>4</td>\n",
       "    </tr>\n",
       "    <tr>\n",
       "      <th>4</th>\n",
       "      <td>4</td>\n",
       "      <td>p013780</td>\n",
       "      <td>a63b5547a7239eae4c1872670848e61a</td>\n",
       "      <td>Mr.</td>\n",
       "      <td>CA</td>\n",
       "      <td>2016-08-06 09:09:11</td>\n",
       "      <td>Grades 6-8</td>\n",
       "      <td>need clean water culinary arts class</td>\n",
       "      <td>students athletes students interested health p...</td>\n",
       "      <td>reason kitchen water comes faucet white lookin...</td>\n",
       "      <td>...</td>\n",
       "      <td>0</td>\n",
       "      <td>0</td>\n",
       "      <td>8</td>\n",
       "      <td>8</td>\n",
       "      <td>need clean water culinary arts class students ...</td>\n",
       "      <td>need clean water culinary arts class students...</td>\n",
       "      <td>need clean water culinary art class student at...</td>\n",
       "      <td>8</td>\n",
       "      <td>2016</td>\n",
       "      <td>5</td>\n",
       "    </tr>\n",
       "  </tbody>\n",
       "</table>\n",
       "<p>5 rows × 75 columns</p>\n",
       "</div>"
      ],
      "text/plain": [
       "   Unnamed: 0       id                        teacher_id teacher_prefix  \\\n",
       "0           0  p036502  484aaf11257089a66cfedc9461c6bd0a            Ms.   \n",
       "1           1  p039565  df72a3ba8089423fa8a94be88060f6ed           Mrs.   \n",
       "2           2  p233823  a9b876a9252e08a55e3d894150f75ba3            Ms.   \n",
       "3           3  p185307  525fdbb6ec7f538a48beebaa0a51b24f            Mr.   \n",
       "4           4  p013780  a63b5547a7239eae4c1872670848e61a            Mr.   \n",
       "\n",
       "  school_state project_submitted_datetime project_grade_category  \\\n",
       "0           NV        2016-11-18 14:45:59          Grades PreK-2   \n",
       "1           GA        2017-04-26 15:57:28             Grades 3-5   \n",
       "2           UT        2017-01-01 22:57:44             Grades 3-5   \n",
       "3           NC        2016-08-12 15:42:11             Grades 3-5   \n",
       "4           CA        2016-08-06 09:09:11             Grades 6-8   \n",
       "\n",
       "                                       project_title  \\\n",
       "0                           super sight word centers   \n",
       "1                                    keep calm dance   \n",
       "2                                  lets doodle learn   \n",
       "3  kid inspired equipment increase activities gai...   \n",
       "4               need clean water culinary arts class   \n",
       "\n",
       "                                     project_essay_1  \\\n",
       "0  kindergarten students come lowincome household...   \n",
       "1  elementary school culturally rich school diver...   \n",
       "2  hellornmy name mrs brotherton teach th grade a...   \n",
       "3  students greatest students socially economical...   \n",
       "4  students athletes students interested health p...   \n",
       "\n",
       "                                     project_essay_2 ...  essay3_count_nostop  \\\n",
       "0  currently differentiated sight word center dai... ...                    0   \n",
       "1  strive provide diverse population students ext... ...                    0   \n",
       "2  looking add doodler classroom would wonderful ... ...                    0   \n",
       "3  students project totally kidinspireddecided ne... ...                    0   \n",
       "4  reason kitchen water comes faucet white lookin... ...                    0   \n",
       "\n",
       "  essay4_count_nostop proj_resouce_count_nostop  desc_count_nostop  \\\n",
       "0                   0                        13                 22   \n",
       "1                   0                         8                 11   \n",
       "2                   0                        18                  5   \n",
       "3                   0                        19                 20   \n",
       "4                   0                         8                  8   \n",
       "\n",
       "                                           full_text  \\\n",
       "0  super sight word centers kindergarten students...   \n",
       "1  keep calm dance elementary school culturally r...   \n",
       "2  lets doodle learn hellornmy name mrs brotherto...   \n",
       "3  kid inspired equipment increase activities gai...   \n",
       "4  need clean water culinary arts class students ...   \n",
       "\n",
       "                                            tag_text  \\\n",
       "0   super sight word centers kindergarten student...   \n",
       "1   keep calm dance elementary school culturally ...   \n",
       "2   lets doodle learn hellornmy name mrs brothert...   \n",
       "3   kid inspired equipment increase activities ga...   \n",
       "4   need clean water culinary arts class students...   \n",
       "\n",
       "                                           lemm_text  month  year  dow  \n",
       "0  super sight word center kindergarten student c...     11  2016    4  \n",
       "1  keep calm dance elementary school culturally r...      4  2017    2  \n",
       "2  let doodle learn hellornmy name mr brotherton ...      1  2017    6  \n",
       "3  kid inspire equipment increase activity gain w...      8  2016    4  \n",
       "4  need clean water culinary art class student at...      8  2016    5  \n",
       "\n",
       "[5 rows x 75 columns]"
      ]
     },
     "execution_count": 4,
     "metadata": {},
     "output_type": "execute_result"
    }
   ],
   "source": [
    "train.head()"
   ]
  },
  {
   "cell_type": "code",
   "execution_count": 5,
   "metadata": {},
   "outputs": [],
   "source": [
    "train.drop('Unnamed: 0', 1, inplace=True)"
   ]
  },
  {
   "cell_type": "code",
   "execution_count": 6,
   "metadata": {},
   "outputs": [
    {
     "data": {
      "text/html": [
       "<div>\n",
       "<style scoped>\n",
       "    .dataframe tbody tr th:only-of-type {\n",
       "        vertical-align: middle;\n",
       "    }\n",
       "\n",
       "    .dataframe tbody tr th {\n",
       "        vertical-align: top;\n",
       "    }\n",
       "\n",
       "    .dataframe thead th {\n",
       "        text-align: right;\n",
       "    }\n",
       "</style>\n",
       "<table border=\"1\" class=\"dataframe\">\n",
       "  <thead>\n",
       "    <tr style=\"text-align: right;\">\n",
       "      <th></th>\n",
       "      <th>Unnamed: 0</th>\n",
       "      <th>id</th>\n",
       "      <th>total_exc</th>\n",
       "      <th>title_exc</th>\n",
       "      <th>essay1_exc</th>\n",
       "      <th>essay2_exc</th>\n",
       "      <th>essay3_exc</th>\n",
       "      <th>essay4_exc</th>\n",
       "      <th>resource_exc</th>\n",
       "    </tr>\n",
       "  </thead>\n",
       "  <tbody>\n",
       "    <tr>\n",
       "      <th>0</th>\n",
       "      <td>0</td>\n",
       "      <td>p036502</td>\n",
       "      <td>1</td>\n",
       "      <td>0</td>\n",
       "      <td>1</td>\n",
       "      <td>0</td>\n",
       "      <td>0</td>\n",
       "      <td>0</td>\n",
       "      <td>0</td>\n",
       "    </tr>\n",
       "    <tr>\n",
       "      <th>1</th>\n",
       "      <td>1</td>\n",
       "      <td>p039565</td>\n",
       "      <td>0</td>\n",
       "      <td>0</td>\n",
       "      <td>0</td>\n",
       "      <td>0</td>\n",
       "      <td>0</td>\n",
       "      <td>0</td>\n",
       "      <td>0</td>\n",
       "    </tr>\n",
       "    <tr>\n",
       "      <th>2</th>\n",
       "      <td>2</td>\n",
       "      <td>p233823</td>\n",
       "      <td>0</td>\n",
       "      <td>0</td>\n",
       "      <td>0</td>\n",
       "      <td>0</td>\n",
       "      <td>0</td>\n",
       "      <td>0</td>\n",
       "      <td>0</td>\n",
       "    </tr>\n",
       "    <tr>\n",
       "      <th>3</th>\n",
       "      <td>3</td>\n",
       "      <td>p185307</td>\n",
       "      <td>1</td>\n",
       "      <td>0</td>\n",
       "      <td>0</td>\n",
       "      <td>1</td>\n",
       "      <td>0</td>\n",
       "      <td>0</td>\n",
       "      <td>0</td>\n",
       "    </tr>\n",
       "    <tr>\n",
       "      <th>4</th>\n",
       "      <td>4</td>\n",
       "      <td>p013780</td>\n",
       "      <td>1</td>\n",
       "      <td>1</td>\n",
       "      <td>0</td>\n",
       "      <td>0</td>\n",
       "      <td>0</td>\n",
       "      <td>0</td>\n",
       "      <td>0</td>\n",
       "    </tr>\n",
       "  </tbody>\n",
       "</table>\n",
       "</div>"
      ],
      "text/plain": [
       "   Unnamed: 0       id  total_exc  title_exc  essay1_exc  essay2_exc  \\\n",
       "0           0  p036502          1          0           1           0   \n",
       "1           1  p039565          0          0           0           0   \n",
       "2           2  p233823          0          0           0           0   \n",
       "3           3  p185307          1          0           0           1   \n",
       "4           4  p013780          1          1           0           0   \n",
       "\n",
       "   essay3_exc  essay4_exc  resource_exc  \n",
       "0           0           0             0  \n",
       "1           0           0             0  \n",
       "2           0           0             0  \n",
       "3           0           0             0  \n",
       "4           0           0             0  "
      ]
     },
     "execution_count": 6,
     "metadata": {},
     "output_type": "execute_result"
    }
   ],
   "source": [
    "exc.head()"
   ]
  },
  {
   "cell_type": "code",
   "execution_count": 7,
   "metadata": {},
   "outputs": [],
   "source": [
    "exc.drop('Unnamed: 0', 1, inplace=True)"
   ]
  },
  {
   "cell_type": "code",
   "execution_count": 8,
   "metadata": {},
   "outputs": [
    {
     "data": {
      "text/html": [
       "<div>\n",
       "<style scoped>\n",
       "    .dataframe tbody tr th:only-of-type {\n",
       "        vertical-align: middle;\n",
       "    }\n",
       "\n",
       "    .dataframe tbody tr th {\n",
       "        vertical-align: top;\n",
       "    }\n",
       "\n",
       "    .dataframe thead th {\n",
       "        text-align: right;\n",
       "    }\n",
       "</style>\n",
       "<table border=\"1\" class=\"dataframe\">\n",
       "  <thead>\n",
       "    <tr style=\"text-align: right;\">\n",
       "      <th></th>\n",
       "      <th>teacher_id</th>\n",
       "      <th>per_approved</th>\n",
       "    </tr>\n",
       "  </thead>\n",
       "  <tbody>\n",
       "    <tr>\n",
       "      <th>0</th>\n",
       "      <td>00000f7264c27ba6fea0c837ed6aa0aa</td>\n",
       "      <td>1.0</td>\n",
       "    </tr>\n",
       "    <tr>\n",
       "      <th>1</th>\n",
       "      <td>00002d44003ed46b066607c5455a999a</td>\n",
       "      <td>1.0</td>\n",
       "    </tr>\n",
       "    <tr>\n",
       "      <th>2</th>\n",
       "      <td>00006084c3d92d904a22e0a70f5c119a</td>\n",
       "      <td>1.0</td>\n",
       "    </tr>\n",
       "    <tr>\n",
       "      <th>3</th>\n",
       "      <td>0000a9af8b6b9cc9e41f53322a8b8cf1</td>\n",
       "      <td>1.0</td>\n",
       "    </tr>\n",
       "    <tr>\n",
       "      <th>4</th>\n",
       "      <td>0000d4777d14b33a1406dd6c9019fe89</td>\n",
       "      <td>1.0</td>\n",
       "    </tr>\n",
       "  </tbody>\n",
       "</table>\n",
       "</div>"
      ],
      "text/plain": [
       "                         teacher_id  per_approved\n",
       "0  00000f7264c27ba6fea0c837ed6aa0aa           1.0\n",
       "1  00002d44003ed46b066607c5455a999a           1.0\n",
       "2  00006084c3d92d904a22e0a70f5c119a           1.0\n",
       "3  0000a9af8b6b9cc9e41f53322a8b8cf1           1.0\n",
       "4  0000d4777d14b33a1406dd6c9019fe89           1.0"
      ]
     },
     "execution_count": 8,
     "metadata": {},
     "output_type": "execute_result"
    }
   ],
   "source": [
    "approvals.head()"
   ]
  },
  {
   "cell_type": "code",
   "execution_count": 10,
   "metadata": {},
   "outputs": [],
   "source": [
    "resources = resources[['id','mean_price']]"
   ]
  },
  {
   "cell_type": "code",
   "execution_count": 12,
   "metadata": {},
   "outputs": [],
   "source": [
    "train = train.merge(resources, left_on='id', right_on='id', how='left')\n",
    "train = train.merge(exc, left_on='id', right_on='id', how='left')\n",
    "train = train.merge(approvals, left_on='teacher_id', right_on='teacher_id', how='left')"
   ]
  },
  {
   "cell_type": "code",
   "execution_count": 13,
   "metadata": {},
   "outputs": [
    {
     "data": {
      "text/plain": [
       "Index(['id', 'teacher_id', 'teacher_prefix', 'school_state',\n",
       "       'project_submitted_datetime', 'project_grade_category', 'project_title',\n",
       "       'project_essay_1', 'project_essay_2', 'project_essay_3',\n",
       "       'project_essay_4', 'project_resource_summary',\n",
       "       'teacher_number_of_previously_posted_projects', 'project_is_approved',\n",
       "       'quantity', 'total_price', 'min_quantity', 'max_quantity', 'min_price',\n",
       "       'max_price', 'description', 'Applied Learning', 'Health & Sports',\n",
       "       'History & Civics', 'Literacy & Language', 'Math & Science',\n",
       "       'Music & The Arts', 'Special Needs_x', 'Warmth Care & Hunger_x',\n",
       "       'Applied Sciences', 'Character Education', 'Civics & Government',\n",
       "       'College & Career Prep', 'Community Service', 'ESL',\n",
       "       'Early Development', 'Economics', 'Environmental Science',\n",
       "       'Extracurricular', 'Financial Literacy', 'Foreign Languages',\n",
       "       'Gym & Fitness', 'Health & Life Science', 'Health & Wellness',\n",
       "       'History & Geography', 'Literacy', 'Literature & Writing',\n",
       "       'Mathematics', 'Music', 'Nutrition Education', 'Other',\n",
       "       'Parent Involvement', 'Performing Arts', 'Social Sciences',\n",
       "       'Team Sports', 'Visual Arts', 'essay1_count', 'essay2_count',\n",
       "       'essay3_count', 'essay4_count', 'project_resource_summary_count',\n",
       "       'desc_count', 'essay1_count_nostop', 'essay2_count_nostop',\n",
       "       'essay3_count_nostop', 'essay4_count_nostop',\n",
       "       'proj_resouce_count_nostop', 'desc_count_nostop', 'full_text',\n",
       "       'tag_text', 'lemm_text', 'month', 'year', 'dow', 'mean_price',\n",
       "       'total_exc', 'title_exc', 'essay1_exc', 'essay2_exc', 'essay3_exc',\n",
       "       'essay4_exc', 'resource_exc', 'per_approved'],\n",
       "      dtype='object')"
      ]
     },
     "execution_count": 13,
     "metadata": {},
     "output_type": "execute_result"
    }
   ],
   "source": [
    "train.columns"
   ]
  },
  {
   "cell_type": "code",
   "execution_count": 15,
   "metadata": {},
   "outputs": [
    {
     "data": {
      "image/png": "[encoded data removed]",
      "text/plain": [
       "<matplotlib.figure.Figure at 0x1a160ea978>"
      ]
     },
     "metadata": {},
     "output_type": "display_data"
    }
   ],
   "source": [
    "plt.figure(figsize=(10,20))\n",
    "sns.boxplot(x='project_is_approved', y='total_exc', data=train)\n",
    "plt.show()"
   ]
  },
  {
   "cell_type": "code",
   "execution_count": 16,
   "metadata": {},
   "outputs": [
    {
     "data": {
      "text/plain": [
       "project_is_approved\n",
       "0    2.087713\n",
       "1    2.194289\n",
       "Name: total_exc, dtype: float64"
      ]
     },
     "execution_count": 16,
     "metadata": {},
     "output_type": "execute_result"
    }
   ],
   "source": [
    "train.groupby('project_is_approved')['total_exc'].mean()"
   ]
  },
  {
   "cell_type": "code",
   "execution_count": 19,
   "metadata": {},
   "outputs": [
    {
     "data": {
      "text/plain": [
       "project_is_approved\n",
       "0    2.537638\n",
       "1    2.460198\n",
       "Name: total_exc, dtype: float64"
      ]
     },
     "execution_count": 19,
     "metadata": {},
     "output_type": "execute_result"
    }
   ],
   "source": [
    "train.groupby('project_is_approved')['total_exc'].std()"
   ]
  },
  {
   "cell_type": "code",
   "execution_count": 20,
   "metadata": {},
   "outputs": [
    {
     "data": {
      "text/plain": [
       "project_is_approved\n",
       "0    0.302687\n",
       "1    0.944986\n",
       "Name: per_approved, dtype: float64"
      ]
     },
     "execution_count": 20,
     "metadata": {},
     "output_type": "execute_result"
    }
   ],
   "source": [
    "train.groupby('project_is_approved')['per_approved'].mean()"
   ]
  },
  {
   "cell_type": "code",
   "execution_count": 23,
   "metadata": {},
   "outputs": [
    {
     "data": {
      "text/plain": [
       "project_is_approved\n",
       "0    0.323590\n",
       "1    0.127586\n",
       "Name: per_approved, dtype: float64"
      ]
     },
     "execution_count": 23,
     "metadata": {},
     "output_type": "execute_result"
    }
   ],
   "source": [
    "train.groupby('project_is_approved')['per_approved'].std()"
   ]
  },
  {
   "cell_type": "code",
   "execution_count": 24,
   "metadata": {},
   "outputs": [
    {
     "data": {
      "text/plain": [
       "project_is_approved\n",
       "0    0.0\n",
       "1    1.0\n",
       "Name: per_approved, dtype: float64"
      ]
     },
     "execution_count": 24,
     "metadata": {},
     "output_type": "execute_result"
    }
   ],
   "source": [
    "train.groupby('project_is_approved')['per_approved'].median()"
   ]
  },
  {
   "cell_type": "code",
   "execution_count": 33,
   "metadata": {},
   "outputs": [],
   "source": [
    "train.to_csv('train_clean2.csv')"
   ]
  },
  {
   "cell_type": "code",
   "execution_count": null,
   "metadata": {},
   "outputs": [],
   "source": []
  }
 ],
 "metadata": {
  "kernelspec": {
   "display_name": "Python 3",
   "language": "python",
   "name": "python3"
  },
  "language_info": {
   "codemirror_mode": {
    "name": "ipython",
    "version": 3
   },
   "file_extension": ".py",
   "mimetype": "text/x-python",
   "name": "python",
   "nbconvert_exporter": "python",
   "pygments_lexer": "ipython3",
   "version": "3.6.4"
  }
 },
 "nbformat": 4,
 "nbformat_minor": 2
}
